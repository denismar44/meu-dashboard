{
 "cells": [
  {
   "cell_type": "code",
   "execution_count": 1,
   "id": "14c85196-1520-43fe-b572-c1c77501b033",
   "metadata": {},
   "outputs": [],
   "source": [
    "#!pip install -U openpyxl"
   ]
  },
  {
   "cell_type": "code",
   "execution_count": 2,
   "id": "56a0907e-f5be-4303-96a1-bc9b30d9f8e1",
   "metadata": {},
   "outputs": [],
   "source": [
    "import os\n",
    "import pandas as pd\n",
    "import numpy as np\n",
    "from datetime import date, datetime\n",
    "from openpyxl import load_workbook\n",
    "import warnings\n",
    "warnings.filterwarnings('ignore')"
   ]
  },
  {
   "cell_type": "code",
   "execution_count": 3,
   "id": "50498c40-c4a4-4104-9139-45d38d9b3c78",
   "metadata": {},
   "outputs": [],
   "source": [
    "dh_inicio = datetime.today()"
   ]
  },
  {
   "cell_type": "markdown",
   "id": "baf99a58-3689-443c-8d4d-4d6e7934b36b",
   "metadata": {},
   "source": [
    "### CARGA DO ARQUIVO DA EVOLUÇÃO MASTER"
   ]
  },
  {
   "cell_type": "code",
   "execution_count": 4,
   "id": "39fc3d84-6e5f-448d-9103-fb18829db93f",
   "metadata": {},
   "outputs": [],
   "source": [
    "# Caminho da pasta dos arquivos\n",
    "df_master_evolucao = pd.read_excel(r\"C:\\Projetos\\PPSI\\BASE\\MASTER-Evolucao-C1C2C3C4.xlsx\" , sheet_name = \"Evolucao-PPSI\")"
   ]
  },
  {
   "cell_type": "code",
   "execution_count": 5,
   "id": "3f9ac59b-628b-406a-ad3e-d3e2501f1092",
   "metadata": {},
   "outputs": [],
   "source": [
    "# Renomeando a coluna\n",
    "df_master_evolucao = df_master_evolucao.rename(columns={'CICLO': 'Ciclo_Entrega'})"
   ]
  },
  {
   "cell_type": "code",
   "execution_count": 6,
   "id": "11bee7fc-02c7-4fa3-be58-50037558de62",
   "metadata": {},
   "outputs": [],
   "source": [
    "df_master_evolucao = df_master_evolucao.rename(columns={'Estrut. Básica': 'iBase'})"
   ]
  },
  {
   "cell_type": "code",
   "execution_count": 7,
   "id": "26507720-b118-41a3-b781-ae55a874b1c0",
   "metadata": {},
   "outputs": [
    {
     "name": "stdout",
     "output_type": "stream",
     "text": [
      "<class 'pandas.core.frame.DataFrame'>\n",
      "RangeIndex: 1014 entries, 0 to 1013\n",
      "Data columns (total 9 columns):\n",
      " #   Column         Non-Null Count  Dtype \n",
      "---  ------         --------------  ----- \n",
      " 0   Categoria      1014 non-null   object\n",
      " 1   Órgão          1014 non-null   object\n",
      " 2   iBase          1010 non-null   object\n",
      " 3   iSeg           1010 non-null   object\n",
      " 4   iPriv          1010 non-null   object\n",
      " 5   Ciclo_Entrega  1014 non-null   int64 \n",
      " 6   ANO            1014 non-null   int64 \n",
      " 7   SEMESTRE       1014 non-null   int64 \n",
      " 8   Região         1014 non-null   object\n",
      "dtypes: int64(3), object(6)\n",
      "memory usage: 71.4+ KB\n"
     ]
    }
   ],
   "source": [
    "df_master_evolucao.info()"
   ]
  },
  {
   "cell_type": "code",
   "execution_count": 8,
   "id": "25d8bbad-e619-4b95-adc0-834a57575e19",
   "metadata": {},
   "outputs": [
    {
     "data": {
      "text/html": [
       "<div>\n",
       "<style scoped>\n",
       "    .dataframe tbody tr th:only-of-type {\n",
       "        vertical-align: middle;\n",
       "    }\n",
       "\n",
       "    .dataframe tbody tr th {\n",
       "        vertical-align: top;\n",
       "    }\n",
       "\n",
       "    .dataframe thead th {\n",
       "        text-align: right;\n",
       "    }\n",
       "</style>\n",
       "<table border=\"1\" class=\"dataframe\">\n",
       "  <thead>\n",
       "    <tr style=\"text-align: right;\">\n",
       "      <th></th>\n",
       "      <th>Categoria</th>\n",
       "      <th>Órgão</th>\n",
       "      <th>iBase</th>\n",
       "      <th>iSeg</th>\n",
       "      <th>iPriv</th>\n",
       "      <th>Ciclo_Entrega</th>\n",
       "      <th>ANO</th>\n",
       "      <th>SEMESTRE</th>\n",
       "      <th>Região</th>\n",
       "    </tr>\n",
       "  </thead>\n",
       "  <tbody>\n",
       "    <tr>\n",
       "      <th>0</th>\n",
       "      <td>Agência</td>\n",
       "      <td>ABIN</td>\n",
       "      <td>1</td>\n",
       "      <td>0.73</td>\n",
       "      <td>0.52</td>\n",
       "      <td>1</td>\n",
       "      <td>2023</td>\n",
       "      <td>1</td>\n",
       "      <td>Centro-Oeste</td>\n",
       "    </tr>\n",
       "    <tr>\n",
       "      <th>1</th>\n",
       "      <td>Agência</td>\n",
       "      <td>AEB</td>\n",
       "      <td>0.9</td>\n",
       "      <td>0.76</td>\n",
       "      <td>0.41</td>\n",
       "      <td>1</td>\n",
       "      <td>2023</td>\n",
       "      <td>1</td>\n",
       "      <td>Centro-Oeste</td>\n",
       "    </tr>\n",
       "    <tr>\n",
       "      <th>2</th>\n",
       "      <td>Especiais</td>\n",
       "      <td>AGU</td>\n",
       "      <td>0.26</td>\n",
       "      <td>0.39</td>\n",
       "      <td>0.23</td>\n",
       "      <td>1</td>\n",
       "      <td>2023</td>\n",
       "      <td>1</td>\n",
       "      <td>Centro-Oeste</td>\n",
       "    </tr>\n",
       "    <tr>\n",
       "      <th>3</th>\n",
       "      <td>Agência</td>\n",
       "      <td>ANA</td>\n",
       "      <td>1</td>\n",
       "      <td>0.72</td>\n",
       "      <td>0.88</td>\n",
       "      <td>1</td>\n",
       "      <td>2023</td>\n",
       "      <td>1</td>\n",
       "      <td>Centro-Oeste</td>\n",
       "    </tr>\n",
       "    <tr>\n",
       "      <th>4</th>\n",
       "      <td>Agência</td>\n",
       "      <td>ANAC</td>\n",
       "      <td>1</td>\n",
       "      <td>0.546</td>\n",
       "      <td>0.67</td>\n",
       "      <td>1</td>\n",
       "      <td>2023</td>\n",
       "      <td>1</td>\n",
       "      <td>Centro-Oeste</td>\n",
       "    </tr>\n",
       "  </tbody>\n",
       "</table>\n",
       "</div>"
      ],
      "text/plain": [
       "   Categoria Órgão iBase   iSeg iPriv  Ciclo_Entrega   ANO  SEMESTRE  \\\n",
       "0    Agência  ABIN     1   0.73  0.52              1  2023         1   \n",
       "1    Agência   AEB   0.9   0.76  0.41              1  2023         1   \n",
       "2  Especiais   AGU  0.26   0.39  0.23              1  2023         1   \n",
       "3    Agência   ANA     1   0.72  0.88              1  2023         1   \n",
       "4    Agência  ANAC     1  0.546  0.67              1  2023         1   \n",
       "\n",
       "         Região  \n",
       "0  Centro-Oeste  \n",
       "1  Centro-Oeste  \n",
       "2  Centro-Oeste  \n",
       "3  Centro-Oeste  \n",
       "4  Centro-Oeste  "
      ]
     },
     "execution_count": 8,
     "metadata": {},
     "output_type": "execute_result"
    }
   ],
   "source": [
    "df_master_evolucao.head()"
   ]
  },
  {
   "cell_type": "code",
   "execution_count": 9,
   "id": "3bdc6767-1f5d-4b0d-9d9e-6316b671e03a",
   "metadata": {},
   "outputs": [],
   "source": [
    "# Renomeando os valores da coluna `ciclo_entrega`\n",
    "df_master_evolucao['Ciclo_Entrega'] = df_master_evolucao['Ciclo_Entrega'].apply(lambda x: f'C{x}')"
   ]
  },
  {
   "cell_type": "code",
   "execution_count": 10,
   "id": "b017d8bd-873c-4266-92bb-626e48249e2a",
   "metadata": {},
   "outputs": [
    {
     "data": {
      "text/html": [
       "<div>\n",
       "<style scoped>\n",
       "    .dataframe tbody tr th:only-of-type {\n",
       "        vertical-align: middle;\n",
       "    }\n",
       "\n",
       "    .dataframe tbody tr th {\n",
       "        vertical-align: top;\n",
       "    }\n",
       "\n",
       "    .dataframe thead th {\n",
       "        text-align: right;\n",
       "    }\n",
       "</style>\n",
       "<table border=\"1\" class=\"dataframe\">\n",
       "  <thead>\n",
       "    <tr style=\"text-align: right;\">\n",
       "      <th></th>\n",
       "      <th>Categoria</th>\n",
       "      <th>Órgão</th>\n",
       "      <th>iBase</th>\n",
       "      <th>iSeg</th>\n",
       "      <th>iPriv</th>\n",
       "      <th>Ciclo_Entrega</th>\n",
       "      <th>ANO</th>\n",
       "      <th>SEMESTRE</th>\n",
       "      <th>Região</th>\n",
       "    </tr>\n",
       "  </thead>\n",
       "  <tbody>\n",
       "    <tr>\n",
       "      <th>0</th>\n",
       "      <td>Agência</td>\n",
       "      <td>ABIN</td>\n",
       "      <td>1</td>\n",
       "      <td>0.73</td>\n",
       "      <td>0.52</td>\n",
       "      <td>C1</td>\n",
       "      <td>2023</td>\n",
       "      <td>1</td>\n",
       "      <td>Centro-Oeste</td>\n",
       "    </tr>\n",
       "    <tr>\n",
       "      <th>1</th>\n",
       "      <td>Agência</td>\n",
       "      <td>AEB</td>\n",
       "      <td>0.9</td>\n",
       "      <td>0.76</td>\n",
       "      <td>0.41</td>\n",
       "      <td>C1</td>\n",
       "      <td>2023</td>\n",
       "      <td>1</td>\n",
       "      <td>Centro-Oeste</td>\n",
       "    </tr>\n",
       "    <tr>\n",
       "      <th>2</th>\n",
       "      <td>Especiais</td>\n",
       "      <td>AGU</td>\n",
       "      <td>0.26</td>\n",
       "      <td>0.39</td>\n",
       "      <td>0.23</td>\n",
       "      <td>C1</td>\n",
       "      <td>2023</td>\n",
       "      <td>1</td>\n",
       "      <td>Centro-Oeste</td>\n",
       "    </tr>\n",
       "    <tr>\n",
       "      <th>3</th>\n",
       "      <td>Agência</td>\n",
       "      <td>ANA</td>\n",
       "      <td>1</td>\n",
       "      <td>0.72</td>\n",
       "      <td>0.88</td>\n",
       "      <td>C1</td>\n",
       "      <td>2023</td>\n",
       "      <td>1</td>\n",
       "      <td>Centro-Oeste</td>\n",
       "    </tr>\n",
       "    <tr>\n",
       "      <th>4</th>\n",
       "      <td>Agência</td>\n",
       "      <td>ANAC</td>\n",
       "      <td>1</td>\n",
       "      <td>0.546</td>\n",
       "      <td>0.67</td>\n",
       "      <td>C1</td>\n",
       "      <td>2023</td>\n",
       "      <td>1</td>\n",
       "      <td>Centro-Oeste</td>\n",
       "    </tr>\n",
       "  </tbody>\n",
       "</table>\n",
       "</div>"
      ],
      "text/plain": [
       "   Categoria Órgão iBase   iSeg iPriv Ciclo_Entrega   ANO  SEMESTRE  \\\n",
       "0    Agência  ABIN     1   0.73  0.52            C1  2023         1   \n",
       "1    Agência   AEB   0.9   0.76  0.41            C1  2023         1   \n",
       "2  Especiais   AGU  0.26   0.39  0.23            C1  2023         1   \n",
       "3    Agência   ANA     1   0.72  0.88            C1  2023         1   \n",
       "4    Agência  ANAC     1  0.546  0.67            C1  2023         1   \n",
       "\n",
       "         Região  \n",
       "0  Centro-Oeste  \n",
       "1  Centro-Oeste  \n",
       "2  Centro-Oeste  \n",
       "3  Centro-Oeste  \n",
       "4  Centro-Oeste  "
      ]
     },
     "execution_count": 10,
     "metadata": {},
     "output_type": "execute_result"
    }
   ],
   "source": [
    "df_master_evolucao.head()"
   ]
  },
  {
   "cell_type": "code",
   "execution_count": 11,
   "id": "a1448365-7bd8-415f-b381-fc1179ae5a42",
   "metadata": {},
   "outputs": [],
   "source": [
    "# Manter a coluna como float\n",
    "df_master_evolucao['iBase'] = pd.to_numeric(df_master_evolucao['iBase'], errors='coerce')\n",
    "\n",
    "# Exibir com vírgula (sem alterar tipo para 'object')\n",
    "df_master_evolucao['iBase'] = df_master_evolucao['iBase'].apply(lambda x: f'{x:.2f}'.replace('.', ',') if pd.notnull(x) else '')\n",
    "\n",
    "\n",
    "# Manter a coluna como float\n",
    "df_master_evolucao['iSeg'] = pd.to_numeric(df_master_evolucao['iSeg'], errors='coerce')\n",
    "\n",
    "# Exibir com vírgula (sem alterar tipo para 'object')\n",
    "df_master_evolucao['iSeg'] = df_master_evolucao['iSeg'].apply(lambda x: f'{x:.2f}'.replace('.', ',') if pd.notnull(x) else '')\n",
    "\n",
    "# Manter a coluna como float\n",
    "df_master_evolucao['iPriv'] = pd.to_numeric(df_master_evolucao['iPriv'], errors='coerce')\n",
    "\n",
    "# Exibir com vírgula (sem alterar tipo para 'object')\n",
    "df_master_evolucao['iPriv'] = df_master_evolucao['iPriv'].apply(lambda x: f'{x:.2f}'.replace('.', ',') if pd.notnull(x) else '')\n",
    "\n"
   ]
  },
  {
   "cell_type": "code",
   "execution_count": 12,
   "id": "67bc8edb-0991-446c-88a0-3707b6f088f7",
   "metadata": {},
   "outputs": [],
   "source": [
    "df_master_evolucao = df_master_evolucao.rename(columns={'Órgão': 'Nome da Origem.1'})"
   ]
  },
  {
   "cell_type": "code",
   "execution_count": 13,
   "id": "e92ff737-554c-45ee-995e-425591709563",
   "metadata": {},
   "outputs": [],
   "source": [
    "# Substitui \"C1\" por \"Ciclo 1\", \"C2\" por \"Ciclo 2\", etc.\n",
    "df_master_evolucao['Ciclo_Entrega'] = df_master_evolucao['Ciclo_Entrega'].str.extract(r'(\\d+)')[0].astype(int).apply(lambda x: f'Ciclo {x}')"
   ]
  },
  {
   "cell_type": "code",
   "execution_count": 14,
   "id": "1d87c72f-78b6-4000-a8d0-38b814bd99a4",
   "metadata": {},
   "outputs": [],
   "source": [
    "# Substitui \"C1\" por \"Ciclo 1\", \"C2\" por \"Ciclo 2\", etc.\n",
    "df_master_evolucao['Ciclo_Entrega'] = df_master_evolucao['Ciclo_Entrega'].str.extract(r'(\\d+)')[0].astype(int).apply(lambda x: f'Ciclo {x}')\n",
    "# Salva em Excel\n",
    "df_master_evolucao.to_csv(r\"C:\\Users\\denis\\OneDrive\\Documentos\\python\\meuambiente\\Scripts\\PPSI\\FONTE_PAINEL\\Evolucao-PPSI_C.csv\", index=False)"
   ]
  },
  {
   "cell_type": "markdown",
   "id": "eb7f12cf-77b5-4e8a-9a69-a43ae768384e",
   "metadata": {},
   "source": [
    "### MASTER_INDICADORES_CONSOLIDADO"
   ]
  },
  {
   "cell_type": "code",
   "execution_count": 15,
   "id": "7478f00c-c3e9-4bc1-b5f8-bda999d783c6",
   "metadata": {},
   "outputs": [
    {
     "ename": "FileNotFoundError",
     "evalue": "[Errno 2] No such file or directory: 'C:\\\\Users\\\\denis\\\\OneDrive\\\\Documentos\\\\python\\\\meuambiente\\\\Scripts\\\\PPSI\\\\BASE\\\\2025-Master - Lista Orgaos SISP - Agrupamento PPSI - Protected.xlsx'",
     "output_type": "error",
     "traceback": [
      "\u001b[1;31m---------------------------------------------------------------------------\u001b[0m",
      "\u001b[1;31mFileNotFoundError\u001b[0m                         Traceback (most recent call last)",
      "Cell \u001b[1;32mIn[15], line 36\u001b[0m\n\u001b[0;32m     32\u001b[0m tabelas \u001b[38;5;241m=\u001b[39m []\n\u001b[0;32m     34\u001b[0m \u001b[38;5;28;01mfor\u001b[39;00m nome_aba, (indices, nomes_colunas) \u001b[38;5;129;01min\u001b[39;00m colunas_por_aba\u001b[38;5;241m.\u001b[39mitems():\n\u001b[0;32m     35\u001b[0m     \u001b[38;5;66;03m# Lê as colunas por índice\u001b[39;00m\n\u001b[1;32m---> 36\u001b[0m     df \u001b[38;5;241m=\u001b[39m pd\u001b[38;5;241m.\u001b[39mread_excel(arquivo, sheet_name\u001b[38;5;241m=\u001b[39mnome_aba, usecols\u001b[38;5;241m=\u001b[39mindices, header\u001b[38;5;241m=\u001b[39m\u001b[38;5;241m0\u001b[39m)\n\u001b[0;32m     38\u001b[0m     \u001b[38;5;66;03m# Renomeia as colunas conforme desejado\u001b[39;00m\n\u001b[0;32m     39\u001b[0m     df\u001b[38;5;241m.\u001b[39mcolumns \u001b[38;5;241m=\u001b[39m nomes_colunas\n",
      "File \u001b[1;32m~\\anaconda3\\Lib\\site-packages\\pandas\\io\\excel\\_base.py:495\u001b[0m, in \u001b[0;36mread_excel\u001b[1;34m(io, sheet_name, header, names, index_col, usecols, dtype, engine, converters, true_values, false_values, skiprows, nrows, na_values, keep_default_na, na_filter, verbose, parse_dates, date_parser, date_format, thousands, decimal, comment, skipfooter, storage_options, dtype_backend, engine_kwargs)\u001b[0m\n\u001b[0;32m    493\u001b[0m \u001b[38;5;28;01mif\u001b[39;00m \u001b[38;5;129;01mnot\u001b[39;00m \u001b[38;5;28misinstance\u001b[39m(io, ExcelFile):\n\u001b[0;32m    494\u001b[0m     should_close \u001b[38;5;241m=\u001b[39m \u001b[38;5;28;01mTrue\u001b[39;00m\n\u001b[1;32m--> 495\u001b[0m     io \u001b[38;5;241m=\u001b[39m ExcelFile(\n\u001b[0;32m    496\u001b[0m         io,\n\u001b[0;32m    497\u001b[0m         storage_options\u001b[38;5;241m=\u001b[39mstorage_options,\n\u001b[0;32m    498\u001b[0m         engine\u001b[38;5;241m=\u001b[39mengine,\n\u001b[0;32m    499\u001b[0m         engine_kwargs\u001b[38;5;241m=\u001b[39mengine_kwargs,\n\u001b[0;32m    500\u001b[0m     )\n\u001b[0;32m    501\u001b[0m \u001b[38;5;28;01melif\u001b[39;00m engine \u001b[38;5;129;01mand\u001b[39;00m engine \u001b[38;5;241m!=\u001b[39m io\u001b[38;5;241m.\u001b[39mengine:\n\u001b[0;32m    502\u001b[0m     \u001b[38;5;28;01mraise\u001b[39;00m \u001b[38;5;167;01mValueError\u001b[39;00m(\n\u001b[0;32m    503\u001b[0m         \u001b[38;5;124m\"\u001b[39m\u001b[38;5;124mEngine should not be specified when passing \u001b[39m\u001b[38;5;124m\"\u001b[39m\n\u001b[0;32m    504\u001b[0m         \u001b[38;5;124m\"\u001b[39m\u001b[38;5;124man ExcelFile - ExcelFile already has the engine set\u001b[39m\u001b[38;5;124m\"\u001b[39m\n\u001b[0;32m    505\u001b[0m     )\n",
      "File \u001b[1;32m~\\anaconda3\\Lib\\site-packages\\pandas\\io\\excel\\_base.py:1550\u001b[0m, in \u001b[0;36mExcelFile.__init__\u001b[1;34m(self, path_or_buffer, engine, storage_options, engine_kwargs)\u001b[0m\n\u001b[0;32m   1548\u001b[0m     ext \u001b[38;5;241m=\u001b[39m \u001b[38;5;124m\"\u001b[39m\u001b[38;5;124mxls\u001b[39m\u001b[38;5;124m\"\u001b[39m\n\u001b[0;32m   1549\u001b[0m \u001b[38;5;28;01melse\u001b[39;00m:\n\u001b[1;32m-> 1550\u001b[0m     ext \u001b[38;5;241m=\u001b[39m inspect_excel_format(\n\u001b[0;32m   1551\u001b[0m         content_or_path\u001b[38;5;241m=\u001b[39mpath_or_buffer, storage_options\u001b[38;5;241m=\u001b[39mstorage_options\n\u001b[0;32m   1552\u001b[0m     )\n\u001b[0;32m   1553\u001b[0m     \u001b[38;5;28;01mif\u001b[39;00m ext \u001b[38;5;129;01mis\u001b[39;00m \u001b[38;5;28;01mNone\u001b[39;00m:\n\u001b[0;32m   1554\u001b[0m         \u001b[38;5;28;01mraise\u001b[39;00m \u001b[38;5;167;01mValueError\u001b[39;00m(\n\u001b[0;32m   1555\u001b[0m             \u001b[38;5;124m\"\u001b[39m\u001b[38;5;124mExcel file format cannot be determined, you must specify \u001b[39m\u001b[38;5;124m\"\u001b[39m\n\u001b[0;32m   1556\u001b[0m             \u001b[38;5;124m\"\u001b[39m\u001b[38;5;124man engine manually.\u001b[39m\u001b[38;5;124m\"\u001b[39m\n\u001b[0;32m   1557\u001b[0m         )\n",
      "File \u001b[1;32m~\\anaconda3\\Lib\\site-packages\\pandas\\io\\excel\\_base.py:1402\u001b[0m, in \u001b[0;36minspect_excel_format\u001b[1;34m(content_or_path, storage_options)\u001b[0m\n\u001b[0;32m   1399\u001b[0m \u001b[38;5;28;01mif\u001b[39;00m \u001b[38;5;28misinstance\u001b[39m(content_or_path, \u001b[38;5;28mbytes\u001b[39m):\n\u001b[0;32m   1400\u001b[0m     content_or_path \u001b[38;5;241m=\u001b[39m BytesIO(content_or_path)\n\u001b[1;32m-> 1402\u001b[0m \u001b[38;5;28;01mwith\u001b[39;00m get_handle(\n\u001b[0;32m   1403\u001b[0m     content_or_path, \u001b[38;5;124m\"\u001b[39m\u001b[38;5;124mrb\u001b[39m\u001b[38;5;124m\"\u001b[39m, storage_options\u001b[38;5;241m=\u001b[39mstorage_options, is_text\u001b[38;5;241m=\u001b[39m\u001b[38;5;28;01mFalse\u001b[39;00m\n\u001b[0;32m   1404\u001b[0m ) \u001b[38;5;28;01mas\u001b[39;00m handle:\n\u001b[0;32m   1405\u001b[0m     stream \u001b[38;5;241m=\u001b[39m handle\u001b[38;5;241m.\u001b[39mhandle\n\u001b[0;32m   1406\u001b[0m     stream\u001b[38;5;241m.\u001b[39mseek(\u001b[38;5;241m0\u001b[39m)\n",
      "File \u001b[1;32m~\\anaconda3\\Lib\\site-packages\\pandas\\io\\common.py:882\u001b[0m, in \u001b[0;36mget_handle\u001b[1;34m(path_or_buf, mode, encoding, compression, memory_map, is_text, errors, storage_options)\u001b[0m\n\u001b[0;32m    873\u001b[0m         handle \u001b[38;5;241m=\u001b[39m \u001b[38;5;28mopen\u001b[39m(\n\u001b[0;32m    874\u001b[0m             handle,\n\u001b[0;32m    875\u001b[0m             ioargs\u001b[38;5;241m.\u001b[39mmode,\n\u001b[1;32m   (...)\u001b[0m\n\u001b[0;32m    878\u001b[0m             newline\u001b[38;5;241m=\u001b[39m\u001b[38;5;124m\"\u001b[39m\u001b[38;5;124m\"\u001b[39m,\n\u001b[0;32m    879\u001b[0m         )\n\u001b[0;32m    880\u001b[0m     \u001b[38;5;28;01melse\u001b[39;00m:\n\u001b[0;32m    881\u001b[0m         \u001b[38;5;66;03m# Binary mode\u001b[39;00m\n\u001b[1;32m--> 882\u001b[0m         handle \u001b[38;5;241m=\u001b[39m \u001b[38;5;28mopen\u001b[39m(handle, ioargs\u001b[38;5;241m.\u001b[39mmode)\n\u001b[0;32m    883\u001b[0m     handles\u001b[38;5;241m.\u001b[39mappend(handle)\n\u001b[0;32m    885\u001b[0m \u001b[38;5;66;03m# Convert BytesIO or file objects passed with an encoding\u001b[39;00m\n",
      "\u001b[1;31mFileNotFoundError\u001b[0m: [Errno 2] No such file or directory: 'C:\\\\Users\\\\denis\\\\OneDrive\\\\Documentos\\\\python\\\\meuambiente\\\\Scripts\\\\PPSI\\\\BASE\\\\2025-Master - Lista Orgaos SISP - Agrupamento PPSI - Protected.xlsx'"
     ]
    }
   ],
   "source": [
    "# Caminho do arquivo\n",
    "arquivo = (r\"C:\\Users\\denis\\OneDrive\\Documentos\\python\\meuambiente\\Scripts\\PPSI\\BASE\\2025-Master - Lista Orgaos SISP - Agrupamento PPSI - Protected.xlsx\")\n",
    "\n",
    "# Mapeamento: nome da aba → (índices das colunas a ler, nomes novos)\n",
    "colunas_por_aba = {\n",
    "    'Historico-MASTER-C1': \n",
    "                ([1, 2, 6, 7, 8, 12, 13, 14, 15, 16, 17, 18, 19], \n",
    "                ['Categoria','Órgão', 'iBase', 'iSeg', 'iPriv', 'Tipo', 'Órgão.1', \n",
    "                 'Órgão-Sigla', 'Órgão-Nome', 'Setor', 'UF', 'Município', 'Região']), \n",
    "    'Historico-MASTER-C2':     \n",
    "                ([2, 3, 7, 8, 9, 16, 17, 20, 21, 22, 23, 24, 25],  \n",
    "                ['Categoria','Órgão', 'iBase', 'iSeg', 'iPriv', 'Tipo', 'Órgão.1', \n",
    "                 'Órgão-Sigla', 'Órgão-Nome', 'Setor', 'UF', 'Município', 'Região']),\n",
    "    'Historico-MASTER-C3': \n",
    "                ([2, 3, 7, 8, 9, 19, 20, 23, 24, 25, 26, 27, 28],  \n",
    "                ['Categoria','Órgão', 'iBase', 'iSeg', 'iPriv', 'Tipo', 'Órgão.1', \n",
    "                 'Órgão-Sigla', 'Órgão-Nome', 'Setor', 'UF', 'Município', 'Região']),\n",
    "    'Atual-MASTER-C4': \n",
    "                ([3, 4, 8, 9, 10, 23, 24, 27, 28, 29, 30, 31, 32], \n",
    "                ['Categoria','Órgão', 'iBase', 'iSeg', 'iPriv', 'Tipo', 'Órgão.1', \n",
    "                 'Órgão-Sigla', 'Órgão-Nome', 'Setor', 'UF', 'Município', 'Região'])\n",
    "}\n",
    "\n",
    "# Mapeamento: nome da aba → valor da coluna 'CICLO'\n",
    "ciclo_por_aba = {\n",
    "    'Historico-MASTER-C1': 'C1',\n",
    "    'Historico-MASTER-C2': 'C2',\n",
    "    'Historico-MASTER-C3': 'C3',\n",
    "    'Atual-MASTER-C4': 'C4'    \n",
    "}\n",
    "\n",
    "tabelas = []\n",
    "\n",
    "for nome_aba, (indices, nomes_colunas) in colunas_por_aba.items():\n",
    "    # Lê as colunas por índice\n",
    "    df = pd.read_excel(arquivo, sheet_name=nome_aba, usecols=indices, header=0)\n",
    "    \n",
    "    # Renomeia as colunas conforme desejado\n",
    "    df.columns = nomes_colunas\n",
    "    \n",
    "    # Adiciona colunas auxiliares\n",
    "   # df['aba'] = nome_aba\n",
    "    df['Ciclo_Entrega'] = ciclo_por_aba[nome_aba]\n",
    "\n",
    "    # Mapas para ano e semestre\n",
    "    ano_map = {1: 2023, 2: 2023, 3: 2024, 4: 2024}\n",
    "    semestre_map = {1: 1, 2: 2, 3: 1, 4: 2}\n",
    "    \n",
    "    # Criar colunas ano e semestre\n",
    "#    df['ANO'] = df['Ciclo_Entrega'].map(ano_map)\n",
    "#    df['SEMESTRE'] = df['Ciclo_Entrega'].map(semestre_map)\n",
    "\n",
    "    tabelas.append(df)\n",
    "\n",
    "# Junta tudo\n",
    "df_master_indicadores = pd.concat(tabelas, ignore_index=True)"
   ]
  },
  {
   "cell_type": "code",
   "execution_count": null,
   "id": "c7c7ca22-0fa2-48aa-aa43-9de85044f5e2",
   "metadata": {},
   "outputs": [],
   "source": [
    "df_master_indicadores = df_master_indicadores.rename(columns={'Órgão': 'Nome da Origem.1'})"
   ]
  },
  {
   "cell_type": "code",
   "execution_count": null,
   "id": "83efadb3-44c5-4578-bf3c-12ac8e7259ea",
   "metadata": {},
   "outputs": [],
   "source": [
    "df_master_indicadores = df_master_indicadores.rename(columns={'Estrut. Básica': 'iBase'})"
   ]
  },
  {
   "cell_type": "code",
   "execution_count": null,
   "id": "db6c78af-b6fb-41b3-a3e9-3fa37c34fad2",
   "metadata": {},
   "outputs": [],
   "source": [
    " # Primeiro, extrai o número do ciclo como inteiro\n",
    "df_master_indicadores['numero_ciclo'] = df_master_indicadores['Ciclo_Entrega'].str.extract(r'(\\d+)').astype(int)\n",
    "\n",
    "# Define o ano e semestre a partir do número do ciclo\n",
    "df_master_indicadores['Ano'] = 2023 + ((df_master_indicadores['numero_ciclo'] - 1) // 2)\n",
    "df_master_indicadores['Semestre'] = ((df_master_indicadores['numero_ciclo'] - 1) % 2) + 1\n",
    "\n",
    "# Remove a coluna auxiliar se quiser\n",
    "df_master_indicadores = df_master_indicadores.drop(columns='numero_ciclo')"
   ]
  },
  {
   "cell_type": "code",
   "execution_count": null,
   "id": "97502a46-db77-4c63-a37f-f09f88770879",
   "metadata": {},
   "outputs": [],
   "source": [
    "# Manter a coluna como float\n",
    "df_master_indicadores['iBase'] = pd.to_numeric(df_master_indicadores['iBase'], errors='coerce')\n",
    "\n",
    "# Exibir com vírgula (sem alterar tipo para 'object')\n",
    "df_master_indicadores['iBase'] = df_master_indicadores['iBase'].apply(lambda x: f'{x:.2f}'.replace('.', ',') if pd.notnull(x) else '')\n",
    "\n",
    "\n",
    "# Manter a coluna como float\n",
    "df_master_indicadores['iSeg'] = pd.to_numeric(df_master_indicadores['iSeg'], errors='coerce')\n",
    "\n",
    "# Exibir com vírgula (sem alterar tipo para 'object')\n",
    "df_master_indicadores['iSeg'] = df_master_indicadores['iSeg'].apply(lambda x: f'{x:.2f}'.replace('.', ',') if pd.notnull(x) else '')\n",
    "\n",
    "# Manter a coluna como float\n",
    "df_master_indicadores['iPriv'] = pd.to_numeric(df_master_indicadores['iPriv'], errors='coerce')\n",
    "\n",
    "# Exibir com vírgula (sem alterar tipo para 'object')\n",
    "df_master_indicadores['iPriv'] = df_master_indicadores['iPriv'].apply(lambda x: f'{x:.2f}'.replace('.', ',') if pd.notnull(x) else '')"
   ]
  },
  {
   "cell_type": "code",
   "execution_count": null,
   "id": "a98b5424-5abe-4d73-9e6d-94e82d018119",
   "metadata": {},
   "outputs": [],
   "source": [
    "df_master_indicadores.head()"
   ]
  },
  {
   "cell_type": "code",
   "execution_count": null,
   "id": "dde119d5-0664-43f5-9eca-03606abb7247",
   "metadata": {},
   "outputs": [],
   "source": [
    "df_master_indicadores['Chave'] = df_master_indicadores['Ciclo_Entrega'].astype(str) + df_master_indicadores['Nome da Origem.1'].astype(str) + df_master_indicadores['Setor'].astype(str)"
   ]
  },
  {
   "cell_type": "code",
   "execution_count": null,
   "id": "1b017f9f-de90-438c-92cc-0fe068471db2",
   "metadata": {},
   "outputs": [],
   "source": [
    " # Primeiro, extrai o número do ciclo como inteiro\n",
    "df_master_indicadores['numero_ciclo'] = df_master_indicadores['Ciclo_Entrega'].str.extract(r'(\\d+)').astype(int)\n",
    "\n",
    "# Define o ano e semestre a partir do número do ciclo\n",
    "df_master_indicadores['Ano'] = 2023 + ((df_master_indicadores['numero_ciclo'] - 1) // 2)\n",
    "df_master_indicadores['Semestre'] = ((df_master_indicadores['numero_ciclo'] - 1) % 2) + 1\n",
    "\n",
    "# Remove a coluna auxiliar se quiser\n",
    "df_master_indicadores = df_master_indicadores.drop(columns='numero_ciclo')"
   ]
  },
  {
   "cell_type": "code",
   "execution_count": null,
   "id": "c0981cf7-b0bf-4004-86aa-c62f5bd51223",
   "metadata": {},
   "outputs": [],
   "source": [
    "df_master_indicadores.head()"
   ]
  },
  {
   "cell_type": "code",
   "execution_count": null,
   "id": "eed8ab75-5953-4dcc-a18a-917ba43a5e49",
   "metadata": {},
   "outputs": [],
   "source": [
    "df_master_indicadores.info()"
   ]
  },
  {
   "cell_type": "code",
   "execution_count": null,
   "id": "f9bdb2dc-1ddb-4047-8655-fcc535789b41",
   "metadata": {},
   "outputs": [],
   "source": [
    "df_master_indicadores = df_master_indicadores[df_master_indicadores['Nome da Origem.1'].notna()]\n",
    "df_master_indicadores['Nome da Origem.1'] = df_master_indicadores['Nome da Origem.1'].str.strip()\n",
    "df_master_indicadores['Órgão-Sigla'] = df_master_indicadores['Órgão-Sigla'].str.strip()"
   ]
  },
  {
   "cell_type": "code",
   "execution_count": null,
   "id": "8640ed18-dee2-4ffc-8627-25ef5798c2e1",
   "metadata": {},
   "outputs": [],
   "source": [
    "df_master_indicadores.head()"
   ]
  },
  {
   "cell_type": "code",
   "execution_count": null,
   "id": "96022e5d-1581-4936-9026-6375accf5a9b",
   "metadata": {},
   "outputs": [],
   "source": [
    "df_master_indicadores.head()"
   ]
  },
  {
   "cell_type": "code",
   "execution_count": null,
   "id": "4d905efa-a0be-45e5-bacc-72a2b35f20c0",
   "metadata": {},
   "outputs": [],
   "source": [
    "# Substitui \"C1\" por \"Ciclo 1\", \"C2\" por \"Ciclo 2\", etc.\n",
    "df_master_indicadores['Ciclo_Entrega'] = df_master_indicadores['Ciclo_Entrega'].str.extract(r'(\\d+)')[0].astype(int).apply(lambda x: f'Ciclo {x}')"
   ]
  },
  {
   "cell_type": "code",
   "execution_count": null,
   "id": "fc7025c6-fbd7-4441-90d3-5a846af639e1",
   "metadata": {},
   "outputs": [],
   "source": [
    "df_master_indicadores.head()"
   ]
  },
  {
   "cell_type": "code",
   "execution_count": null,
   "id": "8ca5406e-34c9-46eb-bdb7-560d67cc1f3c",
   "metadata": {},
   "outputs": [],
   "source": [
    "# Salva em Excel\n",
    "df_master_indicadores.to_csv(r\"C:\\Users\\denis\\OneDrive\\Documentos\\python\\meuambiente\\Scripts\\PPSI\\FONTE_PAINEL\\MASTER_INDICADORES.csv\", index=False)"
   ]
  },
  {
   "cell_type": "code",
   "execution_count": null,
   "id": "aea0e49e-0f67-49d3-b929-ed870c99c97a",
   "metadata": {},
   "outputs": [],
   "source": []
  },
  {
   "cell_type": "markdown",
   "id": "ac56cf00-cdbe-4f4e-a5d7-bcc0cbca1820",
   "metadata": {},
   "source": [
    "### MASTER_OUTROS_CONSOLIDADO"
   ]
  },
  {
   "cell_type": "code",
   "execution_count": null,
   "id": "517ee5c1-295c-44fb-a19c-f63e8782d475",
   "metadata": {},
   "outputs": [],
   "source": [
    "# Mapeamento: nome da aba → (índices das colunas a ler, nomes novos)\n",
    "\n",
    "colunas_por_aba = {\n",
    "    'Historico-MASTER-C1': \n",
    "                ([0, 1, 2, 3, 4, 5, 9, 10, 11, 12, 13, 14, 15, 16, 17, 18, 19, 20, 21, 22, 23, 24, 25, 26, 27, 28, 29, 30, 31, 32, 33, 34, 35, 36, \n",
    "                  37], \n",
    "                ['Resp. Titular','Categoria','Órgão','Entregou PPSI?','Data 1ª Entrega','Data Últ. Atualiz.','Infraestrutura Principal de TI',\n",
    "                 'Situação de TI','Provedor','Tipo','Órgão.1','Órgão-Sigla','Órgão-Nome','Setor','UF','Município','Região','Gestor de TI SISP',\n",
    "                 'e-mail RESP. Sisp','Tel. Resp. Sisp','CHEFE AECI/AI & SECRETÁRIO CONTROLE INTERNO','e-mail AECI/AI/SCI','Tel. AECI/AI/SCI',\n",
    "                 'encarregado','e-mail encarregado','tel encarregado','Gestor de SI','e-mail SI','Tel SI','Contatos Opcionais (Cargo/Área)',\n",
    "                 'Nome (Contatos Opcionais)','E-mail (Contatos Opcionais)','Tel (Contatos Opcionais)','STATUS Estrutura PPSI','Fonte AECI:']),\n",
    "    'Historico-MASTER-C2':  \n",
    "                ([ 0, 1, 2, 3, 4, 5, 6, 13, 14, 15, 16, 17, 18, 19, 20, 21, 22, 23, 24, 25, 26, 27, 28, 29, 30, 31, 32, 33, 34, 35, 36, 37, 38, 39,\n",
    "                   40, 41, 42, 43],\n",
    "                ['Resp. Titular','Site Atualiz. Órgão Sisp','Categoria','Órgão','Entregou PPSI?','Data 1ª Entrega','Data Últ. Atualiz.',\n",
    "                 'Infraestrutura Principal de TI','Situação de TI','Provedor','Tipo','Órgão.1','Ind. Ministra','Ind. Ministra Atualizado?',\n",
    "                 'Órgão-Sigla','Órgão-Nome','Setor','UF','Município','Região','Gestor de TI SISP','e-mail RESP. Sisp','Tel. Resp. Sisp',\n",
    "                 'CHEFE AECI/AI & SECRETÁRIO CONTROLE INTERNO','e-mail AECI/AI/SCI','Tel. AECI/AI/SCI','encarregado','e-mail encarregado',\n",
    "                 'tel encarregado','Gestor de SI','e-mail SI','Tel SI','Contatos Opcionais (Cargo/Área)','Nome (Contatos Opcionais)',\n",
    "                 'E-mail (Contatos Opcionais)','Tel (Contatos Opcionais)','STATUS Estrutura PPSI','Fonte AECI:']),\n",
    "    'Historico-MASTER-C3': \n",
    "                ([ 0, 1, 2, 3, 4, 5, 6, 16, 17, 18, 19, 20, 21, 22, 23, 24, 25, 26, 27, 28, 29, 30, 31, 32, 33, 34, 35, 36, 37, 38, 39, 40, 41, 42,\n",
    "                   43, 44, 45, 46],\n",
    "                ['Resp. Titular','Site Atualiz. Órgão Sisp','Categoria','Órgão','Entregou PPSI?','Data 1ª Entrega','Data Últ. Atualiz.',\n",
    "                 'Infraestrutura Principal de TI','Situação de TI','Provedor','Tipo','Órgão.1','Ind. Ministra','Ind. Ministra Atualizado?',\n",
    "                 'Órgão-Sigla','Órgão-Nome','Setor','UF','Município','Região','Gestor de TI SISP','e-mail RESP. Sisp','Tel. Resp. Sisp',\n",
    "                 'CHEFE AECI/AI & SECRETÁRIO CONTROLE INTERNO','e-mail AECI/AI/SCI','Tel. AECI/AI/SCI','encarregado','e-mail encarregado',\n",
    "                 'tel encarregado','Gestor de SI','e-mail SI','Tel SI','Contatos Opcionais (Cargo/Área)','Nome (Contatos Opcionais)',\n",
    "                 'E-mail (Contatos Opcionais)','Tel (Contatos Opcionais)','STATUS Estrutura PPSI','Fonte AECI:']),\n",
    "    'Atual-MASTER-C4': \n",
    "                ([ 0, 1, 2, 3, 4, 5, 6, 7, 20, 21, 22, 23, 24, 25, 26, 27, 28, 29, 30, 31, 32, 33, 34, 35, 36, 37, 38, 39, 40, 41, 42, 43, 44, 45,\n",
    "                   46, 47, 48, 49, 50],\n",
    "                ['Resp. Titular','Resp. Substituto','Site Atualiz. Órgão Sisp','Categoria','Órgão','Entregou PPSI?','Data 1ª Entrega',\n",
    "                 'Data Últ. Atualiz.','Infraestrutura Principal de TI','Situação de TI','Provedor','Tipo','Órgão.1','Ind. Ministra',\n",
    "                 'Ind. Ministra Atualizado?','Órgão-Sigla','Órgão-Nome','Setor','UF','Município','Região','Gestor de TI SISP','e-mail RESP. Sisp',\n",
    "                 'Tel. Resp. Sisp','CHEFE AECI/AI & SECRETÁRIO CONTROLE INTERNO','e-mail AECI/AI/SCI','Tel. AECI/AI/SCI','encarregado',\n",
    "                 'e-mail encarregado','tel encarregado','Gestor de SI','e-mail SI','Tel SI','Contatos Opcionais (Cargo/Área)',\n",
    "                 'Nome (Contatos Opcionais)','E-mail (Contatos Opcionais)','Tel (Contatos Opcionais)','STATUS Estrutura PPSI','Fonte AECI:'])\n",
    "}\n",
    "    \n",
    "# Mapeamento: nome da aba → valor da coluna 'CICLO'\n",
    "ciclo_por_aba = {\n",
    "    'Historico-MASTER-C1': 'C1',\n",
    "    'Historico-MASTER-C2': 'C2',\n",
    "    'Historico-MASTER-C3': 'C3',\n",
    "    'Atual-MASTER-C4': 'C4'    \n",
    "}\n",
    "\n",
    "# Passo 1: Obter todos os nomes de colunas únicos em todas as abas\n",
    "todos_nomes_colunas = set()\n",
    "for _, (_, nomes_colunas) in colunas_por_aba.items():\n",
    "    todos_nomes_colunas.update(nomes_colunas)\n",
    "\n",
    "todos_nomes_colunas = list(todos_nomes_colunas)\n",
    "\n",
    "# Passo 2: Função para ler as abas com os mapeamentos e preencher colunas faltantes\n",
    "def ler_abas_padronizadas(caminho_arquivo, colunas_por_aba):\n",
    "    dados_abas = {}\n",
    "    for aba, (indices, nomes_colunas) in colunas_por_aba.items():\n",
    "        df = pd.read_excel(caminho_arquivo, sheet_name=aba, usecols=indices)\n",
    "        df.columns = nomes_colunas\n",
    "\n",
    "        # Adiciona colunas faltantes com NaN\n",
    "        for col in todos_nomes_colunas:\n",
    "            if col not in df.columns:\n",
    "                df[col] = None\n",
    "        \n",
    "        # Reordena para manter a mesma ordem de colunas\n",
    "        df = df[todos_nomes_colunas]\n",
    "        dados_abas[aba] = df\n",
    "\n",
    "    return dados_abas\n",
    "\n",
    "# Mapeamento: nome da aba → colunas a excluir\n",
    "colunas_excluir_por_aba = {\n",
    "    'Historico-MASTER-C1': ['Estrut. Básica', 'iSeg', 'iPriv'],\n",
    "    'Historico-MASTER-C2': ['(C2) Estrut. Básica', '(C2) iSeg', '(C2) iPriv', '(C1) Estrut. Básica', '(C1) iSeg', '(C1) iPriv'],\n",
    "    'Historico-MASTER-C3': ['(C3) Estrut. Básica', '(C3) iSeg', '(C3) iPriv','(C2) Estrut. Básica', '(C2) iSeg', '(C2) iPriv', \n",
    "                            '(C1) Estrut. Básica', '(C1) iSeg', '(C1) iPriv'],\n",
    "    'Atual-MASTER-C4':     ['(C4) Estrut. Básica', '(C4) iSeg', '(C4) iPriv','(C3) Estrut. Básica', '(C3) iSeg', '(C3) iPriv',\n",
    "                            '(C2) Estrut. Básica', '(C2) iSeg', '(C2) iPriv', '(C1) Estrut. Básica', '(C1) iSeg', '(C1) iPriv']\n",
    "}\n",
    "\n",
    "tabelas = []\n",
    "\n",
    "for nome_aba, (indices, nomes_colunas) in colunas_por_aba.items():\n",
    "    # Lê as colunas pelos índices\n",
    "    df = pd.read_excel(arquivo, sheet_name=nome_aba, usecols=indices, header=0)\n",
    "\n",
    "    # Remove colunas indesejadas com base nos nomes originais\n",
    "    colunas_excluir = colunas_excluir_por_aba.get(nome_aba, [])\n",
    "    df.drop(columns=colunas_excluir, inplace=True, errors='ignore')  # ignora se alguma não existir\n",
    "\n",
    "    # Renomeia as colunas restantes conforme os nomes desejados\n",
    "    df.columns = [novo for antigo, novo in zip(df.columns, nomes_colunas) if antigo not in colunas_excluir]\n",
    "\n",
    "    # Adiciona coluna do ciclo\n",
    "    df['Ciclo_Entrega'] = ciclo_por_aba[nome_aba]\n",
    "\n",
    "    tabelas.append(df)\n",
    "\n",
    "# Junta todas as tabelas em um único DataFrame\n",
    "df_master_outros = pd.concat(tabelas, ignore_index=True)\n",
    "\n",
    "# Remove linhas totalmente vazias (caso existam)\n",
    "df_master_outros.dropna(how='all', inplace=True)\n",
    "\n",
    "# Remove duplicatas, se necessário (baseado nas colunas principais)\n",
    "df_master_outros.drop_duplicates(inplace=True)\n",
    "\n",
    "# Reorganiza colunas para trazer 'CICLO' para frente, se quiser\n",
    "cols = ['Ciclo_Entrega'] + [col for col in df_master_outros.columns if col != 'Ciclo_Entrega']\n",
    "df_master_outros = df_master_outros[cols]\n",
    "\n",
    "# Exibe um resumo\n",
    "print(f'Total de registros combinados: {len(df_master_outros)}')\n"
   ]
  },
  {
   "cell_type": "code",
   "execution_count": null,
   "id": "9f8a04a9-43e8-4c22-a20a-9e76ca965a26",
   "metadata": {},
   "outputs": [],
   "source": [
    "df_master_outros.info()"
   ]
  },
  {
   "cell_type": "code",
   "execution_count": null,
   "id": "d459d665-28a9-4dba-81dd-b2bfc74e5968",
   "metadata": {},
   "outputs": [],
   "source": []
  },
  {
   "cell_type": "code",
   "execution_count": null,
   "id": "f25e3b79-b5a9-49b8-9d56-8588c7d4693a",
   "metadata": {},
   "outputs": [],
   "source": [
    "df_master_outros = df_master_outros.rename(columns={'Órgão': 'Nome da Origem.1'})"
   ]
  },
  {
   "cell_type": "code",
   "execution_count": null,
   "id": "89593fe4-8530-4911-a472-a59fe9e4f03d",
   "metadata": {},
   "outputs": [],
   "source": [
    "df_master_outros['Chave'] = df_master_outros['Ciclo_Entrega'].astype(str) + df_master_outros['Nome da Origem.1'].astype(str) + df_master_outros['Setor'].astype(str)"
   ]
  },
  {
   "cell_type": "code",
   "execution_count": null,
   "id": "779c9efa-dadb-4625-a1b8-fe64932d59a5",
   "metadata": {},
   "outputs": [],
   "source": [
    " # Primeiro, extrai o número do ciclo como inteiro\n",
    "df_master_outros['numero_ciclo'] = df_master_outros['Ciclo_Entrega'].str.extract(r'(\\d+)').astype(int)\n",
    "\n",
    "# Define o ano e semestre a partir do número do ciclo\n",
    "df_master_outros['Ano'] = 2023 + ((df_master_outros['numero_ciclo'] - 1) // 2)\n",
    "df_master_outros['Semestre'] = ((df_master_outros['numero_ciclo'] - 1) % 2) + 1\n",
    "\n",
    "# Remove a coluna auxiliar se quiser\n",
    "df_master_outros = df_master_outros.drop(columns='numero_ciclo')"
   ]
  },
  {
   "cell_type": "code",
   "execution_count": null,
   "id": "525f81a1-74e3-4544-b35f-703980a7634f",
   "metadata": {},
   "outputs": [],
   "source": [
    "df_master_outros = df_master_outros[df_master_outros['Nome da Origem.1'].notna()]\n",
    "df_master_outros['Nome da Origem.1'] = df_master_outros['Nome da Origem.1'].str.strip()\n",
    "df_master_outros['Órgão-Sigla'] = df_master_outros['Órgão-Sigla'].str.strip()"
   ]
  },
  {
   "cell_type": "code",
   "execution_count": null,
   "id": "f5db42f8-cac9-475b-a533-944d859a5e25",
   "metadata": {},
   "outputs": [],
   "source": [
    "df_master_outros.head()"
   ]
  },
  {
   "cell_type": "code",
   "execution_count": null,
   "id": "ba96bc1c-2978-4e95-8eae-462b9d1eceee",
   "metadata": {},
   "outputs": [],
   "source": [
    "df_master_outros.info()"
   ]
  },
  {
   "cell_type": "code",
   "execution_count": null,
   "id": "e7490226-123e-45fa-aa47-68fd3efe0126",
   "metadata": {},
   "outputs": [],
   "source": [
    "# Substitui \"C1\" por \"Ciclo 1\", \"C2\" por \"Ciclo 2\", etc.\n",
    "df_master_outros['Ciclo_Entrega'] = df_master_outros['Ciclo_Entrega'].str.extract(r'(\\d+)')[0].astype(int).apply(lambda x: f'Ciclo {x}')"
   ]
  },
  {
   "cell_type": "code",
   "execution_count": null,
   "id": "a16f999d-f0e6-4e13-baa6-3bffce73a7bc",
   "metadata": {},
   "outputs": [],
   "source": []
  },
  {
   "cell_type": "code",
   "execution_count": null,
   "id": "9113f993-0546-4f69-9caf-c52ad8b756e3",
   "metadata": {},
   "outputs": [],
   "source": [
    "# Salva em Excel\n",
    "df_master_outros.to_csv(r\"C:\\Users\\denis\\OneDrive\\Documentos\\python\\meuambiente\\Scripts\\PPSI\\FONTE_PAINEL\\MASTER_OUTROS.csv\", index=False)"
   ]
  },
  {
   "cell_type": "code",
   "execution_count": null,
   "id": "6c3616f8-b71d-43bf-a2f4-5dc5d6aa13cf",
   "metadata": {},
   "outputs": [],
   "source": [
    "dh_termino = datetime.today()\n",
    "duracao = dh_termino - dh_inicio\n",
    "print(dh_inicio)\n",
    "print(dh_termino)\n",
    "print(duracao)"
   ]
  },
  {
   "cell_type": "code",
   "execution_count": null,
   "id": "4fd21306-899d-41bf-a5a5-6ddb2ead5ada",
   "metadata": {},
   "outputs": [],
   "source": []
  },
  {
   "cell_type": "code",
   "execution_count": null,
   "id": "086bf80b-4e54-4251-91a9-950b003aed6a",
   "metadata": {},
   "outputs": [],
   "source": []
  }
 ],
 "metadata": {
  "kernelspec": {
   "display_name": "Python 3 (ipykernel)",
   "language": "python",
   "name": "python3"
  },
  "language_info": {
   "codemirror_mode": {
    "name": "ipython",
    "version": 3
   },
   "file_extension": ".py",
   "mimetype": "text/x-python",
   "name": "python",
   "nbconvert_exporter": "python",
   "pygments_lexer": "ipython3",
   "version": "3.12.7"
  }
 },
 "nbformat": 4,
 "nbformat_minor": 5
}
