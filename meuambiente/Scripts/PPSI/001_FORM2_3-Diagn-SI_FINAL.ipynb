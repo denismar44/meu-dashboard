{
 "cells": [
  {
   "cell_type": "code",
   "execution_count": 1,
   "id": "14c85196-1520-43fe-b572-c1c77501b033",
   "metadata": {},
   "outputs": [],
   "source": [
    "#!pip install -U openpyxl"
   ]
  },
  {
   "cell_type": "code",
   "execution_count": 2,
   "id": "56a0907e-f5be-4303-96a1-bc9b30d9f8e1",
   "metadata": {},
   "outputs": [],
   "source": [
    "import os\n",
    "import re\n",
    "import pandas as pd\n",
    "import numpy as np\n",
    "from datetime import date, datetime\n",
    "from openpyxl import load_workbook\n",
    "import warnings\n",
    "warnings.filterwarnings('ignore')"
   ]
  },
  {
   "cell_type": "code",
   "execution_count": 3,
   "id": "50498c40-c4a4-4104-9139-45d38d9b3c78",
   "metadata": {},
   "outputs": [
    {
     "name": "stdout",
     "output_type": "stream",
     "text": [
      "2025-05-26 11:16:47.401799\n"
     ]
    }
   ],
   "source": [
    "dh_inicio = datetime.today()\n",
    "print(dh_inicio)"
   ]
  },
  {
   "cell_type": "markdown",
   "id": "9cbd76c5-4595-4ec3-a94f-bec2e542d006",
   "metadata": {},
   "source": [
    "### CARGA DOS ARQUIVOS DOS CICLOS"
   ]
  },
  {
   "cell_type": "code",
   "execution_count": 4,
   "id": "33fb8487-7aa1-40b6-a742-cdd0beac1fa8",
   "metadata": {},
   "outputs": [
    {
     "name": "stdout",
     "output_type": "stream",
     "text": [
      "Lista de arquivos salva com sucesso!\n"
     ]
    }
   ],
   "source": [
    "# Caminho da pasta dos arquivos\n",
    "caminho_pasta = r\"C:\\Projetos\\PPSI\\BASE\\CICLOS-1-2-3-4\"\n",
    "\n",
    "# Lista os arquivos da pasta\n",
    "arquivos = os.listdir(caminho_pasta)\n",
    "\n",
    "# Filtra apenas arquivos (ignora subpastas)\n",
    "arquivos = [f for f in arquivos if os.path.isfile(os.path.join(caminho_pasta, f))]\n",
    "\n",
    "# Cria um DataFrame com os nomes\n",
    "df = pd.DataFrame(arquivos, columns=[\"nome_arquivo\"])\n",
    "\n",
    "# Salva em Excel\n",
    "#df.to_excel(r\"C:\\Projetos\\PPSI\\BASE\\CICLOS-1-2-3-4\\CICLO_1_2_3_arquivos.xlsx\", index=False)\n",
    "\n",
    "print(\"Lista de arquivos salva com sucesso!\")"
   ]
  },
  {
   "cell_type": "code",
   "execution_count": 5,
   "id": "92bed9bf-9461-47e0-8957-0c9ff4e231ba",
   "metadata": {},
   "outputs": [
    {
     "name": "stdout",
     "output_type": "stream",
     "text": [
      "<class 'pandas.core.frame.DataFrame'>\n",
      "RangeIndex: 627 entries, 0 to 626\n",
      "Data columns (total 1 columns):\n",
      " #   Column        Non-Null Count  Dtype \n",
      "---  ------        --------------  ----- \n",
      " 0   nome_arquivo  627 non-null    object\n",
      "dtypes: object(1)\n",
      "memory usage: 5.0+ KB\n"
     ]
    }
   ],
   "source": [
    "df.info()"
   ]
  },
  {
   "cell_type": "code",
   "execution_count": 6,
   "id": "b04a41c3-7b50-4b7e-8c65-2e6af13ed7f9",
   "metadata": {},
   "outputs": [],
   "source": [
    "# Salva em Excel\n",
    "#df.to_excel(r\"C:\\Users\\denis\\OneDrive\\Documentos\\python\\meuambiente\\Scripts\\PPSI\\FONTE_PAINEL\\Arquivos_C1_C2_C3_C4.xlsx\", sheet_name = \"Arquivos_C1_C2_C3_C4\", index=False)"
   ]
  },
  {
   "cell_type": "markdown",
   "id": "a673550a-47aa-4ae8-9c50-4e7bf751750a",
   "metadata": {},
   "source": [
    "### FORM2_3-Diagn-SI_CONSOLIDADO"
   ]
  },
  {
   "cell_type": "code",
   "execution_count": 7,
   "id": "d76c2daa-dfe2-4950-ab3f-5975b2e535cb",
   "metadata": {},
   "outputs": [
    {
     "name": "stdout",
     "output_type": "stream",
     "text": [
      "❌ Erro ao processar 'C1-FUNDAJ-PlanilhaSISP-FUNDAJ.xlsx': expected <class 'openpyxl.worksheet.cell_range.MultiCellRange'>\n",
      "❌ Erro ao processar 'C1-IFCE-IFCE - ferramenta_frameworkpsi_pt-3-basica-sem-macros-ciclo-1.xlsx': expected <class 'openpyxl.worksheet.cell_range.MultiCellRange'>\n",
      "❌ Erro ao processar 'C1-UFAPE-PPSI-UFAPE.xlsx': expected <class 'openpyxl.worksheet.cell_range.MultiCellRange'>\n",
      "❌ Erro ao processar 'C1-UFMA-ferramenta_frameworkpsi_pt-3-basica-sem-macros.xlsx': expected <class 'openpyxl.worksheet.cell_range.MultiCellRange'>\n",
      "❌ Erro ao processar 'C1-UFR-ferramenta_frameworkpsi_pt-3-basica-sem-macros-ciclo-1_FINAL.xlsx': expected <class 'openpyxl.worksheet.cell_range.MultiCellRange'>\n",
      "❌ Erro ao processar 'C2-FUNDAJ-ferramenta_framework_ppsi_v4_ciclo_2_FUNDAJ.xlsx': expected <class 'openpyxl.worksheet.cell_range.MultiCellRange'>\n",
      "❌ Erro ao processar 'C2-UFMA-ferramenta_framework_ppsi_v4_ciclo_2.xlsx': expected <class 'openpyxl.worksheet.cell_range.MultiCellRange'>\n",
      "❌ Erro ao processar 'C2-UFR-ferramenta_framework_ppsi_v4_ciclo_2.xlsx': expected <class 'openpyxl.worksheet.cell_range.MultiCellRange'>\n",
      "❌ Erro ao processar 'C2-UFTM-uftm_ferramenta_frameworkpsi_pt-3-basica-sem-macros-ciclo-1 31012024o.xlsx': expected <class 'openpyxl.worksheet.cell_range.MultiCellRange'>\n",
      "❌ Erro ao processar 'C2-UNIFESP-framework_Unifesp_ciclo_2 _31.01.24.xlsx': expected <class 'openpyxl.worksheet.cell_range.MultiCellRange'>\n",
      "❌ Erro ao processar 'C3-FUNDAJ-ferramenta_framework_ppsi_v5_ciclo_3_rev02.12.24.xlsx': expected <class 'openpyxl.worksheet.cell_range.MultiCellRange'>\n",
      "❌ Erro ao processar 'C3-UFTM-UFTM-ferramenta_framework_ppsi_v5_ciclo_3-consolidado_v4-final.xlsx': expected <class 'openpyxl.worksheet.cell_range.MultiCellRange'>\n",
      "📥 Total de arquivos lidos com sucesso: 615\n",
      "📦 Total de arquivos únicos no consolidado (Nome da Origem.2): 615\n",
      "\n",
      "📊 Resumo da execução:\n",
      "🗂️ Total de arquivos considerados: 627\n",
      "✅ Arquivos lidos com sucesso: 615\n",
      "❌ Arquivos com erro: 12\n",
      "📥 Total de arquivos lidos com sucesso: 615\n",
      "📦 Total de arquivos únicos no consolidado (Nome da Origem.2): 615\n",
      "✅ Consolidação concluída com sucesso!\n"
     ]
    }
   ],
   "source": [
    "# Lista para armazenar os DataFrames da aba FORM2.3\n",
    "dados_form2_3_base = []\n",
    "\n",
    "# Lista para armazenar o resumo das contagens\n",
    "resumo_linhas_antes = []\n",
    "\n",
    "for arquivo in arquivos:\n",
    "    caminho_arquivo = os.path.join(caminho_pasta, arquivo)\n",
    "    \n",
    "    nome_arquivo = os.path.basename(caminho_arquivo)\n",
    "    total_linhas_arquivo = None\n",
    "    linhas_totais = 0\n",
    "    linhas_lidas = 0\n",
    "\n",
    "    try:\n",
    "        # 1. Contar linhas totais no Excel\n",
    "        wb_contagem = load_workbook(filename=caminho_arquivo, read_only=True)\n",
    "        ws_contagem = wb_contagem['FORM2.3']\n",
    "        total_linhas_arquivo = ws_contagem.max_row\n",
    "\n",
    "        # 2. Ler valores da visão macro (K11 e K12)\n",
    "        wb = load_workbook(caminho_arquivo, data_only=True)\n",
    "        ws = wb['FORM2.3']\n",
    "\n",
    "        id_controle_cis8 = ws['C11'].value\n",
    "        desc_controle_cis8 = ws['D11'].value  \n",
    "\n",
    "        resp_macro = ws['K11'].value\n",
    "        desc_macro = ws['K12'].value\n",
    "\n",
    "        # 3. Ler dados com pandas a partir da 10ª linha (header=9)\n",
    "        df = pd.read_excel(caminho_arquivo, sheet_name='FORM2.3', \n",
    "                            dtype={'ID': object},      \n",
    "                            keep_default_na=False,              \n",
    "                            na_filter=False,\n",
    "                            header=9, engine='openpyxl')\n",
    "        \n",
    "        df = df.iloc[:181]   # apenas linhas de 0 a 181\n",
    "        \n",
    "        # Substitui strings vazias, espaços, tabs, etc., por NaN\n",
    "#        df.replace(r'^\\s*$', pd.NA, regex=True, inplace=True)\n",
    "#        df = df.dropna(how='all')\n",
    "\n",
    "        # Registrar total inicial\n",
    "        linhas_totais = len(df)\n",
    "        \n",
    "        # Registrar total final e linhas excluídas\n",
    "        linhas_lidas = len(df)\n",
    "\n",
    "      # 4. Renomear colunas\n",
    "        novos_nomes = {\n",
    "#            df.columns[1]: 'FILTRO',\n",
    "            df.columns[2]: 'ID',\n",
    "            df.columns[3]: 'ID CIS 8',\n",
    "            df.columns[4]: 'GRUPO IMPLE',\n",
    "            df.columns[5]: 'FUNÇÃO NIST CSF',\n",
    "            df.columns[6]: 'MEDIDA',\n",
    "            df.columns[7]: 'DESCRIÇÃO DA MEDIDA',\n",
    "            df.columns[8]: 'RESPOSTA DAS MEDIDAS',\n",
    "            df.columns[9]: 'Justificativa do porquê da resposta \"Não se aplica\"',\n",
    "            df.columns[10]: 'RESPOSTA DA VISAO MACRO DOS CONTROLES'\n",
    "        }\n",
    "        df.rename(columns=novos_nomes, inplace=True)\n",
    "        \n",
    "        df = df[~df['ID'].isnull() & (df['ID'].astype(str).str.strip() != '')]\n",
    "        df.reset_index(drop=True, inplace=True)\n",
    "\n",
    "       \n",
    "        # Colunas auxiliares\n",
    "        df['ID CONTROLE CIS 8'] = id_controle_cis8 \n",
    "        df['DESCRIÇÃO CONTROLE CIS 8'] = desc_controle_cis8\n",
    "        df['Nome da Origem.2'] = arquivo\n",
    "        df['Nome da Origem.1'] = df['Nome da Origem.2'].str.extract(r'-(.*?)-')\n",
    "        df['RESPOSTA DA VISAO MACRO DOS CONTROLES'] = resp_macro\n",
    "        df['DESCRIÇÃO DA VISAO MACRO DOS CONTROLES_1'] = desc_macro\n",
    "        df['ID_Controle_Seg'] = df['ID'].astype(str).str[:2]\n",
    "        df['Ciclo_Entrega'] = df['Nome da Origem.2'].str[:2]\n",
    "        #df['ORGAO'] = df['Nome da Origem.2'].str.extract(r'(-.*?-)')\n",
    "        #df['FILTRO'] = df['FILTRO'].astype(float).astype(int).astype(str)\n",
    "        df['ID_Controle_Seg'] = df['ID_Controle_Seg'].str.replace(r'^\\d+\\.\\s*', '', regex=True)\n",
    "    \n",
    "        # normaliza nomes de colunas\n",
    "        df = df.rename(columns=lambda x: x.strip())\n",
    "        \n",
    "        # converte notas para numérico (ficará NaN se não houver número)\n",
    "        df[\"RESPOSTA DA VISAO MACRO DOS CONTROLES\"] = pd.to_numeric(\n",
    "        df[\"RESPOSTA DA VISAO MACRO DOS CONTROLES\"], errors=\"coerce\"\n",
    "       )\n",
    "        \n",
    "        # --------- mesmas regras de blocos ---------\n",
    "        mask_titulo = df[\"ID\"].astype(str).str.match(r\"^\\d+([.,]0)?$\")\n",
    "        df[\"grupo\"] = mask_titulo.cumsum()\n",
    "        df[\"ordem_no_grupo\"] = df.groupby(\"grupo\").cumcount()\n",
    "        \n",
    "        # 1) títulos → mantêm o número já existente\n",
    "        # 2) primeiro sub‑controle → recebe o texto (duplicado)\n",
    "        idx_primeiro_sub = (mask_titulo == False) & (df[\"ordem_no_grupo\"] == 1)\n",
    "        df.loc[idx_primeiro_sub, \"RESPOSTA DA VISAO MACRO DOS CONTROLES\"] = \"\"\n",
    "       # df.loc[idx_primeiro_sub, \"RESPOSTA DA VISAO MACRO DOS CONTROLES\"] = df.loc[idx_primeiro_sub, \"DESCRIÇÃO DA VISAO MACRO DOS CONTROLES\"]       \n",
    "       \n",
    "        # 3) demais sub‑controles → ficam vazios\n",
    "        idx_esvaziar = (mask_titulo == False) & (df[\"ordem_no_grupo\"] > 1)\n",
    "        df.loc[idx_esvaziar, \"RESPOSTA DA VISAO MACRO DOS CONTROLES\"] = \"\"\n",
    "        \n",
    "        # 3) Máscara para linhas cujo ID tem até 2 caracteres\n",
    "        mask = df['ID'].notna() & (df['ID'].astype(str).str.len() <= 2)\n",
    "              \n",
    "        # 4) Move o texto e limpa\n",
    "        df.loc[mask, 'MEDIDA'] = df.loc[mask, 'ID CIS 8']\n",
    "        df.loc[mask, 'ID CIS 8'] = ''\n",
    "       \n",
    "        # 3) Zera Descrição do controle onde Resposta do controle está vazia\n",
    "        mask = df['RESPOSTA DA VISAO MACRO DOS CONTROLES'] == ''\n",
    "        df.loc[mask, 'DESCRIÇÃO DA VISAO MACRO DOS CONTROLES_1'] = ''\n",
    "\n",
    "\n",
    "       # Mapeamento dos valores textuais para ID numérico\n",
    "        mapa_descr_macro = {\n",
    "            5: 'O controle atinge seu objetivo, é bem definido, suas medidas são implementadas continuamente por meio de um processo e seu desempenho é mensurado quantitativamente por meio de indicadores.',\n",
    "            4: 'O controle atinge seu objetivo, é bem definido e suas medidas são implementadas continuamente por meio de um processo decorrente da política formalizada.',\n",
    "            3: 'O controle atinge seu objetivo de forma muito mais organizada utilizando os recursos organizacionais. Além disso, o controle é formalizado por meio de uma política institucional, específica ou como parte de outra maior.',\n",
    "            2: 'O controle atinge seu objetivo por meio da aplicação de um conjunto básico, porém completo, de atividades que podem ser caracterizadas como realizadas.',\n",
    "            1: 'O controle atinge mais ou menos seu objetivo, por meio da aplicação de um conjunto incompleto de atividades que podem ser caracterizadas como iniciais ou intuitivas (pouco organizadas).',\n",
    "            0: 'Ausência de capacidade para a implementação das medidas do controle, ou desconhecimento sobre o atendimento das medidas.',\n",
    "            None: 'Controle Não Foi Respondido'\n",
    "        }\n",
    "        # renomeia a coluna numérica\n",
    "        #df = df.rename(columns={\"RESPOSTA DA VISAO MACRO DOS CONTROLES\": \"RESPOSTA_DESCRICAO_MACRO\"})\n",
    "             \n",
    "        # aplica o mapeamento:\n",
    "        df[\"DESCRIÇÃO MACRO\"] = df[\"RESPOSTA DA VISAO MACRO DOS CONTROLES\"].map(mapa_descr_macro)\n",
    "        \n",
    "        masc_titulo = df[\"RESPOSTA DA VISAO MACRO DOS CONTROLES\"].isna()\n",
    "        df.loc[masc_titulo, \"DESCRIÇÃO MACRO\"] = df.loc[masc_titulo, \"RESPOSTA DA VISAO MACRO DOS CONTROLES\"].map(mapa_descr_macro)\n",
    "\n",
    "        #df = df.rename(columns={\"RESPOSTA DA VISAO MACRO DOS CONTROLES\": \"RESPOSTA_DESCRICAO_MACRO\"})      \n",
    "\n",
    "        df = df.rename(columns={\"DESCRIÇÃO MACRO\": \"DESCRIÇÃO DA VISAO MACRO DOS CONTROLES\"})\n",
    "\n",
    "#        df[\"DESCRIÇÃO MACRO\"] = df[\"RESPOSTA DA VISAO MACRO DOS CONTROLES\"].map(mapa_descr_macro)\n",
    "        \n",
    "        mask = df[\"GRUPO IMPLE\"].str.contains(r\"CIS \", na=False)\n",
    "        df.loc[mask, \"GRUPO IMPLE\"] = \"\"\n",
    "        \n",
    "        # Seleciona as colunas desejadas\n",
    "        colunas = [\n",
    "            'Nome da Origem.1','Nome da Origem.2','Ciclo_Entrega', 'ID', 'GRUPO IMPLE', 'FUNÇÃO NIST CSF', 'MEDIDA', \n",
    "            'DESCRIÇÃO DA MEDIDA', 'RESPOSTA DAS MEDIDAS', 'ID_Controle_Seg', \n",
    "            'Justificativa do porquê da resposta \"Não se aplica\"', \"RESPOSTA DA VISAO MACRO DOS CONTROLES\",\n",
    "             'DESCRIÇÃO DA VISAO MACRO DOS CONTROLES'\n",
    "        ]\n",
    "        df = df[colunas]\n",
    "\n",
    "        # Adiciona ao consolidado\n",
    "        dados_form2_3_base.append(df)\n",
    "        #print(f\"✅ Leitura concluída com sucesso: {arquivo}\")\n",
    "\n",
    "    except Exception as e:\n",
    "        print(f\"❌ Erro ao processar '{arquivo}': {e}\")\n",
    "\n",
    "# 5. Registrar contagem no resumo antes da consolidação\n",
    "    finally:\n",
    "        resumo_linhas_antes.append({\n",
    "            'arquivo': nome_arquivo,\n",
    "            'total_linhas_no_arquivo': total_linhas_arquivo,\n",
    "            'linhas_totais_lidas': linhas_totais,\n",
    "            'linhas_lidas': linhas_lidas\n",
    "        })\n",
    "\n",
    "# 6. Consolida tudo em um único DataFrame\n",
    "df_form2_3 = pd.concat(dados_form2_3_base, ignore_index=True)\n",
    "\n",
    "# 7. DataFrame com o resumo ANTES da consolidação\n",
    "df_resumo_antes = pd.DataFrame(resumo_linhas_antes)\n",
    "\n",
    "# 8. DataFrame com o resumo APÓS a consolidação\n",
    "df_resumo_apos = df_form2_3.groupby('Nome da Origem.2').size().reset_index(name='linhas_lidas')\n",
    "\n",
    "# Renomear coluna para permitir o merge\n",
    "df_resumo_apos = df_resumo_apos.rename(columns={'Nome da Origem.2': 'arquivo'})\n",
    "\n",
    "# Merge dos dois resumos\n",
    "df_resumo = pd.merge(df_resumo_antes, df_resumo_apos, on='arquivo', how='outer')\n",
    "\n",
    "# Reorganizar colunas\n",
    "colunas = [\n",
    "    'arquivo',\n",
    "    'total_linhas_no_arquivo',\n",
    "    'linhas_totais_lidas',\n",
    "    'linhas_lidas_x',  # Do antes\n",
    "    'linhas_lidas_y',  # Do após\n",
    "    'nome_de_origem.2_distintos'\n",
    "]\n",
    "\n",
    "# Renomear colunas para algo mais intuitivo\n",
    "df_resumo.rename(columns={\n",
    "    'linhas_lidas_x': 'linhas_lidas_antes',\n",
    "    'linhas_lidas_y': 'linhas_lidas_apos'\n",
    "}, inplace=True)\n",
    "\n",
    "# Preencher NaNs com 0 (se houver erros na leitura de arquivos)\n",
    "df_resumo.fillna(0, inplace=True)\n",
    "\n",
    "\n",
    "# Exibir total de arquivos distintos processados\n",
    "total_distintos = df_form2_3['Nome da Origem.2'].nunique()\n",
    "\n",
    "\n",
    "total_arquivos_lidos = df_resumo_antes['linhas_lidas'].gt(0).sum()\n",
    "print(f\"📥 Total de arquivos lidos com sucesso: {total_arquivos_lidos}\")\n",
    "\n",
    "total_arquivos_consolidados = df_form2_3['Nome da Origem.2'].nunique()\n",
    "print(f\"📦 Total de arquivos únicos no consolidado (Nome da Origem.2): {total_arquivos_consolidados}\")\n",
    "\n",
    "df_resumo['total_arquivos_lidos'] = total_arquivos_lidos\n",
    "df_resumo['total_arquivos_consolidados'] = total_arquivos_consolidados\n",
    "\n",
    "# 10. Resumo da execução\n",
    "total_arquivos = len(arquivos)\n",
    "sucesso = df_resumo_antes['linhas_lidas'].gt(0).sum()\n",
    "erros = total_arquivos - sucesso\n",
    "\n",
    "print(\"\\n📊 Resumo da execução:\")\n",
    "print(f\"🗂️ Total de arquivos considerados: {total_arquivos}\")\n",
    "print(f\"✅ Arquivos lidos com sucesso: {sucesso}\")\n",
    "print(f\"❌ Arquivos com erro: {erros}\")\n",
    "print(f\"📥 Total de arquivos lidos com sucesso: {total_arquivos_lidos}\")\n",
    "print(f\"📦 Total de arquivos únicos no consolidado (Nome da Origem.2): {total_arquivos_consolidados}\")\n",
    "\n",
    "print(\"✅ Consolidação concluída com sucesso!\")"
   ]
  },
  {
   "cell_type": "code",
   "execution_count": 8,
   "id": "d16f5779-52c4-40a3-8b23-debc9935cdf6",
   "metadata": {},
   "outputs": [
    {
     "name": "stdout",
     "output_type": "stream",
     "text": [
      "Nome da Origem.1: 0 vazios\n",
      "Nome da Origem.2: 0 vazios\n",
      "Ciclo_Entrega: 0 vazios\n",
      "ID: 0 vazios\n",
      "GRUPO IMPLE: 11070 vazios\n",
      "FUNÇÃO NIST CSF: 11070 vazios\n",
      "MEDIDA: 0 vazios\n",
      "DESCRIÇÃO DA MEDIDA: 11070 vazios\n",
      "RESPOSTA DAS MEDIDAS: 11066 vazios\n",
      "ID_Controle_Seg: 47970 vazios\n",
      "Justificativa do porquê da resposta \"Não se aplica\": 86888 vazios\n",
      "RESPOSTA DA VISAO MACRO DOS CONTROLES: 94437 vazios\n",
      "DESCRIÇÃO DA VISAO MACRO DOS CONTROLES: 94095 vazios\n"
     ]
    }
   ],
   "source": [
    "colunas1 = [\n",
    "            'Nome da Origem.1','Nome da Origem.2','Ciclo_Entrega', 'ID', 'GRUPO IMPLE', 'FUNÇÃO NIST CSF', 'MEDIDA', \n",
    "            'DESCRIÇÃO DA MEDIDA', 'RESPOSTA DAS MEDIDAS', 'ID_Controle_Seg', \n",
    "            'Justificativa do porquê da resposta \"Não se aplica\"', \"RESPOSTA DA VISAO MACRO DOS CONTROLES\",\n",
    "             'DESCRIÇÃO DA VISAO MACRO DOS CONTROLES'\n",
    "        ]\n",
    "df = df_form2_3\n",
    "for col in colunas1:\n",
    "    if col in df.columns:\n",
    "        vazios = df[col].isnull().sum() + (df[col].astype(str).str.strip() == '').sum()\n",
    "        print(f\"{col}: {vazios} vazios\")\n",
    "    else:\n",
    "        print(f\"Coluna '{col}' não encontrada\")\n"
   ]
  },
  {
   "cell_type": "code",
   "execution_count": 9,
   "id": "fac117c4-b1a9-49b6-9eef-d3101e63a576",
   "metadata": {},
   "outputs": [],
   "source": [
    "# Salva em Excel\n",
    "df_resumo.to_excel(r\"C:\\Users\\denis\\OneDrive\\Documentos\\python\\meuambiente\\Scripts\\PPSI\\ANALISE_BASE\\df_form2_3_resumo.xlsx\", sheet_name = \"df_form2_3_resumo\", index=False)\n",
    "df_form2_3.to_excel(r\"C:\\Users\\denis\\OneDrive\\Documentos\\python\\meuambiente\\Scripts\\PPSI\\ANALISE_BASE\\df_form2_3.xlsx\", sheet_name = \"df_form2_3\", index=False)"
   ]
  },
  {
   "cell_type": "code",
   "execution_count": 10,
   "id": "1e406f1b-a1e9-40c1-be79-0801455c40d6",
   "metadata": {},
   "outputs": [
    {
     "name": "stdout",
     "output_type": "stream",
     "text": [
      "<class 'pandas.core.frame.DataFrame'>\n",
      "RangeIndex: 105165 entries, 0 to 105164\n",
      "Data columns (total 13 columns):\n",
      " #   Column                                               Non-Null Count   Dtype \n",
      "---  ------                                               --------------   ----- \n",
      " 0   Nome da Origem.1                                     105165 non-null  object\n",
      " 1   Nome da Origem.2                                     105165 non-null  object\n",
      " 2   Ciclo_Entrega                                        105165 non-null  object\n",
      " 3   ID                                                   105165 non-null  object\n",
      " 4   GRUPO IMPLE                                          105165 non-null  object\n",
      " 5   FUNÇÃO NIST CSF                                      105165 non-null  object\n",
      " 6   MEDIDA                                               105165 non-null  object\n",
      " 7   DESCRIÇÃO DA MEDIDA                                  105165 non-null  object\n",
      " 8   RESPOSTA DAS MEDIDAS                                 105165 non-null  object\n",
      " 9   ID_Controle_Seg                                      105165 non-null  object\n",
      " 10  Justificativa do porquê da resposta \"Não se aplica\"  105165 non-null  object\n",
      " 11  RESPOSTA DA VISAO MACRO DOS CONTROLES                104823 non-null  object\n",
      " 12  DESCRIÇÃO DA VISAO MACRO DOS CONTROLES               11070 non-null   object\n",
      "dtypes: object(13)\n",
      "memory usage: 10.4+ MB\n"
     ]
    }
   ],
   "source": [
    "df_form2_3.info()"
   ]
  },
  {
   "cell_type": "code",
   "execution_count": 11,
   "id": "24d305d5-242d-436b-bc8c-206333ff20d5",
   "metadata": {},
   "outputs": [],
   "source": [
    "#df_form2_3.head()"
   ]
  },
  {
   "cell_type": "code",
   "execution_count": 12,
   "id": "f1d84ddf-7ad3-4053-aacf-c3000887d15d",
   "metadata": {},
   "outputs": [],
   "source": [
    "df_form2_3 = df_form2_3.reset_index(drop=True)"
   ]
  },
  {
   "cell_type": "code",
   "execution_count": 13,
   "id": "8e7fe67a-8f58-49c2-93a3-d8d819788ecf",
   "metadata": {},
   "outputs": [],
   "source": [
    "df_consolidado = df_form2_3"
   ]
  },
  {
   "cell_type": "code",
   "execution_count": 14,
   "id": "faa34b6f-1293-452f-a43d-f278b1616c94",
   "metadata": {},
   "outputs": [],
   "source": [
    "df_consolidado['Ciclo_Entrega'] = df_consolidado['Ciclo_Entrega'].astype(str).str.strip().str.upper()\n",
    "\n",
    "# Filtrar somente ciclos válidos que seguem o padrão \"C\" seguido de número\n",
    "ciclos_ordenados = sorted(\n",
    "    [c for c in df_consolidado['Ciclo_Entrega'].unique() if c.startswith('C') and c[1:].isdigit()],\n",
    "    key=lambda x: int(x[1:])\n",
    ")\n",
    "\n",
    "df_resultado = pd.DataFrame()\n",
    "chave = ['Nome da Origem.1', 'ID']\n",
    "\n",
    "for i, ciclo in enumerate(ciclos_ordenados):\n",
    "    ciclos_ate_agora = ciclos_ordenados[:i+1]\n",
    "\n",
    "    df_filtrado = df_consolidado[df_consolidado['Ciclo_Entrega'].isin(ciclos_ate_agora)].copy()\n",
    "\n",
    "    # Mapeia a ordem dos ciclos dinamicamente\n",
    "    ordem_map = {c: idx for idx, c in enumerate(ciclos_ate_agora)}\n",
    "    df_filtrado['ordem_ciclo'] = df_filtrado['Ciclo_Entrega'].map(ordem_map)\n",
    "\n",
    "    # Ordena para pegar o mais recente por grupo\n",
    "    df_filtrado = (\n",
    "        df_filtrado\n",
    "        .sort_values(chave + ['ordem_ciclo'], ascending=[True]*len(chave) + [False])\n",
    "        .drop_duplicates(subset=chave, keep='first')\n",
    "    )\n",
    "\n",
    "    df_filtrado['Ciclo_Contexto'] = ciclo\n",
    "    df_resultado = pd.concat([df_resultado, df_filtrado.drop(columns='ordem_ciclo')], ignore_index=True)"
   ]
  },
  {
   "cell_type": "code",
   "execution_count": 15,
   "id": "2304b126-2346-49ba-9b63-2a41f24c32ce",
   "metadata": {},
   "outputs": [],
   "source": [
    "#df_resultado.head()"
   ]
  },
  {
   "cell_type": "code",
   "execution_count": 16,
   "id": "821390c4-4fb6-455f-b648-914e4c5fce75",
   "metadata": {},
   "outputs": [],
   "source": [
    "#df_resultado.head()"
   ]
  },
  {
   "cell_type": "code",
   "execution_count": 17,
   "id": "3f1b68b6-0caa-4455-b492-bab18afb638d",
   "metadata": {},
   "outputs": [],
   "source": [
    "# Substitui \"C1\" por \"Ciclo 1\", \"C2\" por \"Ciclo 2\", etc.\n",
    "df_form2_3['Ciclo_Entrega'] = df_form2_3['Ciclo_Entrega'].str.extract(r'(\\d+)')[0].astype(int).apply(lambda x: f'Ciclo {x}')"
   ]
  },
  {
   "cell_type": "code",
   "execution_count": 18,
   "id": "fcb837b1-c216-4fd7-ab43-391bab572340",
   "metadata": {},
   "outputs": [],
   "source": [
    "# Salva em Excel\n",
    "df_form2_3.to_excel(r\"C:\\Users\\denis\\OneDrive\\Documentos\\python\\meuambiente\\Scripts\\PPSI\\FONTE_PAINEL\\FORM2_3-Diagn-SI_C.xlsx\", sheet_name = \"FORM2_3-Diagn-SI_C\", index=False)"
   ]
  },
  {
   "cell_type": "code",
   "execution_count": 19,
   "id": "9c372865-0ac6-46c2-ab48-9f075c7c9e9b",
   "metadata": {},
   "outputs": [],
   "source": [
    "# Substitui \"C1\" por \"Ciclo 1\", \"C2\" por \"Ciclo 2\", etc.\n",
    "df_resultado['Ciclo_Entrega'] = df_resultado['Ciclo_Entrega'].str.extract(r'(\\d+)')[0].astype(int).apply(lambda x: f'Ciclo {x}')\n",
    "df_resultado['Ciclo_Contexto'] = df_resultado['Ciclo_Contexto'].str.extract(r'(\\d+)')[0].astype(int).apply(lambda x: f'Ciclo {x}')"
   ]
  },
  {
   "cell_type": "code",
   "execution_count": 20,
   "id": "757f3e8e-5147-49b9-bd0b-b03ad0e90a26",
   "metadata": {},
   "outputs": [],
   "source": [
    "# Salva em Excel\n",
    "df_resultado.to_excel(r\"C:\\Users\\denis\\OneDrive\\Documentos\\python\\meuambiente\\Scripts\\PPSI\\FONTE_PAINEL\\FORM2_3-Diagn-SI_Recente.xlsx\", sheet_name = \"FORM2_3-Diagn-SI_Recente\", index=False)"
   ]
  },
  {
   "cell_type": "code",
   "execution_count": 21,
   "id": "58e38d74-8c4a-4c46-8c2b-2fbe24bc39c3",
   "metadata": {},
   "outputs": [],
   "source": [
    "# Salvando o DataFrame em CSV com o separador correto e garantindo que o ID seja tratado como texto\n",
    "#df_resultado.to_csv(r\"C:\\Users\\denis\\OneDrive\\Documentos\\python\\meuambiente\\Scripts\\PPSI\\FONTE_PAINEL\\FORM2_3-Diagn-SI_Recente.csv\",\n",
    "#    sep=';',  # Usando ponto e vírgula como separador (dependendo da configuração regional)\n",
    "#    index=False,  # Não incluir o índice\n",
    "#    encoding='utf-8-sig',  # Codificação para garantir compatibilidade com o Excel\n",
    "#    float_format=\"%.2f\",  # Formato de números com 2 casas decimais\n",
    "#    quotechar='\"',  # Envolver os campos em aspas para garantir que os valores não sejam alterados\n",
    "#    quoting=1  # Forçar o uso de aspas\n",
    "#)"
   ]
  },
  {
   "cell_type": "code",
   "execution_count": 22,
   "id": "6c3616f8-b71d-43bf-a2f4-5dc5d6aa13cf",
   "metadata": {},
   "outputs": [
    {
     "name": "stdout",
     "output_type": "stream",
     "text": [
      "2025-05-26 11:16:47.401799\n",
      "2025-05-26 11:40:36.193005\n",
      "0:23:48.791206\n"
     ]
    }
   ],
   "source": [
    "dh_termino = datetime.today()\n",
    "duracao = dh_termino - dh_inicio\n",
    "print(dh_inicio)\n",
    "print(dh_termino)\n",
    "print(duracao)"
   ]
  },
  {
   "cell_type": "code",
   "execution_count": 23,
   "id": "29b731c2-d847-4a32-a225-4cb4247b0803",
   "metadata": {},
   "outputs": [
    {
     "name": "stdout",
     "output_type": "stream",
     "text": [
      "<class 'pandas.core.frame.DataFrame'>\n",
      "RangeIndex: 117819 entries, 0 to 117818\n",
      "Data columns (total 14 columns):\n",
      " #   Column                                               Non-Null Count   Dtype \n",
      "---  ------                                               --------------   ----- \n",
      " 0   Nome da Origem.1                                     117819 non-null  object\n",
      " 1   Nome da Origem.2                                     117819 non-null  object\n",
      " 2   Ciclo_Entrega                                        117819 non-null  object\n",
      " 3   ID                                                   117819 non-null  object\n",
      " 4   GRUPO IMPLE                                          117819 non-null  object\n",
      " 5   FUNÇÃO NIST CSF                                      117819 non-null  object\n",
      " 6   MEDIDA                                               117819 non-null  object\n",
      " 7   DESCRIÇÃO DA MEDIDA                                  117819 non-null  object\n",
      " 8   RESPOSTA DAS MEDIDAS                                 117819 non-null  object\n",
      " 9   ID_Controle_Seg                                      117819 non-null  object\n",
      " 10  Justificativa do porquê da resposta \"Não se aplica\"  117819 non-null  object\n",
      " 11  RESPOSTA DA VISAO MACRO DOS CONTROLES                117387 non-null  object\n",
      " 12  DESCRIÇÃO DA VISAO MACRO DOS CONTROLES               12402 non-null   object\n",
      " 13  Ciclo_Contexto                                       117819 non-null  object\n",
      "dtypes: object(14)\n",
      "memory usage: 12.6+ MB\n"
     ]
    }
   ],
   "source": [
    "df_resultado.info()"
   ]
  },
  {
   "cell_type": "code",
   "execution_count": 24,
   "id": "cb5fc315-ef14-4f0c-b5d8-5a9c57f364b0",
   "metadata": {},
   "outputs": [
    {
     "name": "stdout",
     "output_type": "stream",
     "text": [
      "Nome da Origem.1: 0 vazios\n",
      "Nome da Origem.2: 0 vazios\n",
      "Ciclo_Entrega: 0 vazios\n",
      "ID: 0 vazios\n",
      "GRUPO IMPLE: 12402 vazios\n",
      "FUNÇÃO NIST CSF: 12402 vazios\n",
      "MEDIDA: 0 vazios\n",
      "DESCRIÇÃO DA MEDIDA: 12402 vazios\n",
      "RESPOSTA DAS MEDIDAS: 12397 vazios\n",
      "ID_Controle_Seg: 53742 vazios\n",
      "Justificativa do porquê da resposta \"Não se aplica\": 97902 vazios\n",
      "RESPOSTA DA VISAO MACRO DOS CONTROLES: 105849 vazios\n",
      "DESCRIÇÃO DA VISAO MACRO DOS CONTROLES: 105417 vazios\n"
     ]
    }
   ],
   "source": [
    "colunas1 = [\n",
    "            'Nome da Origem.1','Nome da Origem.2','Ciclo_Entrega', 'ID', 'GRUPO IMPLE', 'FUNÇÃO NIST CSF', 'MEDIDA', \n",
    "            'DESCRIÇÃO DA MEDIDA', 'RESPOSTA DAS MEDIDAS', 'ID_Controle_Seg', \n",
    "            'Justificativa do porquê da resposta \"Não se aplica\"', \"RESPOSTA DA VISAO MACRO DOS CONTROLES\",\n",
    "             'DESCRIÇÃO DA VISAO MACRO DOS CONTROLES'\n",
    "        ]\n",
    "df = df_resultado\n",
    "for col in colunas1:\n",
    "    if col in df.columns:\n",
    "        vazios = df[col].isnull().sum() + (df[col].astype(str).str.strip() == '').sum()\n",
    "        print(f\"{col}: {vazios} vazios\")\n",
    "    else:\n",
    "        print(f\"Coluna '{col}' não encontrada\")"
   ]
  }
 ],
 "metadata": {
  "kernelspec": {
   "display_name": "Python 3 (ipykernel)",
   "language": "python",
   "name": "python3"
  },
  "language_info": {
   "codemirror_mode": {
    "name": "ipython",
    "version": 3
   },
   "file_extension": ".py",
   "mimetype": "text/x-python",
   "name": "python",
   "nbconvert_exporter": "python",
   "pygments_lexer": "ipython3",
   "version": "3.12.7"
  }
 },
 "nbformat": 4,
 "nbformat_minor": 5
}
