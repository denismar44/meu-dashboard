{
 "cells": [
  {
   "cell_type": "code",
   "execution_count": 1,
   "id": "14c85196-1520-43fe-b572-c1c77501b033",
   "metadata": {},
   "outputs": [],
   "source": [
    "#!pip install -U openpyxl"
   ]
  },
  {
   "cell_type": "code",
   "execution_count": 1,
   "id": "56a0907e-f5be-4303-96a1-bc9b30d9f8e1",
   "metadata": {},
   "outputs": [],
   "source": [
    "import os\n",
    "import pandas as pd\n",
    "import numpy as np\n",
    "from datetime import date, datetime\n",
    "from openpyxl import load_workbook\n",
    "import warnings\n",
    "warnings.filterwarnings('ignore')"
   ]
  },
  {
   "cell_type": "code",
   "execution_count": 2,
   "id": "50498c40-c4a4-4104-9139-45d38d9b3c78",
   "metadata": {},
   "outputs": [],
   "source": [
    "dh_inicio = datetime.today()"
   ]
  },
  {
   "cell_type": "markdown",
   "id": "baf99a58-3689-443c-8d4d-4d6e7934b36b",
   "metadata": {},
   "source": [
    "### CARGA DO ARQUIVO ORGAO_SISP"
   ]
  },
  {
   "cell_type": "code",
   "execution_count": 4,
   "id": "39fc3d84-6e5f-448d-9103-fb18829db93f",
   "metadata": {},
   "outputs": [],
   "source": [
    "# Caminho da pasta dos arquivos\n",
    "df = pd.read_excel(r\"C:\\Users\\MGI\\OneDrive - mtegovbr\\COMAT\\ORGAOS_SISP\\ORGAOS_SISP.xlsx\" , sheet_name = \"ORGAOS_SISP\")"
   ]
  },
  {
   "cell_type": "code",
   "execution_count": 8,
   "id": "26507720-b118-41a3-b781-ae55a874b1c0",
   "metadata": {},
   "outputs": [
    {
     "name": "stdout",
     "output_type": "stream",
     "text": [
      "<class 'pandas.core.frame.DataFrame'>\n",
      "RangeIndex: 1026 entries, 0 to 1025\n",
      "Data columns (total 15 columns):\n",
      " #   Column                   Non-Null Count  Dtype \n",
      "---  ------                   --------------  ----- \n",
      " 0   20250511_1740            1025 non-null   object\n",
      " 1   orgao_geral              252 non-null    object\n",
      " 2   orgao_sisp               252 non-null    object\n",
      " 3   auxiliar-infraestrutura  251 non-null    object\n",
      " 4   auxiliar_uf_municipio    251 non-null    object\n",
      " 5   gestor                   251 non-null    object\n",
      " 6   auxiliar_tipo            251 non-null    object\n",
      " 7   tipo                     251 non-null    object\n",
      " 8   orgao_geral_sigla        252 non-null    object\n",
      " 9   orgao_geral_nome         251 non-null    object\n",
      " 10  orgao_sisp_sigla         251 non-null    object\n",
      " 11  orgao_sisp_nome          251 non-null    object\n",
      " 12  uf                       251 non-null    object\n",
      " 13  municipio                251 non-null    object\n",
      " 14  orgao_ppsi               253 non-null    object\n",
      "dtypes: object(15)\n",
      "memory usage: 120.4+ KB\n"
     ]
    }
   ],
   "source": [
    "df.info()"
   ]
  },
  {
   "cell_type": "code",
   "execution_count": 10,
   "id": "bd40390a-ada6-4a3a-a212-4ff2bd9896e4",
   "metadata": {},
   "outputs": [],
   "source": [
    "df = df.drop(['20250511_1740','auxiliar_tipo','auxiliar_uf_municipio'], axis=1)"
   ]
  },
  {
   "cell_type": "code",
   "execution_count": 12,
   "id": "ae5594c9-30b1-4c14-998f-2c46c077bfb3",
   "metadata": {},
   "outputs": [],
   "source": [
    "df = df.dropna(how='all')"
   ]
  },
  {
   "cell_type": "code",
   "execution_count": 14,
   "id": "033b2ea9-ed28-41e3-a5ce-4eda922bafc6",
   "metadata": {},
   "outputs": [],
   "source": [
    "# Exemplo: removendo linhas com mais de 5 NaNs\n",
    "df = df[df.isnull().sum(axis=1) <= 2].copy()"
   ]
  },
  {
   "cell_type": "code",
   "execution_count": 16,
   "id": "cd3fcd16-0f8a-4aa5-b658-76cbf6ba4961",
   "metadata": {},
   "outputs": [],
   "source": [
    "def ajustar_municipio(municipio):\n",
    "    if municipio.strip().lower() == 'distrito federal':\n",
    "        return 'Brasília'\n",
    "    return municipio\n",
    "\n",
    "df['municipio'] = df['municipio'].apply(ajustar_municipio)"
   ]
  },
  {
   "cell_type": "code",
   "execution_count": 18,
   "id": "00816461-9cab-4aff-b020-91121e92f97d",
   "metadata": {},
   "outputs": [
    {
     "data": {
      "text/html": [
       "<div>\n",
       "<style scoped>\n",
       "    .dataframe tbody tr th:only-of-type {\n",
       "        vertical-align: middle;\n",
       "    }\n",
       "\n",
       "    .dataframe tbody tr th {\n",
       "        vertical-align: top;\n",
       "    }\n",
       "\n",
       "    .dataframe thead th {\n",
       "        text-align: right;\n",
       "    }\n",
       "</style>\n",
       "<table border=\"1\" class=\"dataframe\">\n",
       "  <thead>\n",
       "    <tr style=\"text-align: right;\">\n",
       "      <th></th>\n",
       "      <th>orgao_geral</th>\n",
       "      <th>orgao_sisp</th>\n",
       "      <th>auxiliar-infraestrutura</th>\n",
       "      <th>gestor</th>\n",
       "      <th>tipo</th>\n",
       "      <th>orgao_geral_sigla</th>\n",
       "      <th>orgao_geral_nome</th>\n",
       "      <th>orgao_sisp_sigla</th>\n",
       "      <th>orgao_sisp_nome</th>\n",
       "      <th>uf</th>\n",
       "      <th>municipio</th>\n",
       "      <th>orgao_ppsi</th>\n",
       "    </tr>\n",
       "  </thead>\n",
       "  <tbody>\n",
       "    <tr>\n",
       "      <th>1</th>\n",
       "      <td>Ministério da Gestão e da Inovação em Serviços...</td>\n",
       "      <td>Secretaria de Governo Digital</td>\n",
       "      <td>SGD Secretaria de Governo Digital</td>\n",
       "      <td>Rogerio Souza Mascarenhas</td>\n",
       "      <td>Central</td>\n",
       "      <td>MGI</td>\n",
       "      <td>Ministério da Gestão e da Inovação em Serviços...</td>\n",
       "      <td>SGD</td>\n",
       "      <td>Secretaria de Governo Digital</td>\n",
       "      <td>DF</td>\n",
       "      <td>Brasília</td>\n",
       "      <td>MGI/SGD</td>\n",
       "    </tr>\n",
       "    <tr>\n",
       "      <th>18</th>\n",
       "      <td>AGU | Advocacia-Geral da União</td>\n",
       "      <td>SGE Secretaria de Governança e Gestão Estratégica</td>\n",
       "      <td>SGE Secretaria de Governança e Gestão Estratégica</td>\n",
       "      <td>Francisco Alexandre Colares Melo Carlos</td>\n",
       "      <td>Setorial</td>\n",
       "      <td>AGU</td>\n",
       "      <td>Advocacia-Geral da União</td>\n",
       "      <td>SGE</td>\n",
       "      <td>Secretaria de Governança e Gestão Estratégica</td>\n",
       "      <td>DF</td>\n",
       "      <td>Brasília</td>\n",
       "      <td>AGU/SGE</td>\n",
       "    </tr>\n",
       "    <tr>\n",
       "      <th>22</th>\n",
       "      <td>CC-PR | Casa Civil da Presidência da República</td>\n",
       "      <td>DITEC Diretoria de Tecnologia</td>\n",
       "      <td>DITEC Diretoria de Tecnologia</td>\n",
       "      <td>Bruno Pereira Pontes</td>\n",
       "      <td>Setorial</td>\n",
       "      <td>CC-PR</td>\n",
       "      <td>Casa Civil da Presidência da República</td>\n",
       "      <td>DITEC</td>\n",
       "      <td>Diretoria de Tecnologia</td>\n",
       "      <td>DF</td>\n",
       "      <td>Brasília</td>\n",
       "      <td>CC-PR/DITEC</td>\n",
       "    </tr>\n",
       "    <tr>\n",
       "      <th>26</th>\n",
       "      <td>CGU | Controladoria-Geral da União</td>\n",
       "      <td>DTI Diretoria de Tecnologia da Informação</td>\n",
       "      <td>DTI Diretoria de Tecnologia da Informação</td>\n",
       "      <td>Henrique Aparecido da Rocha</td>\n",
       "      <td>Setorial</td>\n",
       "      <td>CGU</td>\n",
       "      <td>Controladoria-Geral da União</td>\n",
       "      <td>DTI</td>\n",
       "      <td>Diretoria de Tecnologia da Informação</td>\n",
       "      <td>DF</td>\n",
       "      <td>Brasília</td>\n",
       "      <td>CGU/DTI</td>\n",
       "    </tr>\n",
       "    <tr>\n",
       "      <th>30</th>\n",
       "      <td>MAPA | Ministério da Agricultura e Pecuária</td>\n",
       "      <td>STI Subsecretaria de Tecnologia da Informação</td>\n",
       "      <td>STI Subsecretaria de Tecnologia da Informação</td>\n",
       "      <td>Camilo Mussi</td>\n",
       "      <td>Setorial</td>\n",
       "      <td>MAPA</td>\n",
       "      <td>Ministério da Agricultura e Pecuária</td>\n",
       "      <td>STI</td>\n",
       "      <td>Subsecretaria de Tecnologia da Informação</td>\n",
       "      <td>DF</td>\n",
       "      <td>Brasília</td>\n",
       "      <td>MAPA/STI</td>\n",
       "    </tr>\n",
       "  </tbody>\n",
       "</table>\n",
       "</div>"
      ],
      "text/plain": [
       "                                          orgao_geral  \\\n",
       "1   Ministério da Gestão e da Inovação em Serviços...   \n",
       "18                     AGU | Advocacia-Geral da União   \n",
       "22     CC-PR | Casa Civil da Presidência da República   \n",
       "26                 CGU | Controladoria-Geral da União   \n",
       "30        MAPA | Ministério da Agricultura e Pecuária   \n",
       "\n",
       "                                           orgao_sisp  \\\n",
       "1                       Secretaria de Governo Digital   \n",
       "18  SGE Secretaria de Governança e Gestão Estratégica   \n",
       "22                      DITEC Diretoria de Tecnologia   \n",
       "26          DTI Diretoria de Tecnologia da Informação   \n",
       "30      STI Subsecretaria de Tecnologia da Informação   \n",
       "\n",
       "                              auxiliar-infraestrutura  \\\n",
       "1                   SGD Secretaria de Governo Digital   \n",
       "18  SGE Secretaria de Governança e Gestão Estratégica   \n",
       "22                      DITEC Diretoria de Tecnologia   \n",
       "26          DTI Diretoria de Tecnologia da Informação   \n",
       "30      STI Subsecretaria de Tecnologia da Informação   \n",
       "\n",
       "                                     gestor      tipo orgao_geral_sigla  \\\n",
       "1                 Rogerio Souza Mascarenhas   Central               MGI   \n",
       "18  Francisco Alexandre Colares Melo Carlos  Setorial               AGU   \n",
       "22                     Bruno Pereira Pontes  Setorial             CC-PR   \n",
       "26              Henrique Aparecido da Rocha  Setorial               CGU   \n",
       "30                             Camilo Mussi  Setorial              MAPA   \n",
       "\n",
       "                                     orgao_geral_nome orgao_sisp_sigla  \\\n",
       "1   Ministério da Gestão e da Inovação em Serviços...              SGD   \n",
       "18                           Advocacia-Geral da União              SGE   \n",
       "22             Casa Civil da Presidência da República            DITEC   \n",
       "26                       Controladoria-Geral da União              DTI   \n",
       "30               Ministério da Agricultura e Pecuária              STI   \n",
       "\n",
       "                                  orgao_sisp_nome  uf municipio   orgao_ppsi  \n",
       "1                   Secretaria de Governo Digital  DF  Brasília      MGI/SGD  \n",
       "18  Secretaria de Governança e Gestão Estratégica  DF  Brasília      AGU/SGE  \n",
       "22                        Diretoria de Tecnologia  DF  Brasília  CC-PR/DITEC  \n",
       "26          Diretoria de Tecnologia da Informação  DF  Brasília      CGU/DTI  \n",
       "30      Subsecretaria de Tecnologia da Informação  DF  Brasília     MAPA/STI  "
      ]
     },
     "execution_count": 18,
     "metadata": {},
     "output_type": "execute_result"
    }
   ],
   "source": [
    "df.head()"
   ]
  },
  {
   "cell_type": "code",
   "execution_count": 22,
   "id": "ba15d9a4-ba15-4744-a4a1-73044cdac167",
   "metadata": {},
   "outputs": [],
   "source": [
    "# Salva em Excel\n",
    "df.to_excel(r\"C:\\Users\\MGI\\OneDrive - mtegovbr\\COMAT\\Doc_Apoio_BI\\Orgao_SISP_Atual.xlsx\", sheet_name='Orgao_SISP_Atual', index=False)"
   ]
  },
  {
   "cell_type": "code",
   "execution_count": null,
   "id": "4fd21306-899d-41bf-a5a5-6ddb2ead5ada",
   "metadata": {},
   "outputs": [],
   "source": []
  }
 ],
 "metadata": {
  "kernelspec": {
   "display_name": "Python [conda env:base] *",
   "language": "python",
   "name": "conda-base-py"
  },
  "language_info": {
   "codemirror_mode": {
    "name": "ipython",
    "version": 3
   },
   "file_extension": ".py",
   "mimetype": "text/x-python",
   "name": "python",
   "nbconvert_exporter": "python",
   "pygments_lexer": "ipython3",
   "version": "3.12.7"
  }
 },
 "nbformat": 4,
 "nbformat_minor": 5
}
