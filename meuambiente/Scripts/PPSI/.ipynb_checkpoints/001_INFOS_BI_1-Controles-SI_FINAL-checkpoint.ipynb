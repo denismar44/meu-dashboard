{
 "cells": [
  {
   "cell_type": "code",
   "execution_count": 1,
   "id": "14c85196-1520-43fe-b572-c1c77501b033",
   "metadata": {},
   "outputs": [],
   "source": [
    "#!pip install -U openpyxl"
   ]
  },
  {
   "cell_type": "code",
   "execution_count": 2,
   "id": "56a0907e-f5be-4303-96a1-bc9b30d9f8e1",
   "metadata": {},
   "outputs": [],
   "source": [
    "import os\n",
    "import re\n",
    "import pandas as pd\n",
    "import numpy as np\n",
    "from datetime import date, datetime\n",
    "from openpyxl import load_workbook\n",
    "import warnings\n",
    "warnings.filterwarnings('ignore')\n",
    "from glob import glob"
   ]
  },
  {
   "cell_type": "code",
   "execution_count": 3,
   "id": "50498c40-c4a4-4104-9139-45d38d9b3c78",
   "metadata": {},
   "outputs": [],
   "source": [
    "dh_inicio = datetime.today()"
   ]
  },
  {
   "cell_type": "markdown",
   "id": "2010cf91-5f6f-47c5-9c04-9ad38f2c22b7",
   "metadata": {},
   "source": [
    "### CARGA DOS ARQUIVOS DOS CICLOS"
   ]
  },
  {
   "cell_type": "code",
   "execution_count": 5,
   "id": "33fb8487-7aa1-40b6-a742-cdd0beac1fa8",
   "metadata": {},
   "outputs": [
    {
     "name": "stdout",
     "output_type": "stream",
     "text": [
      "Lista de arquivos salva com sucesso!\n"
     ]
    }
   ],
   "source": [
    "# Caminho da pasta dos arquivos\n",
    "caminho_pasta = r\"C:\\Users\\MGI\\OneDrive - mtegovbr\\COMAT\\BASE\\CICLOS-1-2-3-4\"\n",
    "\n",
    "# Lista os arquivos da pasta\n",
    "arquivos = os.listdir(caminho_pasta)\n",
    "\n",
    "# Filtra apenas arquivos (ignora subpastas)\n",
    "arquivos = [f for f in arquivos if os.path.isfile(os.path.join(caminho_pasta, f))]\n",
    "\n",
    "# Cria um DataFrame com os nomes\n",
    "df = pd.DataFrame(arquivos, columns=[\"nome_arquivo\"])\n",
    "\n",
    "# Salva em Excel\n",
    "#df.to_excel(r\"C:\\Users\\MGI\\Documents\\COMAT\\REFERENCIAS\\CICLOS-1-2-3\\CICLO_1_2_3_arquivos.xlsx\", index=False)\n",
    "\n",
    "print(\"Lista de arquivos salva com sucesso!\")\n"
   ]
  },
  {
   "cell_type": "code",
   "execution_count": 6,
   "id": "92bed9bf-9461-47e0-8957-0c9ff4e231ba",
   "metadata": {},
   "outputs": [
    {
     "name": "stdout",
     "output_type": "stream",
     "text": [
      "<class 'pandas.core.frame.DataFrame'>\n",
      "RangeIndex: 835 entries, 0 to 834\n",
      "Data columns (total 1 columns):\n",
      " #   Column        Non-Null Count  Dtype \n",
      "---  ------        --------------  ----- \n",
      " 0   nome_arquivo  835 non-null    object\n",
      "dtypes: object(1)\n",
      "memory usage: 6.7+ KB\n"
     ]
    }
   ],
   "source": [
    "df.info()"
   ]
  },
  {
   "cell_type": "markdown",
   "id": "54eb09e8-c48c-4eca-b006-a24126eafe19",
   "metadata": {},
   "source": [
    "### INFOS_BI_1-Controles-SI"
   ]
  },
  {
   "cell_type": "code",
   "execution_count": 8,
   "id": "c4fdd263-af5d-48e7-8eb4-de355593c781",
   "metadata": {},
   "outputs": [
    {
     "name": "stdout",
     "output_type": "stream",
     "text": [
      "\n",
      "📊 Resumo da execução:\n",
      "🗂️ Total de arquivos considerados: 835\n",
      "✅ Arquivos lidos com sucesso: 835\n",
      "❌ Arquivos com erro: 0\n",
      "📦 Total de arquivos únicos no consolidado (Nome da Origem.2): 835\n",
      "✅ ✅ Consolidação concluída com sucesso!\n"
     ]
    }
   ],
   "source": [
    "import os\n",
    "import pandas as pd\n",
    "import re\n",
    "\n",
    "aba_desejada = \"INFOS_BI_1\"\n",
    "\n",
    "# Lista para armazenar os DataFrames\n",
    "lista_df = []\n",
    "\n",
    "for arquivo in arquivos:\n",
    "    caminho_arquivo = os.path.join(caminho_pasta, arquivo)\n",
    "    \n",
    "    try:\n",
    "        df = pd.read_excel(caminho_arquivo, sheet_name=aba_desejada)\n",
    "\n",
    "        df = df.iloc[:19]   # apenas linhas de 0 a 19\n",
    "\n",
    "        \n",
    "      # Renomeia as colunas com base nas posições\n",
    "        novos_nomes = {\n",
    "            df.columns[2]: 'Valor_Indicador_Controle',            \n",
    "            df.columns[3]: 'Nivel_Maturidade_Controle'\n",
    "        }\n",
    "        df.rename(columns=novos_nomes, inplace=True)\n",
    "\n",
    "        \n",
    "        #df['arquivo_origem'] = os.path.basename(arquivo)\n",
    "        df['Nome da Origem.2'] = arquivo\n",
    "        df['Nome da Origem.1'] = df['Nome da Origem.2'].str.extract(r'-(.*?)-')\n",
    "        df['Ciclo_Entrega'] = df['Nome da Origem.2'].str[:2]\n",
    "\n",
    "        \n",
    "        # Garantir que os valores são float (caso tenham vindo como string)\n",
    "        df['Valor_Indicador_num'] = pd.to_numeric(df['Valor_Indicador_Controle'], errors='coerce')\n",
    "\n",
    "        # Arredondar para duas casas decimais\n",
    "        df['Valor_Indicador_num'] = df['Valor_Indicador_num'].round(2)        \n",
    "              \n",
    "        df[\"Nivel_Maturidade_Controle\"] = pd.cut(\n",
    "        df[\"Valor_Indicador_num\"],\n",
    "        bins=[-0.01, 0.29, 0.49, 0.69, 0.89, 1.0],\n",
    "        labels=[\"1. Inicial\", \"2. Básico\", \"3. Intermediário\", \"4. Em Aprimoramento\", \"5. Aprimorado\"]\n",
    "        )\n",
    "        \n",
    "        # Seleciona as colunas desejadas\n",
    "       \n",
    "        colunas = [\n",
    "            'ID CONTROLE', 'NOME CONTROLE', 'Valor_Indicador_Controle', 'Nivel_Maturidade_Controle', 'Nome da Origem.1', \n",
    "            'Nome da Origem.2', 'Ciclo_Entrega'\n",
    "        ]      \n",
    "        df = df[colunas]\n",
    "        \n",
    "        lista_df.append(df)\n",
    "        #print(f\"✅ Leitura concluída com sucesso: {arquivo}\")\n",
    "    except Exception as e:\n",
    "        print(f\"❌ Erro ao ler {arquivo}: {e}\")\n",
    "\n",
    "# Consolida todos os DataFrames\n",
    "df_infos_bi_1 = pd.concat(lista_df, ignore_index=True)\n",
    "\n",
    "# Resumo da execução\n",
    "\n",
    "total_arquivos_consolidados = df_infos_bi_1['Nome da Origem.2'].nunique()\n",
    "total_arquivos = len(arquivos)\n",
    "sucesso = len(lista_df)\n",
    "erros = total_arquivos - sucesso\n",
    "\n",
    "print(\"\\n📊 Resumo da execução:\")\n",
    "print(f\"🗂️ Total de arquivos considerados: {total_arquivos}\")\n",
    "print(f\"✅ Arquivos lidos com sucesso: {sucesso}\")\n",
    "print(f\"❌ Arquivos com erro: {erros}\")\n",
    " \n",
    "print(f\"📦 Total de arquivos únicos no consolidado (Nome da Origem.2): {total_arquivos_consolidados}\")\n",
    "\n",
    "print(\"✅ ✅ Consolidação concluída com sucesso!\")"
   ]
  },
  {
   "cell_type": "code",
   "execution_count": 9,
   "id": "d68e0686-c92f-4555-9b9f-dfb188e97402",
   "metadata": {},
   "outputs": [
    {
     "name": "stdout",
     "output_type": "stream",
     "text": [
      "ID CONTROLE: 0 vazios\n",
      "NOME CONTROLE: 0 vazios\n",
      "Valor_Indicador_Controle: 67 vazios\n",
      "Nivel_Maturidade_Controle: 1727 vazios\n",
      "Nome da Origem.1: 0 vazios\n",
      "Nome da Origem.2: 0 vazios\n",
      "Ciclo_Entrega: 0 vazios\n"
     ]
    }
   ],
   "source": [
    "colunas1 = [\n",
    "            'ID CONTROLE', 'NOME CONTROLE', 'Valor_Indicador_Controle', 'Nivel_Maturidade_Controle', 'Nome da Origem.1', \n",
    "            'Nome da Origem.2', 'Ciclo_Entrega'\n",
    "        ] \n",
    "df = df_infos_bi_1\n",
    "for col in colunas1:\n",
    "    if col in df.columns:\n",
    "        vazios = df[col].isnull().sum() + (df[col].astype(str).str.strip() == '').sum()\n",
    "        print(f\"{col}: {vazios} vazios\")\n",
    "    else:\n",
    "        print(f\"Coluna '{col}' não encontrada\")"
   ]
  },
  {
   "cell_type": "code",
   "execution_count": 10,
   "id": "16a1cc7e-78ee-4f45-b679-bc45e6b71915",
   "metadata": {},
   "outputs": [
    {
     "name": "stdout",
     "output_type": "stream",
     "text": [
      "<class 'pandas.core.frame.DataFrame'>\n",
      "RangeIndex: 15030 entries, 0 to 15029\n",
      "Data columns (total 7 columns):\n",
      " #   Column                     Non-Null Count  Dtype   \n",
      "---  ------                     --------------  -----   \n",
      " 0   ID CONTROLE                15030 non-null  int64   \n",
      " 1   NOME CONTROLE              15030 non-null  object  \n",
      " 2   Valor_Indicador_Controle   14963 non-null  object  \n",
      " 3   Nivel_Maturidade_Controle  13303 non-null  category\n",
      " 4   Nome da Origem.1           15030 non-null  object  \n",
      " 5   Nome da Origem.2           15030 non-null  object  \n",
      " 6   Ciclo_Entrega              15030 non-null  object  \n",
      "dtypes: category(1), int64(1), object(5)\n",
      "memory usage: 719.5+ KB\n"
     ]
    }
   ],
   "source": [
    "df_infos_bi_1.info()"
   ]
  },
  {
   "cell_type": "code",
   "execution_count": 11,
   "id": "8c866082-2e24-4ce2-ba44-cd69117c8da8",
   "metadata": {},
   "outputs": [],
   "source": [
    "df_infos_bi_1['ID CONTROLE'] = df_infos_bi_1['ID CONTROLE'].astype('object')"
   ]
  },
  {
   "cell_type": "code",
   "execution_count": 12,
   "id": "f65d3c9c-232d-443f-965b-aa613d8dde30",
   "metadata": {},
   "outputs": [],
   "source": [
    "df_infos_bi_1['Valor_Indicador_Controle'] = pd.to_numeric(df_infos_bi_1['Valor_Indicador_Controle'], errors='coerce').round(2)"
   ]
  },
  {
   "cell_type": "code",
   "execution_count": 13,
   "id": "e40043ac-1732-4f87-b41f-baab20ba7e18",
   "metadata": {},
   "outputs": [],
   "source": [
    "# Função para extrair o número do ciclo (C1 → 1, C4 → 4)\n",
    "#def extrair_numero_ciclo(ciclo):\n",
    "#    match = re.search(r'C(\\d+)', str(ciclo))\n",
    "#    return int(match.group(1)) if match else None\n",
    "\n",
    "# Aplica a extração no DataFrame consolidado\n",
    "#df_consolidado['numero_ciclo'] = df_consolidado['maior_ciclo'].apply(extrair_numero_ciclo)\n",
    "\n",
    "# Agrupa por órgão (ajuste o nome da coluna conforme seu caso real)\n",
    "#df_maior_ciclo_por_orgao = df_consolidado.loc[#\n",
    "#    df_consolidado.groupby('Nome da Origem.1')['numero_ciclo'].idxmax()\n",
    "#][['Nome da Origem.1', 'maior_ciclo']].rename(columns={'maior_ciclo': 'maior_ciclo_por_orgao'})\n",
    "\n",
    "# Junta de volta ao DataFrame consolidado, se quiser\n",
    "#df_consolidado = df_consolidado.merge(df_maior_ciclo_por_orgao, on='Nome da Origem.1', how='left')\n"
   ]
  },
  {
   "cell_type": "code",
   "execution_count": null,
   "id": "ad2081a3-bf14-4e0a-ad25-714d4c4a8599",
   "metadata": {},
   "outputs": [],
   "source": []
  },
  {
   "cell_type": "code",
   "execution_count": 14,
   "id": "59c7565a-bd2d-4697-b028-17f8b1080935",
   "metadata": {},
   "outputs": [],
   "source": [
    "#df_consolidado['Valor_Indicador_Controle_Priv'] = df_consolidado['Valor_Indicador_Controle_Priv'].astype(float)"
   ]
  },
  {
   "cell_type": "code",
   "execution_count": 15,
   "id": "6426ba03-0c87-40fc-b78a-76df7416f2af",
   "metadata": {},
   "outputs": [],
   "source": [
    "# Seleciona as colunas desejadas\n",
    "#colunas = [\n",
    "#    'Nome da Origem.1', 'Nome da Origem.2', 'Ciclo de Entrega', 'maior_ciclo_por_orgao', \n",
    "#    'ID CONTROLE', 'NOME CONTROLE', 'Valor_Indicador_Controle_Priv', 'Nivel_Maturidade_Controle_Priv'\n",
    "#]\n",
    "#df_consolidado = df_consolidado[colunas].rename(columns={\n",
    "#    'maior_ciclo_por_orgao': 'Ciclo de Entrega2'\n",
    "#})"
   ]
  },
  {
   "cell_type": "code",
   "execution_count": 16,
   "id": "e909d526-13e7-4f78-b02b-f51bb585d09b",
   "metadata": {},
   "outputs": [],
   "source": [
    "#mapa_maturidade = {\n",
    "#    'Inicial': '1. Inicial',\n",
    "#    'Básico': '2. Básico',\n",
    "#    'Intermediário': '3. Intermediário',\n",
    "#    'Em Aprimoramento': '4. Em Aprimoramento',\n",
    "#    'Aprimorardo': '5. Aprimorardo'   \n",
    "#}\n",
    "\n",
    "#df_consolidado['Nivel_Maturidade_Controle'] = df_consolidado['Nivel_Maturidade_Controle'].map(mapa_maturidade).fillna('')\n"
   ]
  },
  {
   "cell_type": "code",
   "execution_count": 17,
   "id": "26e3988f-a05f-4164-804f-4b27a9e54292",
   "metadata": {},
   "outputs": [],
   "source": [
    "#df_consolidado['Valor_Indicador_Controle'] = pd.to_numeric(df_consolidado['Valor_Indicador_Controle'], errors='coerce').round(2)"
   ]
  },
  {
   "cell_type": "code",
   "execution_count": 18,
   "id": "791cec89-8627-4b0d-85af-626af577214c",
   "metadata": {},
   "outputs": [],
   "source": [
    "#df_consolidado['Mais_Recente'] = np.where(df_consolidado['Ciclo de Entrega'] == df_consolidado['Ciclo de Entrega2'], 'Sim', 'Não')"
   ]
  },
  {
   "cell_type": "code",
   "execution_count": 19,
   "id": "f6281bbe-9bec-4b62-9d46-5f7dd8297cd7",
   "metadata": {},
   "outputs": [],
   "source": [
    "#df_consolidado['Mais_Recente_2'] = df_consolidado['Ciclo de Entrega'].astype(str) + df_consolidado['Ciclo de Entrega2'].astype(str)"
   ]
  },
  {
   "cell_type": "code",
   "execution_count": 20,
   "id": "95c2d83e-40ad-43ff-86fc-a446dcb5d54b",
   "metadata": {},
   "outputs": [],
   "source": [
    "#df_consolidado.info()"
   ]
  },
  {
   "cell_type": "code",
   "execution_count": null,
   "id": "0c36d610-177c-4a18-82ed-f8dc6c8b89b8",
   "metadata": {},
   "outputs": [],
   "source": []
  },
  {
   "cell_type": "code",
   "execution_count": 21,
   "id": "e8610ff0-4fe8-406e-b68c-53855f6b6952",
   "metadata": {},
   "outputs": [],
   "source": [
    "#df_consolidado['Valor_Indicador_Controle'] = df_consolidado['Valor_Indicador_Controle'].apply(lambda x: f'{x:.2f}'.replace('.', ',') if pd.notnull(x) else '')"
   ]
  },
  {
   "cell_type": "code",
   "execution_count": 22,
   "id": "e4bf7abd-a793-467c-a278-a6ca0c08f508",
   "metadata": {},
   "outputs": [],
   "source": [
    "#df_consolidado['Valor_Indicador_Controle'] = pd.to_numeric(df_consolidado['Valor_Indicador_Controle'], errors='coerce').round(2)"
   ]
  },
  {
   "cell_type": "code",
   "execution_count": null,
   "id": "7896252d-98d8-4fa4-86f1-a47028e9f91f",
   "metadata": {},
   "outputs": [],
   "source": []
  },
  {
   "cell_type": "code",
   "execution_count": 23,
   "id": "c134bf6f-d203-4f2e-b273-7431ac283cac",
   "metadata": {},
   "outputs": [],
   "source": [
    "df_consolidado = df_infos_bi_1"
   ]
  },
  {
   "cell_type": "code",
   "execution_count": null,
   "id": "0048d8c9-84ff-4566-adc7-68aefeea3b4e",
   "metadata": {},
   "outputs": [],
   "source": []
  },
  {
   "cell_type": "code",
   "execution_count": null,
   "id": "71650e5b-a607-4efb-8ffa-51880fecd781",
   "metadata": {},
   "outputs": [],
   "source": []
  },
  {
   "cell_type": "code",
   "execution_count": 24,
   "id": "cb7a1b95-bc2b-4567-9085-6335d8b9a44c",
   "metadata": {},
   "outputs": [],
   "source": [
    "df_consolidado['Ciclo_Entrega'] = df_consolidado['Ciclo_Entrega'].astype(str).str.strip().str.upper()\n"
   ]
  },
  {
   "cell_type": "code",
   "execution_count": 25,
   "id": "1340a07c-56c0-45b2-8903-3b7275230c74",
   "metadata": {},
   "outputs": [],
   "source": [
    "# Filtrar somente ciclos válidos que seguem o padrão \"C\" seguido de número\n",
    "ciclos_ordenados = sorted(\n",
    "    [c for c in df_consolidado['Ciclo_Entrega'].unique() if c.startswith('C') and c[1:].isdigit()],\n",
    "    key=lambda x: int(x[1:])\n",
    ")\n"
   ]
  },
  {
   "cell_type": "code",
   "execution_count": 26,
   "id": "0c8f3f31-494c-4039-b6d4-d98ce07e8287",
   "metadata": {},
   "outputs": [],
   "source": [
    "df_resultado = pd.DataFrame()\n",
    "chave = ['Nome da Origem.1', 'ID CONTROLE']\n",
    "\n",
    "for i, ciclo in enumerate(ciclos_ordenados):\n",
    "    ciclos_ate_agora = ciclos_ordenados[:i+1]\n",
    "\n",
    "    df_filtrado = df_consolidado[df_consolidado['Ciclo_Entrega'].isin(ciclos_ate_agora)].copy()\n",
    "\n",
    "    # Mapeia a ordem dos ciclos dinamicamente\n",
    "    ordem_map = {c: idx for idx, c in enumerate(ciclos_ate_agora)}\n",
    "    df_filtrado['ordem_ciclo'] = df_filtrado['Ciclo_Entrega'].map(ordem_map)\n",
    "\n",
    "    # Ordena para pegar o mais recente por grupo\n",
    "    df_filtrado = (\n",
    "        df_filtrado\n",
    "        .sort_values(chave + ['ordem_ciclo'], ascending=[True]*len(chave) + [False])\n",
    "        .drop_duplicates(subset=chave, keep='first')\n",
    "    )\n",
    "\n",
    "    df_filtrado['Ciclo_Contexto'] = ciclo\n",
    "    df_resultado = pd.concat([df_resultado, df_filtrado.drop(columns='ordem_ciclo')], ignore_index=True)\n"
   ]
  },
  {
   "cell_type": "code",
   "execution_count": 27,
   "id": "a0f35408-5ed9-40ab-90de-d65df0002cae",
   "metadata": {},
   "outputs": [],
   "source": [
    "#colunas_para_remover = ['Mais_Recente', 'Mais_Recente_2', 'Ciclo de Entrega2']\n",
    "#df_resultado = df_resultado.drop(columns=colunas_para_remover, errors='ignore')\n"
   ]
  },
  {
   "cell_type": "code",
   "execution_count": 28,
   "id": "5102c69d-746f-4035-91be-c3cb0af992be",
   "metadata": {},
   "outputs": [
    {
     "name": "stdout",
     "output_type": "stream",
     "text": [
      "<class 'pandas.core.frame.DataFrame'>\n",
      "RangeIndex: 18324 entries, 0 to 18323\n",
      "Data columns (total 8 columns):\n",
      " #   Column                     Non-Null Count  Dtype   \n",
      "---  ------                     --------------  -----   \n",
      " 0   ID CONTROLE                18324 non-null  object  \n",
      " 1   NOME CONTROLE              18324 non-null  object  \n",
      " 2   Valor_Indicador_Controle   16227 non-null  float64 \n",
      " 3   Nivel_Maturidade_Controle  16227 non-null  category\n",
      " 4   Nome da Origem.1           18324 non-null  object  \n",
      " 5   Nome da Origem.2           18324 non-null  object  \n",
      " 6   Ciclo_Entrega              18324 non-null  object  \n",
      " 7   Ciclo_Contexto             18324 non-null  object  \n",
      "dtypes: category(1), float64(1), object(6)\n",
      "memory usage: 1020.3+ KB\n"
     ]
    }
   ],
   "source": [
    "df_resultado.info()"
   ]
  },
  {
   "cell_type": "code",
   "execution_count": 29,
   "id": "88650d50-591a-4f13-82c3-e9f34e801045",
   "metadata": {},
   "outputs": [],
   "source": [
    "# Salva em Excel\n",
    "#df_resultado.to_excel(r\"C:\\Users\\MGI\\OneDrive - mtegovbr\\COMAT\\Doc_Apoio_BI\\INFOS_BI_2-Controles-Priv_Resultado_C.xlsx\", sheet_name = \"INFOS_BI_2-Controles-Priv_Resultado_C\", index=False)"
   ]
  },
  {
   "cell_type": "code",
   "execution_count": 30,
   "id": "0c21e2a3-a589-40f1-a54e-4eead6cea54b",
   "metadata": {},
   "outputs": [],
   "source": [
    "\n",
    "#df_resultado['Valor_Indicador_Controle_Priv'] = df_resultado['Valor_Indicador_Controle_Priv'].apply(lambda x: f'{x:.2f}'.replace('.', ',') if pd.notnull(x) else '')\n"
   ]
  },
  {
   "cell_type": "code",
   "execution_count": 31,
   "id": "9168ab39-b100-48fb-acd3-041cc3c6fadb",
   "metadata": {},
   "outputs": [],
   "source": [
    "#df_resultado['Valor_Indicador_Controle_Priv'] = pd.to_numeric(df_resultado['Valor_Indicador_Controle_Priv'], errors='coerce').round(2)"
   ]
  },
  {
   "cell_type": "code",
   "execution_count": 32,
   "id": "3c37d341-dd40-4111-8adb-c823f3dc6c30",
   "metadata": {},
   "outputs": [],
   "source": [
    "# Salva em Excel\n",
    "#df_resultado.to_csv(r\"C:\\Users\\MGI\\OneDrive - mtegovbr\\COMAT\\Doc_Apoio_BI\\INFOS_BI_2-Controles-Priv_Resultado_C.csv\", index=False)"
   ]
  },
  {
   "cell_type": "code",
   "execution_count": 33,
   "id": "40c79788-69dc-4b02-9b9b-abea0484df99",
   "metadata": {},
   "outputs": [
    {
     "name": "stdout",
     "output_type": "stream",
     "text": [
      "<class 'pandas.core.frame.DataFrame'>\n",
      "RangeIndex: 18324 entries, 0 to 18323\n",
      "Data columns (total 8 columns):\n",
      " #   Column                     Non-Null Count  Dtype   \n",
      "---  ------                     --------------  -----   \n",
      " 0   ID CONTROLE                18324 non-null  object  \n",
      " 1   NOME CONTROLE              18324 non-null  object  \n",
      " 2   Valor_Indicador_Controle   16227 non-null  float64 \n",
      " 3   Nivel_Maturidade_Controle  16227 non-null  category\n",
      " 4   Nome da Origem.1           18324 non-null  object  \n",
      " 5   Nome da Origem.2           18324 non-null  object  \n",
      " 6   Ciclo_Entrega              18324 non-null  object  \n",
      " 7   Ciclo_Contexto             18324 non-null  object  \n",
      "dtypes: category(1), float64(1), object(6)\n",
      "memory usage: 1020.3+ KB\n"
     ]
    }
   ],
   "source": [
    "df_resultado.info()"
   ]
  },
  {
   "cell_type": "code",
   "execution_count": 34,
   "id": "0552fd49-1c1a-47a7-8d8f-e03ffc7ed8f9",
   "metadata": {},
   "outputs": [],
   "source": [
    "# Manter a coluna como float\n",
    "df_resultado['Valor_Indicador_Controle'] = pd.to_numeric(df_resultado['Valor_Indicador_Controle'], errors='coerce')\n",
    "\n",
    "# Exibir com vírgula (sem alterar tipo para 'object')\n",
    "df_resultado['Valor_Indicador_Controle'] = df_resultado['Valor_Indicador_Controle'].apply(lambda x: f'{x:.2f}'.replace('.', ',') if pd.notnull(x) else '')\n",
    "\n",
    "# Mostrar o DataFrame\n",
    "#print(df_resultado[['Valor_Indicador_Controle_Priv', 'Valor_Indicador_Controle_Priv_Formatado']])\n"
   ]
  },
  {
   "cell_type": "code",
   "execution_count": null,
   "id": "fbedb35f-4d5a-4df5-9709-0a5d4634c5ba",
   "metadata": {},
   "outputs": [],
   "source": []
  },
  {
   "cell_type": "code",
   "execution_count": null,
   "id": "88bba2ea-1be3-41d7-8e53-48b080efba13",
   "metadata": {},
   "outputs": [],
   "source": []
  },
  {
   "cell_type": "code",
   "execution_count": null,
   "id": "8dd1343a-94f5-4d8c-bf04-39b2d07dbae1",
   "metadata": {},
   "outputs": [],
   "source": []
  },
  {
   "cell_type": "code",
   "execution_count": 35,
   "id": "0b0a8ea8-43e6-4037-b7a1-fb1e22ca179e",
   "metadata": {},
   "outputs": [],
   "source": [
    "# Substitui \"C1\" por \"Ciclo 1\", \"C2\" por \"Ciclo 2\", etc.\n",
    "df_infos_bi_1['Ciclo_Entrega'] = df_infos_bi_1['Ciclo_Entrega'].str.extract(r'(\\d+)')[0].astype(int).apply(lambda x: f'Ciclo {x}')"
   ]
  },
  {
   "cell_type": "code",
   "execution_count": 36,
   "id": "34fa88f8-7ce0-4415-b5c7-19aec73137b2",
   "metadata": {},
   "outputs": [],
   "source": [
    "# Salva em Excel\n",
    "df_infos_bi_1.to_excel(r\"C:\\Users\\MGI\\OneDrive - mtegovbr\\COMAT\\FONTE_PAINEL\\INFOS_BI_1-Controles-SI_C.xlsx\", sheet_name = \"INFOS_BI_1-Controles-SI_C\", index=False)"
   ]
  },
  {
   "cell_type": "code",
   "execution_count": null,
   "id": "08ee6044-22ad-4225-940f-42adb29daf11",
   "metadata": {},
   "outputs": [],
   "source": []
  },
  {
   "cell_type": "code",
   "execution_count": 37,
   "id": "94e5f924-2a3d-4090-b1ed-e73b236f6c92",
   "metadata": {},
   "outputs": [],
   "source": [
    "# Substitui \"C1\" por \"Ciclo 1\", \"C2\" por \"Ciclo 2\", etc.\n",
    "df_resultado['Ciclo_Entrega'] = df_resultado['Ciclo_Entrega'].str.extract(r'(\\d+)')[0].astype(int).apply(lambda x: f'Ciclo {x}')\n",
    "df_resultado['Ciclo_Contexto'] = df_resultado['Ciclo_Contexto'].str.extract(r'(\\d+)')[0].astype(int).apply(lambda x: f'Ciclo {x}')"
   ]
  },
  {
   "cell_type": "code",
   "execution_count": 38,
   "id": "9fdb2651-5926-479e-afaf-8323a5b1b3b5",
   "metadata": {},
   "outputs": [],
   "source": [
    "# 1. Converte colunas numéricas com vírgula decimal\n",
    "#for col in df_resultado.select_dtypes(include=['float', 'int']).columns:\n",
    "#    df_resultado[col] = df_resultado[col].map(lambda x: f\"{x:,.2f}\".replace('.', ',') if pd.notnull(x) else x)"
   ]
  },
  {
   "cell_type": "code",
   "execution_count": 39,
   "id": "f0fd3ecc-646c-482f-89a1-8eae509142e8",
   "metadata": {},
   "outputs": [],
   "source": [
    "#df_resultado['Valor_Indicador_Controle_Priv'] = pd.to_numeric(df_resultado['Valor_Indicador_Controle_Priv'], errors='coerce').round(2)"
   ]
  },
  {
   "cell_type": "code",
   "execution_count": 40,
   "id": "c132b39d-3887-4675-bd58-550f7cf58e4a",
   "metadata": {},
   "outputs": [],
   "source": [
    "# Salva em Excel\n",
    "df_resultado.to_excel(r\"C:\\Users\\MGI\\OneDrive - mtegovbr\\COMAT\\FONTE_PAINEL\\INFOS_BI_1-Controles-SI_Recente.xlsx\", sheet_name = \"INFOS_BI_1-Controles-SI_Recente\", index=False)"
   ]
  },
  {
   "cell_type": "code",
   "execution_count": 41,
   "id": "c8b9c887-71d4-4d3d-a1d5-94469b865704",
   "metadata": {},
   "outputs": [],
   "source": [
    "# Salvando o DataFrame em CSV com o separador correto e garantindo que o ID seja tratado como texto\n",
    "#df_resultado.to_csv(r\"C:\\Users\\MGI\\OneDrive - mtegovbr\\COMAT\\FONTE_PAINEL\\INFOS_BI_1-Controles-SI_Recente.csv\",\n",
    "#    sep=';',  # Usando ponto e vírgula como separador (dependendo da configuração regional)\n",
    "#    index=False,  # Não incluir o índice\n",
    "#    encoding='utf-8-sig',  # Codificação para garantir compatibilidade com o Excel\n",
    "#    float_format=\"%.2f\",  # Formato de números com 2 casas decimais\n",
    "#    quotechar='\"',  # Envolver os campos em aspas para garantir que os valores não sejam alterados\n",
    "#    quoting=1  # Forçar o uso de aspas\n",
    "#)"
   ]
  },
  {
   "cell_type": "code",
   "execution_count": 42,
   "id": "f050706c-c51b-4759-9fb0-ab8baf42c7a7",
   "metadata": {},
   "outputs": [
    {
     "data": {
      "text/html": [
       "<div>\n",
       "<style scoped>\n",
       "    .dataframe tbody tr th:only-of-type {\n",
       "        vertical-align: middle;\n",
       "    }\n",
       "\n",
       "    .dataframe tbody tr th {\n",
       "        vertical-align: top;\n",
       "    }\n",
       "\n",
       "    .dataframe thead th {\n",
       "        text-align: right;\n",
       "    }\n",
       "</style>\n",
       "<table border=\"1\" class=\"dataframe\">\n",
       "  <thead>\n",
       "    <tr style=\"text-align: right;\">\n",
       "      <th></th>\n",
       "      <th>ID CONTROLE</th>\n",
       "      <th>NOME CONTROLE</th>\n",
       "      <th>Valor_Indicador_Controle</th>\n",
       "      <th>Nivel_Maturidade_Controle</th>\n",
       "      <th>Nome da Origem.1</th>\n",
       "      <th>Nome da Origem.2</th>\n",
       "      <th>Ciclo_Entrega</th>\n",
       "      <th>Ciclo_Contexto</th>\n",
       "    </tr>\n",
       "  </thead>\n",
       "  <tbody>\n",
       "    <tr>\n",
       "      <th>0</th>\n",
       "      <td>1</td>\n",
       "      <td>CIS CONTROLE 1: INVENTÁRIO E CONTROLE DE ATIVO...</td>\n",
       "      <td>0,68</td>\n",
       "      <td>3. Intermediário</td>\n",
       "      <td>ABIN</td>\n",
       "      <td>C1-ABIN-Ferramenta_frameworkpsi_pt-3-basica-se...</td>\n",
       "      <td>Ciclo 1</td>\n",
       "      <td>Ciclo 1</td>\n",
       "    </tr>\n",
       "    <tr>\n",
       "      <th>1</th>\n",
       "      <td>2</td>\n",
       "      <td>CIS CONTROLE 2: INVENTÁRIO E CONTROLE DE ATIVO...</td>\n",
       "      <td>0,80</td>\n",
       "      <td>4. Em Aprimoramento</td>\n",
       "      <td>ABIN</td>\n",
       "      <td>C1-ABIN-Ferramenta_frameworkpsi_pt-3-basica-se...</td>\n",
       "      <td>Ciclo 1</td>\n",
       "      <td>Ciclo 1</td>\n",
       "    </tr>\n",
       "    <tr>\n",
       "      <th>2</th>\n",
       "      <td>3</td>\n",
       "      <td>CIS CONTROLE 3: PROTEÇÃO DE DADOS</td>\n",
       "      <td>0,61</td>\n",
       "      <td>3. Intermediário</td>\n",
       "      <td>ABIN</td>\n",
       "      <td>C1-ABIN-Ferramenta_frameworkpsi_pt-3-basica-se...</td>\n",
       "      <td>Ciclo 1</td>\n",
       "      <td>Ciclo 1</td>\n",
       "    </tr>\n",
       "    <tr>\n",
       "      <th>3</th>\n",
       "      <td>4</td>\n",
       "      <td>CIS CONTROLE 4: CONFIGURAÇÃO SEGURA DE ATIVOS ...</td>\n",
       "      <td>0,82</td>\n",
       "      <td>4. Em Aprimoramento</td>\n",
       "      <td>ABIN</td>\n",
       "      <td>C1-ABIN-Ferramenta_frameworkpsi_pt-3-basica-se...</td>\n",
       "      <td>Ciclo 1</td>\n",
       "      <td>Ciclo 1</td>\n",
       "    </tr>\n",
       "    <tr>\n",
       "      <th>4</th>\n",
       "      <td>5</td>\n",
       "      <td>CIS CONTROLE 5: GESTÃO DE CONTAS</td>\n",
       "      <td>0,82</td>\n",
       "      <td>4. Em Aprimoramento</td>\n",
       "      <td>ABIN</td>\n",
       "      <td>C1-ABIN-Ferramenta_frameworkpsi_pt-3-basica-se...</td>\n",
       "      <td>Ciclo 1</td>\n",
       "      <td>Ciclo 1</td>\n",
       "    </tr>\n",
       "  </tbody>\n",
       "</table>\n",
       "</div>"
      ],
      "text/plain": [
       "  ID CONTROLE                                      NOME CONTROLE  \\\n",
       "0           1  CIS CONTROLE 1: INVENTÁRIO E CONTROLE DE ATIVO...   \n",
       "1           2  CIS CONTROLE 2: INVENTÁRIO E CONTROLE DE ATIVO...   \n",
       "2           3                  CIS CONTROLE 3: PROTEÇÃO DE DADOS   \n",
       "3           4  CIS CONTROLE 4: CONFIGURAÇÃO SEGURA DE ATIVOS ...   \n",
       "4           5                   CIS CONTROLE 5: GESTÃO DE CONTAS   \n",
       "\n",
       "  Valor_Indicador_Controle Nivel_Maturidade_Controle Nome da Origem.1  \\\n",
       "0                     0,68          3. Intermediário             ABIN   \n",
       "1                     0,80       4. Em Aprimoramento             ABIN   \n",
       "2                     0,61          3. Intermediário             ABIN   \n",
       "3                     0,82       4. Em Aprimoramento             ABIN   \n",
       "4                     0,82       4. Em Aprimoramento             ABIN   \n",
       "\n",
       "                                    Nome da Origem.2 Ciclo_Entrega  \\\n",
       "0  C1-ABIN-Ferramenta_frameworkpsi_pt-3-basica-se...       Ciclo 1   \n",
       "1  C1-ABIN-Ferramenta_frameworkpsi_pt-3-basica-se...       Ciclo 1   \n",
       "2  C1-ABIN-Ferramenta_frameworkpsi_pt-3-basica-se...       Ciclo 1   \n",
       "3  C1-ABIN-Ferramenta_frameworkpsi_pt-3-basica-se...       Ciclo 1   \n",
       "4  C1-ABIN-Ferramenta_frameworkpsi_pt-3-basica-se...       Ciclo 1   \n",
       "\n",
       "  Ciclo_Contexto  \n",
       "0        Ciclo 1  \n",
       "1        Ciclo 1  \n",
       "2        Ciclo 1  \n",
       "3        Ciclo 1  \n",
       "4        Ciclo 1  "
      ]
     },
     "execution_count": 42,
     "metadata": {},
     "output_type": "execute_result"
    }
   ],
   "source": [
    "df_resultado.head()"
   ]
  },
  {
   "cell_type": "code",
   "execution_count": 43,
   "id": "fd1d7e3e-2665-4efd-bc74-b268a0d9cf7c",
   "metadata": {},
   "outputs": [
    {
     "name": "stdout",
     "output_type": "stream",
     "text": [
      "2025-05-21 09:22:57.852821\n",
      "2025-05-21 09:26:11.491359\n",
      "0:03:13.638538\n"
     ]
    }
   ],
   "source": [
    "dh_termino = datetime.today()\n",
    "duracao = dh_termino - dh_inicio\n",
    "print(dh_inicio)\n",
    "print(dh_termino)\n",
    "print(duracao)"
   ]
  },
  {
   "cell_type": "code",
   "execution_count": 44,
   "id": "cef7bfd5-a3e6-4417-b08f-90d315772e5b",
   "metadata": {},
   "outputs": [
    {
     "name": "stdout",
     "output_type": "stream",
     "text": [
      "ID CONTROLE: 0 vazios\n",
      "NOME CONTROLE: 0 vazios\n",
      "Valor_Indicador_Controle: 2097 vazios\n",
      "Nivel_Maturidade_Controle: 2097 vazios\n",
      "Nome da Origem.1: 0 vazios\n",
      "Nome da Origem.2: 0 vazios\n",
      "Ciclo_Entrega: 0 vazios\n"
     ]
    }
   ],
   "source": [
    "colunas1 = [\n",
    "            'ID CONTROLE', 'NOME CONTROLE', 'Valor_Indicador_Controle', 'Nivel_Maturidade_Controle', 'Nome da Origem.1', \n",
    "            'Nome da Origem.2', 'Ciclo_Entrega'\n",
    "        ] \n",
    "df = df_resultado\n",
    "for col in colunas1:\n",
    "    if col in df.columns:\n",
    "        vazios = df[col].isnull().sum() + (df[col].astype(str).str.strip() == '').sum()\n",
    "        print(f\"{col}: {vazios} vazios\")\n",
    "    else:\n",
    "        print(f\"Coluna '{col}' não encontrada\")"
   ]
  }
 ],
 "metadata": {
  "kernelspec": {
   "display_name": "Python [conda env:base] *",
   "language": "python",
   "name": "conda-base-py"
  },
  "language_info": {
   "codemirror_mode": {
    "name": "ipython",
    "version": 3
   },
   "file_extension": ".py",
   "mimetype": "text/x-python",
   "name": "python",
   "nbconvert_exporter": "python",
   "pygments_lexer": "ipython3",
   "version": "3.12.7"
  }
 },
 "nbformat": 4,
 "nbformat_minor": 5
}
