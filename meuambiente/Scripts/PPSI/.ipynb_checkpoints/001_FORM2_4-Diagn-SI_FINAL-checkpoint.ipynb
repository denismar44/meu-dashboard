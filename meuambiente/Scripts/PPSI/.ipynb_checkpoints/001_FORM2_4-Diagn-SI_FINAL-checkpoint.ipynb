{
 "cells": [
  {
   "cell_type": "code",
   "execution_count": 1,
   "id": "14c85196-1520-43fe-b572-c1c77501b033",
   "metadata": {},
   "outputs": [],
   "source": [
    "#!pip install -U openpyxl"
   ]
  },
  {
   "cell_type": "code",
   "execution_count": 2,
   "id": "56a0907e-f5be-4303-96a1-bc9b30d9f8e1",
   "metadata": {},
   "outputs": [],
   "source": [
    "import os\n",
    "import re\n",
    "import pandas as pd\n",
    "import numpy as np\n",
    "from datetime import date, datetime\n",
    "from openpyxl import load_workbook\n",
    "import warnings\n",
    "warnings.filterwarnings('ignore')"
   ]
  },
  {
   "cell_type": "code",
   "execution_count": 3,
   "id": "50498c40-c4a4-4104-9139-45d38d9b3c78",
   "metadata": {},
   "outputs": [
    {
     "name": "stdout",
     "output_type": "stream",
     "text": [
      "2025-05-21 08:45:41.377294\n"
     ]
    }
   ],
   "source": [
    "dh_inicio = datetime.today()\n",
    "print(dh_inicio)"
   ]
  },
  {
   "cell_type": "markdown",
   "id": "9cbd76c5-4595-4ec3-a94f-bec2e542d006",
   "metadata": {},
   "source": [
    "### CARGA DOS ARQUIVOS DOS CICLOS"
   ]
  },
  {
   "cell_type": "code",
   "execution_count": 5,
   "id": "33fb8487-7aa1-40b6-a742-cdd0beac1fa8",
   "metadata": {},
   "outputs": [
    {
     "name": "stdout",
     "output_type": "stream",
     "text": [
      "Lista de arquivos salva com sucesso!\n"
     ]
    }
   ],
   "source": [
    "# Caminho da pasta dos arquivos\n",
    "caminho_pasta = r\"C:\\Users\\MGI\\OneDrive - mtegovbr\\COMAT\\BASE\\CICLOS-1-2-3-4\"\n",
    "\n",
    "# Lista os arquivos da pasta\n",
    "arquivos = os.listdir(caminho_pasta)\n",
    "\n",
    "# Filtra apenas arquivos (ignora subpastas)\n",
    "arquivos = [f for f in arquivos if os.path.isfile(os.path.join(caminho_pasta, f))]\n",
    "\n",
    "# Cria um DataFrame com os nomes\n",
    "df = pd.DataFrame(arquivos, columns=[\"nome_arquivo\"])\n",
    "\n",
    "# Salva em Excel\n",
    "#df.to_excel(r\"C:\\Users\\MGI\\Documents\\COMAT\\REFERENCIAS\\CICLOS-1-2-3\\CICLO_1_2_3_arquivos.xlsx\", index=False)\n",
    "\n",
    "print(\"Lista de arquivos salva com sucesso!\")"
   ]
  },
  {
   "cell_type": "code",
   "execution_count": 6,
   "id": "92bed9bf-9461-47e0-8957-0c9ff4e231ba",
   "metadata": {},
   "outputs": [
    {
     "name": "stdout",
     "output_type": "stream",
     "text": [
      "<class 'pandas.core.frame.DataFrame'>\n",
      "RangeIndex: 835 entries, 0 to 834\n",
      "Data columns (total 1 columns):\n",
      " #   Column        Non-Null Count  Dtype \n",
      "---  ------        --------------  ----- \n",
      " 0   nome_arquivo  835 non-null    object\n",
      "dtypes: object(1)\n",
      "memory usage: 6.7+ KB\n"
     ]
    }
   ],
   "source": [
    "df.info()"
   ]
  },
  {
   "cell_type": "code",
   "execution_count": 7,
   "id": "b04a41c3-7b50-4b7e-8c65-2e6af13ed7f9",
   "metadata": {},
   "outputs": [],
   "source": [
    "# Salva em Excel\n",
    "#df.to_excel(r\"C:\\Users\\MGI\\OneDrive - mtegovbr\\COMAT\\FONTE_PAINEL\\Arquivos_C1_C2_C3_C4.xlsx\", sheet_name = \"Arquivos_C1_C2_C3_C4\", index=False)"
   ]
  },
  {
   "cell_type": "markdown",
   "id": "a673550a-47aa-4ae8-9c50-4e7bf751750a",
   "metadata": {},
   "source": [
    "#### FORM2_4-Diagn-Priv_CONSOLIDADO"
   ]
  },
  {
   "cell_type": "code",
   "execution_count": 9,
   "id": "12b904ba-f975-4538-a68a-fbd5d21c63da",
   "metadata": {
    "scrolled": true
   },
   "outputs": [
    {
     "name": "stdout",
     "output_type": "stream",
     "text": [
      "\n",
      "📊 Resumo da execução:\n",
      "🗂️ Total de arquivos considerados: 835\n",
      "✅ Arquivos lidos com sucesso: 835\n",
      "❌ Arquivos com erro: 0\n",
      "✅ Consolidação concluída com sucesso!\n"
     ]
    }
   ],
   "source": [
    "# Lista para armazenar os DataFrames da aba FORM2.3\n",
    "dados_form2_4_base = []\n",
    "\n",
    "# Lista para armazenar o resumo das contagens\n",
    "resumo_linhas_antes = []\n",
    "\n",
    "for arquivo in arquivos:\n",
    "    caminho_arquivo = os.path.join(caminho_pasta, arquivo)\n",
    "    nome_arquivo = os.path.basename(caminho_arquivo)\n",
    "    linhas_base = 0\n",
    "    total_linhas_arquivo = None\n",
    "    linhas_totais = 0\n",
    "    linhas_excluidas = 0\n",
    "    linhas_lidas = 0\n",
    "    try:\n",
    "        \n",
    "        # 1. Contar linhas totais no Excel\n",
    "        wb_contagem = load_workbook(filename=caminho_arquivo, read_only=True)\n",
    "        ws_contagem = wb_contagem['FORM2.4']\n",
    "        total_linhas_arquivo = ws_contagem.max_row\n",
    "\n",
    "        # 2. Ler valores da visão macro (K11 e K12)\n",
    "        wb = load_workbook(caminho_arquivo, data_only=True)\n",
    "        ws = wb['FORM2.4']\n",
    "        \n",
    "        resp_macro = ws['H9'].value\n",
    "        desc_macro = ws['I9'].value\n",
    "\n",
    "        id_controle_cis8 = ws['B9'].value\n",
    "        controle_desc_cis8 = ws['C9'].value  \n",
    "        \n",
    "        # 3. Lê os dados a partir da 8ª linha (header=7)\n",
    "        df = pd.read_excel(caminho_arquivo, sheet_name='FORM2.4', \n",
    "                            dtype={'ID': object},     \n",
    "                            keep_default_na=False,             \n",
    "                            na_filter=False,\n",
    "                            header = 7,\n",
    "                            engine='openpyxl')\n",
    "        df = df.iloc[:163]   # apenas linhas de 0 a 163\n",
    "        linhas_base = len(df)\n",
    "\n",
    "        \n",
    "        # Substitui strings vazias, espaços, tabs, etc., por NaN\n",
    "        df.replace(r'^\\s*$', pd.NA, regex=True, inplace=True)      \n",
    "        df = df.dropna(how='all')\n",
    "        \n",
    "        # Registrar total inicial\n",
    "        linhas_totais = len(df)\n",
    "        \n",
    "        # Excluir linhas com pelo menos 2 colunas vazias\n",
    "        #df = df[df.isna().sum(axis=1) >= 2]\n",
    "        \n",
    "        # Registrar total final e linhas excluídas\n",
    "        linhas_lidas = len(df)\n",
    "        linhas_excluidas = linhas_base - linhas_totais\n",
    "\n",
    "\n",
    "        # Renomeia as colunas com base nas posições\n",
    "        novos_nomes = {\n",
    "            df.columns[1]: 'ID',\n",
    "            df.columns[2]: 'GRUPO IMPLE',\n",
    "            df.columns[3]: 'FUNÇÃO NIST CSF',\n",
    "            df.columns[4]: 'MEDIDA',\n",
    "            df.columns[5]: 'RESPOSTA DAS MEDIDAS',\n",
    "            df.columns[6]: 'Justificativa do porquê da resposta \"Não se aplica\"',\n",
    "            df.columns[7]: 'RESPOSTA DA VISAO MACRO DOS CONTROLES',  \n",
    "            df.columns[8]: 'DESCRIÇÃO DA VISAO MACRO DOS CONTROLES'              \n",
    "        }\n",
    "        df.rename(columns=novos_nomes, inplace=True)\n",
    "\n",
    "        # Remove linhas com ID ausente\n",
    "#        df = df[df['ID'].notna()]\n",
    "#        df['ID'] = df['ID'].astype(str)\n",
    "\n",
    "        # Colunas auxiliares\n",
    "#        df['ID CONTROLE CIS 8'] = id_controle_cis8 \n",
    "#        df['DESCRIÇÃO CONTROLE CIS 8'] = controle_desc_cis8\n",
    "        df['Nome da Origem.2'] = arquivo\n",
    "        df['Nome da Origem.1'] = df['Nome da Origem.2'].str.extract(r'-(.*?)-')\n",
    "#        df['RESPOSTA DA VISAO MACRO DOS CONTROLES'] = resp_macro\n",
    "#        df['DESCRIÇÃO DA VISAO MACRO DOS CONTROLES'] = desc_macro\n",
    "#        #df['ID_Controle_Priv'] = pd.to_numeric(df['ID'], errors='coerce').dropna().astype(int).astype(str).str[:2]\n",
    "        df['ID_Controle_Priv'] = df['ID'].astype(str).str[:2]\n",
    "        df['Ciclo_Entrega'] = df['Nome da Origem.2'].str[:2]\n",
    "#        df['ORGAO'] = df['Nome da Origem.2'].str.extract(r'(-.*?-)')\n",
    "###        df['FILTRO'] = df['ID'].str[:2]\n",
    "    \n",
    "        #################################################################################################\n",
    "\n",
    "        # 2) (só por garantia) converta a coluna ID para string\n",
    "        #df['ID'] = df['ID'].astype(str)\n",
    "        \n",
    "        # 3) Máscara para linhas cujo ID tem até 2 caracteres\n",
    "        mask = df['ID'].notna() & (df['ID'].astype(str).str.len() <= 2)\n",
    "        \n",
    "        # 4) Move o texto e limpa\n",
    "        df.loc[mask, 'MEDIDA'] = df.loc[mask, 'GRUPO IMPLE']\n",
    "        df.loc[mask, 'GRUPO IMPLE'] = ''\n",
    "\n",
    "\n",
    "       # Mapeamento dos valores textuais para ID numérico\n",
    "        mapa_descr_macro = {\n",
    "            5: 'O controle atinge seu objetivo, é bem definido, suas medidas são implementadas continuamente por meio de um processo e seu desempenho é mensurado quantitativamente por meio de indicadores.',\n",
    "            4: 'O controle atinge seu objetivo, é bem definido e suas medidas são implementadas continuamente por meio de um processo decorrente da política formalizada.',\n",
    "            3: 'O controle atinge seu objetivo de forma muito mais organizada utilizando os recursos organizacionais. Além disso, o controle é formalizado por meio de uma política institucional, específica ou como parte de outra maior.',\n",
    "            2: 'O controle atinge seu objetivo por meio da aplicação de um conjunto básico, porém completo, de atividades que podem ser caracterizadas como realizadas.',\n",
    "            1: 'O controle atinge mais ou menos seu objetivo, por meio da aplicação de um conjunto incompleto de atividades que podem ser caracterizadas como iniciais ou intuitivas (pouco organizadas).',\n",
    "            0: 'Ausência de capacidade para a implementação das medidas do controle, ou desconhecimento sobre o atendimento das medidas.'\n",
    "        }\n",
    "\n",
    "\n",
    "        # renomeia a coluna numérica\n",
    " #       df = df.rename(columns={\"RESPOSTA DA VISAO MACRO DOS CONTROLES\": \"RESPOSTA_DESCRICAO_MACRO\"})\n",
    "        \n",
    "        \n",
    "        # aplica o mapeamento:\n",
    "        df[\"DESCRIÇÃO MACRO\"] = df[\"RESPOSTA DA VISAO MACRO DOS CONTROLES\"].map(mapa_descr_macro)\n",
    "        \n",
    "        # se houver linhas “título” (ex.: ID 1.0, 2.0…) cujo valor numérico\n",
    "        # veio em branco ou NaN, preenche com 4 (ou outro default) antes do map:\n",
    "        masc_titulo = df[\"RESPOSTA DA VISAO MACRO DOS CONTROLES\"].isna()\n",
    "        #df.loc[masc_titulo, \"\"RESPOSTA DA VISAO MACRO DOS CONTROLES\"\"] = 4\n",
    "        df.loc[masc_titulo, \"DESCRIÇÃO MACRO\"] = df.loc[masc_titulo, \"RESPOSTA DA VISAO MACRO DOS CONTROLES\"].map(mapa_descr_macro)\n",
    "\n",
    "\n",
    "\n",
    "    \n",
    "        #################################################################################################\n",
    "        \n",
    "        # Seleciona as colunas desejadas\n",
    "       \n",
    "        colunas = [\n",
    "            'Nome da Origem.1', 'Nome da Origem.2', 'Ciclo_Entrega', 'ID', 'GRUPO IMPLE', 'FUNÇÃO NIST CSF', 'MEDIDA',\n",
    "            'RESPOSTA DAS MEDIDAS', 'ID_Controle_Priv',\n",
    "            'Justificativa do porquê da resposta \"Não se aplica\"',\n",
    "            'RESPOSTA DA VISAO MACRO DOS CONTROLES', 'DESCRIÇÃO DA VISAO MACRO DOS CONTROLES'\n",
    "        ]      \n",
    "        df = df[colunas]\n",
    "\n",
    "        \n",
    "        # Adiciona ao consolidado\n",
    "        dados_form2_4_base.append(df)\n",
    "        #print(f\"✅ Leitura concluída com sucesso: {arquivo}\")\n",
    "    except Exception as e:\n",
    "        print(f\"❌ Erro ao processar '{arquivo}': {e}\")\n",
    "\n",
    "# 5. Registrar contagem no resumo antes da consolidação\n",
    "    finally:\n",
    "        resumo_linhas_antes.append({\n",
    "            'arquivo': nome_arquivo,\n",
    "            'linhas_base': linhas_base,\n",
    "            'total_linhas_no_arquivo': total_linhas_arquivo,\n",
    "            'linhas_totais_lidas': linhas_totais,\n",
    "            'linhas_excluidas': linhas_excluidas,\n",
    "            'linhas_lidas': linhas_lidas\n",
    "        })\n",
    "\n",
    "# 6. Consolida tudo em um único DataFrame\n",
    "df_form2_4 = pd.concat(dados_form2_4_base, ignore_index=True)\n",
    "\n",
    "# 7. DataFrame com o resumo ANTES da consolidação\n",
    "df_resumo_antes = pd.DataFrame(resumo_linhas_antes)\n",
    "\n",
    "# 8. DataFrame com o resumo APÓS a consolidação\n",
    "df_resumo_apos = df_form2_4.groupby('Nome da Origem.2').size().reset_index(name='linhas_lidas_apos')\n",
    "\n",
    "# Renomear coluna para permitir o merge\n",
    "df_resumo_apos = df_resumo_apos.rename(columns={'Nome da Origem.2': 'arquivo'})\n",
    "\n",
    "# Merge dos dois resumos\n",
    "df_resumo = pd.merge(df_resumo_antes, df_resumo_apos, on='arquivo', how='outer')\n",
    "\n",
    "total_distintos = df_form2_4['Nome da Origem.2'].nunique()\n",
    "df_resumo['total_distintos'] = total_distintos\n",
    "\n",
    "# Reorganizar colunas\n",
    "colunas = [\n",
    "    'arquivo',\n",
    "    'linhas_base',\n",
    "    'total_linhas_no_arquivo',\n",
    "    'linhas_totais_lidas',\n",
    "    'linhas_excluidas',\n",
    "    'linhas_lidas',  # Do antes\n",
    "    'linhas_lidas_apos',  # Do após\n",
    "    'total_distintos'\n",
    "]\n",
    "\n",
    "# Renomear colunas para algo mais intuitivo\n",
    "#df_resumo.rename(columns={\n",
    "#    'linhas_lidas_x': 'linhas_lidas_antes',\n",
    "#    'linhas_lidas_y': 'linhas_lidas_apos'\n",
    "#}, inplace=True)\n",
    "\n",
    "# Preencher NaNs com 0 (se houver erros na leitura de arquivos)\n",
    "df_resumo.fillna(0, inplace=True)\n",
    "\n",
    "# Mostrar o resumo final\n",
    "#print(\"\\n📋 df_resumo final (antes + após):\")\n",
    "#print(df_resumo)\n",
    "\n",
    "# Exibir total de arquivos distintos processados\n",
    "#total_distintos = df_form2_4['Nome da Origem.2'].nunique()\n",
    "#####print(f\"\\n📌 Total de arquivos distintos após consolidação: {total_distintos}\")\n",
    "\n",
    "# 9. Exibir resumos\n",
    "#print(\"\\n📋 df_resumo_antes:\")\n",
    "#print(df_resumo_antes)\n",
    "\n",
    "#print(\"\\n📋 df_resumo_apos:\")\n",
    "#print(df_resumo_apos)\n",
    "\n",
    "total_arquivos_lidos = df_resumo_antes['linhas_lidas'].gt(0).sum()\n",
    "#####print(f\"📥 Total de arquivos lidos com sucesso: {total_arquivos_lidos}\")\n",
    "\n",
    "total_arquivos_consolidados = df_form2_4['Nome da Origem.2'].nunique()\n",
    "#print(f\"📦 Total de arquivos únicos no consolidado (Nome da Origem.2): {total_arquivos_consolidados}\")\n",
    "\n",
    "df_resumo['total_arquivos_lidos'] = total_arquivos_lidos\n",
    "df_resumo['total_arquivos_consolidados'] = total_arquivos_consolidados\n",
    "\n",
    "# 10. Resumo da execução\n",
    "total_arquivos = len(arquivos)\n",
    "sucesso = df_resumo_antes['linhas_lidas'].gt(0).sum()\n",
    "erros = total_arquivos - sucesso\n",
    "\n",
    "print(\"\\n📊 Resumo da execução:\")\n",
    "print(f\"🗂️ Total de arquivos considerados: {total_arquivos}\")\n",
    "print(f\"✅ Arquivos lidos com sucesso: {sucesso}\")\n",
    "print(f\"❌ Arquivos com erro: {erros}\")\n",
    "print(f\"📦 Total de arquivos únicos no consolidado (Nome da Origem.2): {total_arquivos_consolidados}\")\n",
    "print(\"✅ Consolidação concluída com sucesso!\")\n"
   ]
  },
  {
   "cell_type": "code",
   "execution_count": 59,
   "id": "2313e4ed-bbb6-4d8e-bb28-c268a5a1a49c",
   "metadata": {},
   "outputs": [
    {
     "name": "stdout",
     "output_type": "stream",
     "text": [
      "📦 Total de arquivos únicos no consolidado (Nome da Origem.2): 835\n"
     ]
    }
   ],
   "source": [
    "print(f\"📦 Total de arquivos únicos no consolidado (Nome da Origem.2): {total_arquivos_consolidados}\")"
   ]
  },
  {
   "cell_type": "code",
   "execution_count": 10,
   "id": "1bc3b704-71e9-404a-9638-73fa8b00fdc7",
   "metadata": {},
   "outputs": [
    {
     "name": "stdout",
     "output_type": "stream",
     "text": [
      "Nome da Origem.1: 0 vazios\n",
      "Nome da Origem.2: 0 vazios\n",
      "Ciclo_Entrega: 0 vazios\n",
      "ID: 0 vazios\n",
      "GRUPO IMPLE: 10855 vazios\n",
      "FUNÇÃO NIST CSF: 10855 vazios\n",
      "MEDIDA: 0 vazios\n",
      "RESPOSTA DAS MEDIDAS: 10857 vazios\n",
      "ID_Controle_Priv: 0 vazios\n",
      "Justificativa do porquê da resposta \"Não se aplica\": 113614 vazios\n",
      "RESPOSTA DA VISAO MACRO DOS CONTROLES: 125247 vazios\n",
      "DESCRIÇÃO DA VISAO MACRO DOS CONTROLES: 125318 vazios\n"
     ]
    }
   ],
   "source": [
    "colunas1 = [\n",
    "            'Nome da Origem.1', 'Nome da Origem.2', 'Ciclo_Entrega', 'ID', 'GRUPO IMPLE', 'FUNÇÃO NIST CSF', 'MEDIDA',\n",
    "            'RESPOSTA DAS MEDIDAS', 'ID_Controle_Priv',\n",
    "            'Justificativa do porquê da resposta \"Não se aplica\"',\n",
    "            'RESPOSTA DA VISAO MACRO DOS CONTROLES', 'DESCRIÇÃO DA VISAO MACRO DOS CONTROLES'\n",
    "        ] \n",
    "df = df_form2_4\n",
    "for col in colunas1:\n",
    "    if col in df.columns:\n",
    "        vazios = df[col].isnull().sum() + (df[col].astype(str).str.strip() == '').sum()\n",
    "        print(f\"{col}: {vazios} vazios\")\n",
    "    else:\n",
    "        print(f\"Coluna '{col}' não encontrada\")"
   ]
  },
  {
   "cell_type": "code",
   "execution_count": 11,
   "id": "9ae18239-dc28-4f25-8672-4cd3aac995e8",
   "metadata": {},
   "outputs": [
    {
     "data": {
      "text/html": [
       "<div>\n",
       "<style scoped>\n",
       "    .dataframe tbody tr th:only-of-type {\n",
       "        vertical-align: middle;\n",
       "    }\n",
       "\n",
       "    .dataframe tbody tr th {\n",
       "        vertical-align: top;\n",
       "    }\n",
       "\n",
       "    .dataframe thead th {\n",
       "        text-align: right;\n",
       "    }\n",
       "</style>\n",
       "<table border=\"1\" class=\"dataframe\">\n",
       "  <thead>\n",
       "    <tr style=\"text-align: right;\">\n",
       "      <th></th>\n",
       "      <th>Nome da Origem.1</th>\n",
       "      <th>Nome da Origem.2</th>\n",
       "      <th>Ciclo_Entrega</th>\n",
       "      <th>ID</th>\n",
       "      <th>GRUPO IMPLE</th>\n",
       "      <th>FUNÇÃO NIST CSF</th>\n",
       "      <th>MEDIDA</th>\n",
       "      <th>RESPOSTA DAS MEDIDAS</th>\n",
       "      <th>ID_Controle_Priv</th>\n",
       "      <th>Justificativa do porquê da resposta \"Não se aplica\"</th>\n",
       "      <th>RESPOSTA DA VISAO MACRO DOS CONTROLES</th>\n",
       "      <th>DESCRIÇÃO DA VISAO MACRO DOS CONTROLES</th>\n",
       "    </tr>\n",
       "  </thead>\n",
       "  <tbody>\n",
       "    <tr>\n",
       "      <th>0</th>\n",
       "      <td>ABIN</td>\n",
       "      <td>C1-ABIN-Ferramenta_frameworkpsi_pt-3-basica-se...</td>\n",
       "      <td>C1</td>\n",
       "      <td>19</td>\n",
       "      <td></td>\n",
       "      <td>&lt;NA&gt;</td>\n",
       "      <td>CONTROLE 19: INVENTÁRIO E MAPEAMENTO</td>\n",
       "      <td>&lt;NA&gt;</td>\n",
       "      <td>19</td>\n",
       "      <td>&lt;NA&gt;</td>\n",
       "      <td>3</td>\n",
       "      <td>O controle atinge seu objetivo de forma muito ...</td>\n",
       "    </tr>\n",
       "    <tr>\n",
       "      <th>1</th>\n",
       "      <td>ABIN</td>\n",
       "      <td>C1-ABIN-Ferramenta_frameworkpsi_pt-3-basica-se...</td>\n",
       "      <td>C1</td>\n",
       "      <td>19.1</td>\n",
       "      <td>G1</td>\n",
       "      <td>IDENTIFICAR-P</td>\n",
       "      <td>A organização documenta os sistemas, serviços ...</td>\n",
       "      <td>Adota parcialmente</td>\n",
       "      <td>19</td>\n",
       "      <td>&lt;NA&gt;</td>\n",
       "      <td>&lt;NA&gt;</td>\n",
       "      <td>&lt;NA&gt;</td>\n",
       "    </tr>\n",
       "    <tr>\n",
       "      <th>2</th>\n",
       "      <td>ABIN</td>\n",
       "      <td>C1-ABIN-Ferramenta_frameworkpsi_pt-3-basica-se...</td>\n",
       "      <td>C1</td>\n",
       "      <td>19.2</td>\n",
       "      <td>G1</td>\n",
       "      <td>IDENTIFICAR-P</td>\n",
       "      <td>O órgão mapeia os agentes de tratamento (contr...</td>\n",
       "      <td>Adota em maior parte ou totalmente</td>\n",
       "      <td>19</td>\n",
       "      <td>&lt;NA&gt;</td>\n",
       "      <td>&lt;NA&gt;</td>\n",
       "      <td>&lt;NA&gt;</td>\n",
       "    </tr>\n",
       "    <tr>\n",
       "      <th>3</th>\n",
       "      <td>ABIN</td>\n",
       "      <td>C1-ABIN-Ferramenta_frameworkpsi_pt-3-basica-se...</td>\n",
       "      <td>C1</td>\n",
       "      <td>19.3</td>\n",
       "      <td>G1</td>\n",
       "      <td>IDENTIFICAR-P</td>\n",
       "      <td>O órgão documenta as fases do tratamento em qu...</td>\n",
       "      <td>Há decisão formal ou plano aprovado para imple...</td>\n",
       "      <td>19</td>\n",
       "      <td>&lt;NA&gt;</td>\n",
       "      <td>&lt;NA&gt;</td>\n",
       "      <td>&lt;NA&gt;</td>\n",
       "    </tr>\n",
       "    <tr>\n",
       "      <th>4</th>\n",
       "      <td>ABIN</td>\n",
       "      <td>C1-ABIN-Ferramenta_frameworkpsi_pt-3-basica-se...</td>\n",
       "      <td>C1</td>\n",
       "      <td>19.4</td>\n",
       "      <td>G1</td>\n",
       "      <td>IDENTIFICAR-P</td>\n",
       "      <td>O órgão mapeia os fluxos ou ações do tratament...</td>\n",
       "      <td>Há decisão formal ou plano aprovado para imple...</td>\n",
       "      <td>19</td>\n",
       "      <td>&lt;NA&gt;</td>\n",
       "      <td>&lt;NA&gt;</td>\n",
       "      <td>&lt;NA&gt;</td>\n",
       "    </tr>\n",
       "  </tbody>\n",
       "</table>\n",
       "</div>"
      ],
      "text/plain": [
       "  Nome da Origem.1                                   Nome da Origem.2  \\\n",
       "0             ABIN  C1-ABIN-Ferramenta_frameworkpsi_pt-3-basica-se...   \n",
       "1             ABIN  C1-ABIN-Ferramenta_frameworkpsi_pt-3-basica-se...   \n",
       "2             ABIN  C1-ABIN-Ferramenta_frameworkpsi_pt-3-basica-se...   \n",
       "3             ABIN  C1-ABIN-Ferramenta_frameworkpsi_pt-3-basica-se...   \n",
       "4             ABIN  C1-ABIN-Ferramenta_frameworkpsi_pt-3-basica-se...   \n",
       "\n",
       "  Ciclo_Entrega    ID GRUPO IMPLE FUNÇÃO NIST CSF  \\\n",
       "0            C1    19                        <NA>   \n",
       "1            C1  19.1          G1   IDENTIFICAR-P   \n",
       "2            C1  19.2          G1   IDENTIFICAR-P   \n",
       "3            C1  19.3          G1   IDENTIFICAR-P   \n",
       "4            C1  19.4          G1   IDENTIFICAR-P   \n",
       "\n",
       "                                              MEDIDA  \\\n",
       "0               CONTROLE 19: INVENTÁRIO E MAPEAMENTO   \n",
       "1  A organização documenta os sistemas, serviços ...   \n",
       "2  O órgão mapeia os agentes de tratamento (contr...   \n",
       "3  O órgão documenta as fases do tratamento em qu...   \n",
       "4  O órgão mapeia os fluxos ou ações do tratament...   \n",
       "\n",
       "                                RESPOSTA DAS MEDIDAS ID_Controle_Priv  \\\n",
       "0                                               <NA>               19   \n",
       "1                                 Adota parcialmente               19   \n",
       "2                 Adota em maior parte ou totalmente               19   \n",
       "3  Há decisão formal ou plano aprovado para imple...               19   \n",
       "4  Há decisão formal ou plano aprovado para imple...               19   \n",
       "\n",
       "  Justificativa do porquê da resposta \"Não se aplica\"  \\\n",
       "0                                               <NA>    \n",
       "1                                               <NA>    \n",
       "2                                               <NA>    \n",
       "3                                               <NA>    \n",
       "4                                               <NA>    \n",
       "\n",
       "  RESPOSTA DA VISAO MACRO DOS CONTROLES  \\\n",
       "0                                     3   \n",
       "1                                  <NA>   \n",
       "2                                  <NA>   \n",
       "3                                  <NA>   \n",
       "4                                  <NA>   \n",
       "\n",
       "              DESCRIÇÃO DA VISAO MACRO DOS CONTROLES  \n",
       "0  O controle atinge seu objetivo de forma muito ...  \n",
       "1                                               <NA>  \n",
       "2                                               <NA>  \n",
       "3                                               <NA>  \n",
       "4                                               <NA>  "
      ]
     },
     "execution_count": 11,
     "metadata": {},
     "output_type": "execute_result"
    }
   ],
   "source": [
    "df_form2_4.head()"
   ]
  },
  {
   "cell_type": "code",
   "execution_count": 12,
   "id": "c75f57bb-cabb-484f-8cd1-b4a5842cbe81",
   "metadata": {},
   "outputs": [],
   "source": [
    "#df_form2_4['chave1'] = (\n",
    "#    df_form2_4['Nome da Origem.2'].astype(str)\n",
    "#    + df_form2_4['ID'].astype(str)\n",
    "#)"
   ]
  },
  {
   "cell_type": "code",
   "execution_count": null,
   "id": "7d6d1841-473f-4c5e-913a-7fbc9114946c",
   "metadata": {},
   "outputs": [],
   "source": []
  },
  {
   "cell_type": "code",
   "execution_count": null,
   "id": "a2ce28e6-918e-4baa-8dd4-11c1dde20943",
   "metadata": {},
   "outputs": [],
   "source": []
  },
  {
   "cell_type": "code",
   "execution_count": null,
   "id": "fba0c5a1-f6d4-497c-b6b0-8b8602e219d1",
   "metadata": {},
   "outputs": [],
   "source": []
  },
  {
   "cell_type": "code",
   "execution_count": null,
   "id": "06853231-6675-442a-89f9-ab674fdcd21d",
   "metadata": {},
   "outputs": [],
   "source": []
  },
  {
   "cell_type": "code",
   "execution_count": 13,
   "id": "a0a43e05-8141-480d-84a9-9815dd5a312e",
   "metadata": {},
   "outputs": [],
   "source": [
    "# Salva em Excel\n",
    "#df_resumo.to_excel(r\"C:\\Users\\MGI\\OneDrive - mtegovbr\\COMAT\\ANALISE_BASE\\df_resumo.xlsx\", sheet_name = \"df_resumo\", index=False)\n",
    "df_form2_4.to_excel(r\"C:\\Users\\MGI\\OneDrive - mtegovbr\\COMAT\\ANALISE_BASE\\df_form2_4_contagem.xlsx\", sheet_name = \"df_form2_4_contagem\", index=False)"
   ]
  },
  {
   "cell_type": "code",
   "execution_count": 14,
   "id": "a9d67a14-0e35-401d-8d0e-923d89a366cb",
   "metadata": {},
   "outputs": [
    {
     "name": "stdout",
     "output_type": "stream",
     "text": [
      "<class 'pandas.core.frame.DataFrame'>\n",
      "RangeIndex: 136105 entries, 0 to 136104\n",
      "Data columns (total 12 columns):\n",
      " #   Column                                               Non-Null Count   Dtype \n",
      "---  ------                                               --------------   ----- \n",
      " 0   Nome da Origem.1                                     136105 non-null  object\n",
      " 1   Nome da Origem.2                                     136105 non-null  object\n",
      " 2   Ciclo_Entrega                                        136105 non-null  object\n",
      " 3   ID                                                   136105 non-null  object\n",
      " 4   GRUPO IMPLE                                          136105 non-null  object\n",
      " 5   FUNÇÃO NIST CSF                                      125250 non-null  object\n",
      " 6   MEDIDA                                               136105 non-null  object\n",
      " 7   RESPOSTA DAS MEDIDAS                                 125248 non-null  object\n",
      " 8   ID_Controle_Priv                                     136105 non-null  object\n",
      " 9   Justificativa do porquê da resposta \"Não se aplica\"  22491 non-null   object\n",
      " 10  RESPOSTA DA VISAO MACRO DOS CONTROLES                10858 non-null   object\n",
      " 11  DESCRIÇÃO DA VISAO MACRO DOS CONTROLES               10787 non-null   object\n",
      "dtypes: object(12)\n",
      "memory usage: 12.5+ MB\n"
     ]
    }
   ],
   "source": [
    "df_form2_4.info()"
   ]
  },
  {
   "cell_type": "code",
   "execution_count": 15,
   "id": "420871b3-3fb7-4528-8818-dd7cf9b77783",
   "metadata": {},
   "outputs": [],
   "source": [
    "df_consolidado = df_form2_4"
   ]
  },
  {
   "cell_type": "code",
   "execution_count": 16,
   "id": "83af69b3-30a8-43c7-b3bb-9df76238f44f",
   "metadata": {},
   "outputs": [
    {
     "name": "stdout",
     "output_type": "stream",
     "text": [
      "<class 'pandas.core.frame.DataFrame'>\n",
      "RangeIndex: 136105 entries, 0 to 136104\n",
      "Data columns (total 12 columns):\n",
      " #   Column                                               Non-Null Count   Dtype \n",
      "---  ------                                               --------------   ----- \n",
      " 0   Nome da Origem.1                                     136105 non-null  object\n",
      " 1   Nome da Origem.2                                     136105 non-null  object\n",
      " 2   Ciclo_Entrega                                        136105 non-null  object\n",
      " 3   ID                                                   136105 non-null  object\n",
      " 4   GRUPO IMPLE                                          136105 non-null  object\n",
      " 5   FUNÇÃO NIST CSF                                      125250 non-null  object\n",
      " 6   MEDIDA                                               136105 non-null  object\n",
      " 7   RESPOSTA DAS MEDIDAS                                 125248 non-null  object\n",
      " 8   ID_Controle_Priv                                     136105 non-null  object\n",
      " 9   Justificativa do porquê da resposta \"Não se aplica\"  22491 non-null   object\n",
      " 10  RESPOSTA DA VISAO MACRO DOS CONTROLES                10858 non-null   object\n",
      " 11  DESCRIÇÃO DA VISAO MACRO DOS CONTROLES               10787 non-null   object\n",
      "dtypes: object(12)\n",
      "memory usage: 12.5+ MB\n"
     ]
    }
   ],
   "source": [
    "df_consolidado.info()"
   ]
  },
  {
   "cell_type": "code",
   "execution_count": 17,
   "id": "f21a32ed-283d-46f7-9aa8-2c95818a9333",
   "metadata": {},
   "outputs": [],
   "source": [
    "import pandas as pd\n",
    "\n",
    "# 0) Normalize o campo de ciclo\n",
    "df_consolidado['Ciclo_Entrega'] = (\n",
    "    df_consolidado['Ciclo_Entrega']\n",
    "    .astype(str)\n",
    "    .str.strip()\n",
    "    .str.upper()\n",
    ")\n",
    "\n",
    "# 1) Identifica e ordena apenas ciclos no formato \"C\" + dígito\n",
    "ciclos_ordenados = sorted(\n",
    "    [c for c in df_consolidado['Ciclo_Entrega'].unique()\n",
    "     if c.startswith('C') and c[1:].isdigit()],\n",
    "    key=lambda x: int(x[1:])\n",
    ")\n",
    "\n",
    "chave = ['Nome da Origem.1', 'ID']\n",
    "resultados = []\n",
    "\n",
    "for i, ciclo in enumerate(ciclos_ordenados):\n",
    "    # 2) define quais ciclos entram na acumulação desta iteração\n",
    "    ciclos_ate_agora = ciclos_ordenados[:i+1]\n",
    "    \n",
    "    # 3) filtra todos os dados com ciclo em ciclos_ate_agora\n",
    "    df_acum = df_consolidado[\n",
    "        df_consolidado['Ciclo_Entrega'].isin(ciclos_ate_agora)\n",
    "    ].copy()\n",
    "\n",
    "    # 4) mapeia a ordem numérica de cada ciclo\n",
    "    ordem_map = {c: idx for idx, c in enumerate(ciclos_ate_agora)}\n",
    "    df_acum['ordem_ciclo'] = df_acum['Ciclo_Entrega'].map(ordem_map)\n",
    "\n",
    "    # 5) dentro desse acumulado, ordena para que a ocorrência mais recente fique por cima\n",
    "    df_acum = df_acum.sort_values(\n",
    "        chave + ['ordem_ciclo'], \n",
    "        ascending=[True]*len(chave) + [False]\n",
    "    )\n",
    "\n",
    "    # 6) dedupe **só** pelo par chave, mantendo a **primeira** (que é do ciclo mais recente)\n",
    "    df_unicos = df_acum.drop_duplicates(subset=chave, keep='first')\n",
    "\n",
    "    # 7) marca o contexto como o ciclo atual\n",
    "    df_unicos['Ciclo_Contexto'] = ciclo\n",
    "\n",
    "    resultados.append(df_unicos.drop(columns='ordem_ciclo'))\n",
    "\n",
    "# 8) concatena tudo — aqui **não** rodamos mais nenhum drop_duplicates global\n",
    "df_resultado = pd.concat(resultados, ignore_index=True)\n"
   ]
  },
  {
   "cell_type": "code",
   "execution_count": 18,
   "id": "96cb6b6e-1af7-4a2b-9b54-baf6533d60de",
   "metadata": {},
   "outputs": [],
   "source": [
    "#######df_consolidado['Ciclo_Entrega'] = df_consolidado['Ciclo_Entrega'].astype(str).str.strip().str.upper()\n",
    "\n",
    "# Filtrar somente ciclos válidos que seguem o padrão \"C\" seguido de número\n",
    "#######ciclos_ordenados = sorted(\n",
    "#######    [c for c in df_consolidado['Ciclo_Entrega'].unique() if c.startswith('C') and c[1:].isdigit()],\n",
    "#######    key=lambda x: int(x[1:])\n",
    "#######)\n",
    "\n",
    "#######df_resultado = pd.DataFrame()\n",
    "#######chave = ['Nome da Origem.1', 'ID']\n",
    "#######for i, ciclo in enumerate(ciclos_ordenados):\n",
    "#######    ciclos_ate_agora = ciclos_ordenados[:i+1]\n",
    "\n",
    "#######    df_filtrado = df_consolidado[df_consolidado['Ciclo_Entrega'].isin(ciclos_ate_agora)].copy()\n",
    "\n",
    "    # Mapeia a ordem dos ciclos dinamicamente\n",
    "#######    ordem_map = {c: idx for idx, c in enumerate(ciclos_ate_agora)}\n",
    "#######    df_filtrado['ordem_ciclo'] = df_filtrado['Ciclo_Entrega'].map(ordem_map)\n",
    "\n",
    "    # Ordena para pegar o mais recente por grupo\n",
    "#######    df_filtrado = (\n",
    "#######        df_filtrado\n",
    "#######        .sort_values(chave + ['ordem_ciclo'], ascending=[True]*len(chave) + [False])\n",
    "#######        .drop_duplicates(subset=chave, keep='first')\n",
    "#######    )\n",
    "\n",
    "#######    df_filtrado['Ciclo_Contexto'] = ciclo\n",
    "#######    df_resultado = pd.concat([df_resultado, df_filtrado.drop(columns='ordem_ciclo')], ignore_index=True)"
   ]
  },
  {
   "cell_type": "code",
   "execution_count": 19,
   "id": "611be611-b018-4763-a3bb-9cddf21752c3",
   "metadata": {},
   "outputs": [
    {
     "name": "stdout",
     "output_type": "stream",
     "text": [
      "<class 'pandas.core.frame.DataFrame'>\n",
      "RangeIndex: 165934 entries, 0 to 165933\n",
      "Data columns (total 13 columns):\n",
      " #   Column                                               Non-Null Count   Dtype \n",
      "---  ------                                               --------------   ----- \n",
      " 0   Nome da Origem.1                                     165934 non-null  object\n",
      " 1   Nome da Origem.2                                     165934 non-null  object\n",
      " 2   Ciclo_Entrega                                        165934 non-null  object\n",
      " 3   ID                                                   165934 non-null  object\n",
      " 4   GRUPO IMPLE                                          165934 non-null  object\n",
      " 5   FUNÇÃO NIST CSF                                      152700 non-null  object\n",
      " 6   MEDIDA                                               165934 non-null  object\n",
      " 7   RESPOSTA DAS MEDIDAS                                 152698 non-null  object\n",
      " 8   ID_Controle_Priv                                     165934 non-null  object\n",
      " 9   Justificativa do porquê da resposta \"Não se aplica\"  27078 non-null   object\n",
      " 10  RESPOSTA DA VISAO MACRO DOS CONTROLES                13237 non-null   object\n",
      " 11  DESCRIÇÃO DA VISAO MACRO DOS CONTROLES               13166 non-null   object\n",
      " 12  Ciclo_Contexto                                       165934 non-null  object\n",
      "dtypes: object(13)\n",
      "memory usage: 16.5+ MB\n"
     ]
    }
   ],
   "source": [
    "df_resultado.info()"
   ]
  },
  {
   "cell_type": "code",
   "execution_count": 20,
   "id": "85d4edfe-b5e7-4fd4-8962-32cb5a765dcd",
   "metadata": {},
   "outputs": [],
   "source": [
    "# Substitui \"C1\" por \"Ciclo 1\", \"C2\" por \"Ciclo 2\", etc.\n",
    "df_form2_4['Ciclo_Entrega'] = df_form2_4['Ciclo_Entrega'].str.extract(r'(\\d+)')[0].astype(int).apply(lambda x: f'Ciclo {x}')"
   ]
  },
  {
   "cell_type": "code",
   "execution_count": 21,
   "id": "b9e19e4b-dc78-440f-86e6-6d871adda9ca",
   "metadata": {},
   "outputs": [],
   "source": [
    "# Salva em Excel\n",
    "df_form2_4.to_excel(r\"C:\\Users\\MGI\\OneDrive - mtegovbr\\COMAT\\FONTE_PAINEL\\FORM2_4-Diagn-Priv_C.xlsx\", sheet_name = \"FORM2_4-Diagn-Priv_C\", index=False)\n",
    "#df_form2_4_macro.to_excel(r\"C:\\Users\\MGI\\OneDrive - mtegovbr\\COMAT\\Doc_Apoio_BI\\FORM2_4_Diag_Ipriv_MACRO_C.xlsx\", sheet_name = \"FORM2_4_Diag_Ipriv_MACRO_C\", index=False)"
   ]
  },
  {
   "cell_type": "code",
   "execution_count": 22,
   "id": "8b9c93b3-7fb5-4dc3-9ec0-a4a907e318db",
   "metadata": {},
   "outputs": [],
   "source": [
    "# Substitui \"C1\" por \"Ciclo 1\", \"C2\" por \"Ciclo 2\", etc.\n",
    "df_resultado['Ciclo_Entrega'] = df_resultado['Ciclo_Entrega'].str.extract(r'(\\d+)')[0].astype(int).apply(lambda x: f'Ciclo {x}')\n",
    "df_resultado['Ciclo_Contexto'] = df_resultado['Ciclo_Contexto'].str.extract(r'(\\d+)')[0].astype(int).apply(lambda x: f'Ciclo {x}')"
   ]
  },
  {
   "cell_type": "code",
   "execution_count": 23,
   "id": "8f187ea3-f849-4c27-a48d-69e8e14d1dc4",
   "metadata": {},
   "outputs": [],
   "source": [
    "df_form2_4['chave'] = (\n",
    "    df_form2_4['Nome da Origem.2'].astype(str)\n",
    "    + df_form2_4['ID'].astype(str)\n",
    ")"
   ]
  },
  {
   "cell_type": "code",
   "execution_count": 24,
   "id": "3bbc378d-e85c-4169-9d4a-37aacd054b58",
   "metadata": {},
   "outputs": [],
   "source": [
    "# Antes de salvar, limpe quaisquer linhas onde ambas as chaves estejam nulas ou vazias\n",
    "df_resultado = df_resultado.dropna(subset=['Nome da Origem.1', 'ID'], how='all')\n",
    "df_resultado = df_resultado[\n",
    "    df_resultado['Nome da Origem.1'].astype(str).str.strip().ne('') |\n",
    "    df_resultado['ID'].astype(str).str.strip().ne('')\n",
    "]"
   ]
  },
  {
   "cell_type": "code",
   "execution_count": 25,
   "id": "4ba030c1-4e0d-46ec-bfcf-15db6d82d827",
   "metadata": {},
   "outputs": [],
   "source": [
    "# Salva em Excel\n",
    "df_resultado.to_excel(r\"C:\\Users\\MGI\\OneDrive - mtegovbr\\COMAT\\FONTE_PAINEL\\FORM2_4-Diagn-SI_Recente.xlsx\", sheet_name = \"FORM2_4-Diagn-Priv_Recente\", index=False)"
   ]
  },
  {
   "cell_type": "code",
   "execution_count": 26,
   "id": "6c3616f8-b71d-43bf-a2f4-5dc5d6aa13cf",
   "metadata": {},
   "outputs": [
    {
     "name": "stdout",
     "output_type": "stream",
     "text": [
      "2025-05-21 08:45:41.377294\n",
      "2025-05-21 09:19:25.078858\n",
      "0:33:43.701564\n"
     ]
    }
   ],
   "source": [
    "dh_termino = datetime.today()\n",
    "duracao = dh_termino - dh_inicio\n",
    "print(dh_inicio)\n",
    "print(dh_termino)\n",
    "print(duracao)"
   ]
  },
  {
   "cell_type": "code",
   "execution_count": 27,
   "id": "d22eec91-0d43-40d8-9cdc-4ccb7194f51f",
   "metadata": {},
   "outputs": [
    {
     "name": "stdout",
     "output_type": "stream",
     "text": [
      "<class 'pandas.core.frame.DataFrame'>\n",
      "RangeIndex: 165934 entries, 0 to 165933\n",
      "Data columns (total 13 columns):\n",
      " #   Column                                               Non-Null Count   Dtype \n",
      "---  ------                                               --------------   ----- \n",
      " 0   Nome da Origem.1                                     165934 non-null  object\n",
      " 1   Nome da Origem.2                                     165934 non-null  object\n",
      " 2   Ciclo_Entrega                                        165934 non-null  object\n",
      " 3   ID                                                   165934 non-null  object\n",
      " 4   GRUPO IMPLE                                          165934 non-null  object\n",
      " 5   FUNÇÃO NIST CSF                                      152700 non-null  object\n",
      " 6   MEDIDA                                               165934 non-null  object\n",
      " 7   RESPOSTA DAS MEDIDAS                                 152698 non-null  object\n",
      " 8   ID_Controle_Priv                                     165934 non-null  object\n",
      " 9   Justificativa do porquê da resposta \"Não se aplica\"  27078 non-null   object\n",
      " 10  RESPOSTA DA VISAO MACRO DOS CONTROLES                13237 non-null   object\n",
      " 11  DESCRIÇÃO DA VISAO MACRO DOS CONTROLES               13166 non-null   object\n",
      " 12  Ciclo_Contexto                                       165934 non-null  object\n",
      "dtypes: object(13)\n",
      "memory usage: 16.5+ MB\n"
     ]
    }
   ],
   "source": [
    "df_resultado.info()"
   ]
  },
  {
   "cell_type": "code",
   "execution_count": 28,
   "id": "9400084a-c7e0-482c-b1cb-6a25c282bb2c",
   "metadata": {},
   "outputs": [
    {
     "name": "stdout",
     "output_type": "stream",
     "text": [
      "Nome da Origem.1: 0 vazios\n",
      "Nome da Origem.2: 0 vazios\n",
      "Ciclo_Entrega: 0 vazios\n",
      "ID: 0 vazios\n",
      "GRUPO IMPLE: 13234 vazios\n",
      "FUNÇÃO NIST CSF: 13234 vazios\n",
      "MEDIDA: 0 vazios\n",
      "RESPOSTA DAS MEDIDAS: 13236 vazios\n",
      "ID_Controle_Priv: 0 vazios\n",
      "Justificativa do porquê da resposta \"Não se aplica\": 138856 vazios\n",
      "RESPOSTA DA VISAO MACRO DOS CONTROLES: 152697 vazios\n",
      "DESCRIÇÃO DA VISAO MACRO DOS CONTROLES: 152768 vazios\n"
     ]
    }
   ],
   "source": [
    "colunas1 = [\n",
    "            'Nome da Origem.1', 'Nome da Origem.2', 'Ciclo_Entrega', 'ID', 'GRUPO IMPLE', 'FUNÇÃO NIST CSF', 'MEDIDA',\n",
    "            'RESPOSTA DAS MEDIDAS', 'ID_Controle_Priv',\n",
    "            'Justificativa do porquê da resposta \"Não se aplica\"',\n",
    "            'RESPOSTA DA VISAO MACRO DOS CONTROLES', 'DESCRIÇÃO DA VISAO MACRO DOS CONTROLES'\n",
    "        ] \n",
    "df = df_resultado\n",
    "for col in colunas1:\n",
    "    if col in df.columns:\n",
    "        vazios = df[col].isnull().sum() + (df[col].astype(str).str.strip() == '').sum()\n",
    "        print(f\"{col}: {vazios} vazios\")\n",
    "    else:\n",
    "        print(f\"Coluna '{col}' não encontrada\")"
   ]
  }
 ],
 "metadata": {
  "kernelspec": {
   "display_name": "Python [conda env:base] *",
   "language": "python",
   "name": "conda-base-py"
  },
  "language_info": {
   "codemirror_mode": {
    "name": "ipython",
    "version": 3
   },
   "file_extension": ".py",
   "mimetype": "text/x-python",
   "name": "python",
   "nbconvert_exporter": "python",
   "pygments_lexer": "ipython3",
   "version": "3.12.7"
  }
 },
 "nbformat": 4,
 "nbformat_minor": 5
}
