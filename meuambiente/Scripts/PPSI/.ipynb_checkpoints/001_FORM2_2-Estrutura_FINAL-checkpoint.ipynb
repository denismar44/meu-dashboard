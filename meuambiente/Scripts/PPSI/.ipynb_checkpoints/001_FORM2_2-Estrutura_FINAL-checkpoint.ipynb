{
 "cells": [
  {
   "cell_type": "code",
   "execution_count": 1,
   "id": "14c85196-1520-43fe-b572-c1c77501b033",
   "metadata": {},
   "outputs": [],
   "source": [
    "#!pip install -U openpyxl"
   ]
  },
  {
   "cell_type": "code",
   "execution_count": 2,
   "id": "56a0907e-f5be-4303-96a1-bc9b30d9f8e1",
   "metadata": {},
   "outputs": [],
   "source": [
    "import os\n",
    "import re\n",
    "import pandas as pd\n",
    "import numpy as np\n",
    "from datetime import date, datetime\n",
    "from openpyxl import load_workbook\n",
    "import warnings\n",
    "warnings.filterwarnings('ignore')"
   ]
  },
  {
   "cell_type": "code",
   "execution_count": 3,
   "id": "50498c40-c4a4-4104-9139-45d38d9b3c78",
   "metadata": {},
   "outputs": [],
   "source": [
    "dh_inicio = datetime.today()"
   ]
  },
  {
   "cell_type": "markdown",
   "id": "2010cf91-5f6f-47c5-9c04-9ad38f2c22b7",
   "metadata": {},
   "source": [
    "### CARGA DOS ARQUIVOS DOS CICLOS"
   ]
  },
  {
   "cell_type": "code",
   "execution_count": 5,
   "id": "33fb8487-7aa1-40b6-a742-cdd0beac1fa8",
   "metadata": {},
   "outputs": [
    {
     "name": "stdout",
     "output_type": "stream",
     "text": [
      "Lista de arquivos salva com sucesso!\n"
     ]
    }
   ],
   "source": [
    "# Caminho da pasta dos arquivos\n",
    "caminho_pasta = r\"C:\\Users\\MGI\\OneDrive - mtegovbr\\COMAT\\BASE\\CICLOS-1-2-3-4\"\n",
    "\n",
    "# Lista os arquivos da pasta\n",
    "arquivos = os.listdir(caminho_pasta)\n",
    "\n",
    "# Filtra apenas arquivos (ignora subpastas)\n",
    "arquivos = [f for f in arquivos if os.path.isfile(os.path.join(caminho_pasta, f))]\n",
    "\n",
    "# Cria um DataFrame com os nomes\n",
    "df = pd.DataFrame(arquivos, columns=[\"nome_arquivo\"])\n",
    "\n",
    "# Salva em Excel\n",
    "#df.to_excel(r\"C:\\Users\\MGI\\Documents\\COMAT\\REFERENCIAS\\CICLOS-1-2-3\\CICLO_1_2_3_arquivos.xlsx\", index=False)\n",
    "\n",
    "print(\"Lista de arquivos salva com sucesso!\")"
   ]
  },
  {
   "cell_type": "code",
   "execution_count": 6,
   "id": "92bed9bf-9461-47e0-8957-0c9ff4e231ba",
   "metadata": {},
   "outputs": [
    {
     "name": "stdout",
     "output_type": "stream",
     "text": [
      "<class 'pandas.core.frame.DataFrame'>\n",
      "RangeIndex: 835 entries, 0 to 834\n",
      "Data columns (total 1 columns):\n",
      " #   Column        Non-Null Count  Dtype \n",
      "---  ------        --------------  ----- \n",
      " 0   nome_arquivo  835 non-null    object\n",
      "dtypes: object(1)\n",
      "memory usage: 6.7+ KB\n"
     ]
    }
   ],
   "source": [
    "df.info()"
   ]
  },
  {
   "cell_type": "markdown",
   "id": "b89d1b4b-87b6-4e9b-a34e-2d33ec1eb29e",
   "metadata": {},
   "source": [
    "## FORM2_2-Estrutura_CONSOLIDADO"
   ]
  },
  {
   "cell_type": "code",
   "execution_count": 8,
   "id": "5d8d70da-1c11-4adc-8edc-326f2e804faa",
   "metadata": {},
   "outputs": [
    {
     "name": "stdout",
     "output_type": "stream",
     "text": [
      "\n",
      "📊 Resumo da execução:\n",
      "🗂️ Total de arquivos considerados: 835\n",
      "✅ Arquivos lidos com sucesso: 835\n",
      "❌ Arquivos com erro: 0\n",
      "📦 Total de arquivos únicos no consolidado (Nome da Origem.2): 835\n",
      "✅ ✅ Consolidação concluída com sucesso!\n"
     ]
    }
   ],
   "source": [
    "# Lista para armazenar os DataFrames da aba FORM2.2\n",
    "dados_form2_2 = []\n",
    "\n",
    "for arquivo in arquivos:\n",
    "    caminho_arquivo = os.path.join(caminho_pasta, arquivo)\n",
    "    try:\n",
    "        # Lê a célula E6 da planilha FORM2.2 usando openpyxl\n",
    "        wb = load_workbook(caminho_arquivo, data_only=True)\n",
    "        ws = wb['FORM2.2']\n",
    "        nivel_controle = ws['E6'].value\n",
    "        desc_controle  = ws['B8'].value\n",
    "        ciclo_entrega = arquivo[:2]\n",
    "\n",
    "        # Lê os dados a partir da 10ª linha (header=9)\n",
    "        df = pd.read_excel(caminho_arquivo, sheet_name='FORM2.2', header=9)\n",
    "        df = df.iloc[:18]   # apenas linhas de 0 a 18\n",
    "      # Renomeia as colunas com base nas posições\n",
    "        novos_nomes = {\n",
    "            df.columns[1]: 'ID',\n",
    "            df.columns[2]: 'MEDIDA',\n",
    "            df.columns[3]: 'DESCRIÇÃO DA MEDIDA',\n",
    "            df.columns[4]: 'RESPOSTA DAS MEDIDAS',\n",
    "        }\n",
    "        df.rename(columns=novos_nomes, inplace=True)\n",
    "        \n",
    "        df['ID'] = df['ID'].apply(lambda x: str(x) if pd.notnull(x) else x)             \n",
    "        \n",
    "        # Adiciona colunas auxiliares\n",
    "        df['Nome da Origem.2'] = arquivo\n",
    "        df['Nome da Origem.1'] = df['Nome da Origem.2'].str.extract(r'-(.*?)-')\n",
    "        df['NIVEL_CONTROLE'] = nivel_controle\n",
    "        #df['DESCRIÇÃO_CONTROLE'] = desc_controle\n",
    "        df['Ciclo_Entrega'] = ciclo_entrega        \n",
    "        \n",
    "        # Seleciona as colunas desejadas\n",
    "        colunas = [\n",
    "            'ID', 'MEDIDA', 'DESCRIÇÃO DA MEDIDA', 'RESPOSTA DAS MEDIDAS', 'NIVEL_CONTROLE', 'Nome da Origem.1',\n",
    "            'Nome da Origem.2','Ciclo_Entrega'\n",
    "            ]\n",
    "        df = df[colunas]\n",
    "\n",
    "       \n",
    "        \n",
    "        # Adiciona ao consolidado\n",
    "        dados_form2_2.append(df)\n",
    "        #print(f\"✅ Leitura concluída com sucesso: {arquivo}\")\n",
    "    except Exception as e:\n",
    "        print(f\"❌ Erro ao ler 'FORM2.2' em {arquivo}: {e}\")\n",
    "\n",
    "# Consolida tudo em um único DataFrame\n",
    "df_form2_2 = pd.concat(dados_form2_2, ignore_index=True)\n",
    "\n",
    "\n",
    "# Resumo da execução\n",
    "\n",
    "total_arquivos_consolidados = df_form2_2['Nome da Origem.2'].nunique()\n",
    "total_arquivos = len(arquivos)\n",
    "sucesso = len(dados_form2_2)\n",
    "erros = total_arquivos - sucesso\n",
    "\n",
    "print(\"\\n📊 Resumo da execução:\")\n",
    "print(f\"🗂️ Total de arquivos considerados: {total_arquivos}\")\n",
    "print(f\"✅ Arquivos lidos com sucesso: {sucesso}\")\n",
    "print(f\"❌ Arquivos com erro: {erros}\")\n",
    " \n",
    "print(f\"📦 Total de arquivos únicos no consolidado (Nome da Origem.2): {total_arquivos_consolidados}\")\n",
    "\n",
    "print(\"✅ ✅ Consolidação concluída com sucesso!\")"
   ]
  },
  {
   "cell_type": "code",
   "execution_count": 9,
   "id": "5d68753a-f3bd-4014-96b7-b2767dfee4bc",
   "metadata": {},
   "outputs": [
    {
     "name": "stdout",
     "output_type": "stream",
     "text": [
      "ID: 836 vazios\n",
      "MEDIDA: 836 vazios\n",
      "DESCRIÇÃO DA MEDIDA: 836 vazios\n",
      "RESPOSTA DAS MEDIDAS: 839 vazios\n",
      "NIVEL_CONTROLE: 16 vazios\n",
      "Nome da Origem.1: 0 vazios\n",
      "Nome da Origem.2: 0 vazios\n",
      "Ciclo_Entrega: 0 vazios\n"
     ]
    }
   ],
   "source": [
    "colunas1 = [\n",
    "            'ID', 'MEDIDA', 'DESCRIÇÃO DA MEDIDA', 'RESPOSTA DAS MEDIDAS', 'NIVEL_CONTROLE', 'Nome da Origem.1',\n",
    "            'Nome da Origem.2','Ciclo_Entrega'\n",
    "            ]\n",
    "df = df_form2_2\n",
    "for col in colunas1:\n",
    "    if col in df.columns:\n",
    "        vazios = df[col].isnull().sum() + (df[col].astype(str).str.strip() == '').sum()\n",
    "        print(f\"{col}: {vazios} vazios\")\n",
    "    else:\n",
    "        print(f\"Coluna '{col}' não encontrada\")"
   ]
  },
  {
   "cell_type": "code",
   "execution_count": 10,
   "id": "1ccd5a29-d86f-407b-adfc-c37f438e0541",
   "metadata": {},
   "outputs": [
    {
     "name": "stdout",
     "output_type": "stream",
     "text": [
      "<class 'pandas.core.frame.DataFrame'>\n",
      "RangeIndex: 6681 entries, 0 to 6680\n",
      "Data columns (total 8 columns):\n",
      " #   Column                Non-Null Count  Dtype \n",
      "---  ------                --------------  ----- \n",
      " 0   ID                    5846 non-null   object\n",
      " 1   MEDIDA                5845 non-null   object\n",
      " 2   DESCRIÇÃO DA MEDIDA   5845 non-null   object\n",
      " 3   RESPOSTA DAS MEDIDAS  5842 non-null   object\n",
      " 4   NIVEL_CONTROLE        6665 non-null   object\n",
      " 5   Nome da Origem.1      6681 non-null   object\n",
      " 6   Nome da Origem.2      6681 non-null   object\n",
      " 7   Ciclo_Entrega         6681 non-null   object\n",
      "dtypes: object(8)\n",
      "memory usage: 417.7+ KB\n"
     ]
    }
   ],
   "source": [
    "df_form2_2.info()"
   ]
  },
  {
   "cell_type": "code",
   "execution_count": 11,
   "id": "6fc389e4-066d-4000-b874-1dfc13ad3ad9",
   "metadata": {},
   "outputs": [],
   "source": [
    "df_form2_2 = df_form2_2.dropna()\n",
    "df_form2_2 = df_form2_2[df_form2_2['ID'].notna()]\n",
    "df_form2_2 = df_form2_2.reset_index(drop=True)"
   ]
  },
  {
   "cell_type": "code",
   "execution_count": 12,
   "id": "ccf25886-f079-4ea5-98e1-3e16e932b2f7",
   "metadata": {},
   "outputs": [],
   "source": [
    "# Função para extrair o número do ciclo (C1 → 1, C4 → 4)\n",
    "#def extrair_numero_ciclo(ciclo):\n",
    "#    match = re.search(r'C(\\d+)', str(ciclo))\n",
    "#    return int(match.group(1)) if match else None\n",
    "\n",
    "# Aplica a extração no DataFrame consolidado\n",
    "#df_form2_2['numero_ciclo'] = df_form2_2['maior_ciclo'].apply(extrair_numero_ciclo)\n",
    "\n",
    "# Agrupa por órgão (ajuste o nome da coluna conforme seu caso real)\n",
    "#df_maior_ciclo_por_orgao = df_form2_2.loc[\n",
    "#    df_form2_2.groupby('Nome da Origem.1')['numero_ciclo'].idxmax()\n",
    "#][['Nome da Origem.1', 'maior_ciclo']].rename(columns={'maior_ciclo': 'maior_ciclo_por_orgao'})\n",
    "\n",
    "# Junta de volta ao DataFrame consolidado, se quiser\n",
    "#df_form2_2 = df_form2_2.merge(df_maior_ciclo_por_orgao, on='Nome da Origem.1', how='left')\n"
   ]
  },
  {
   "cell_type": "code",
   "execution_count": 13,
   "id": "029ca180-6428-4d2a-8404-121f53ae5feb",
   "metadata": {},
   "outputs": [],
   "source": [
    "#df_form2_2.rename(columns={'maior_ciclo_por_orgao': 'Ciclo de Entrega2'}, inplace=True)\n",
    "#df_form2_2['Mais_Recente'] = np.where(df_form2_2['Ciclo de Entrega'] == df_form2_2['Ciclo de Entrega2'], 'Sim', 'Não')\n",
    "#df_form2_2['Mais_Recente_2'] = df_form2_2['Ciclo de Entrega'].astype(str) + df_form2_2['Ciclo de Entrega2'].astype(str)\n",
    "#df_form2_2.drop(columns=['maior_ciclo', 'ciclo_num', 'numero_ciclo'], inplace=True)"
   ]
  },
  {
   "cell_type": "code",
   "execution_count": 14,
   "id": "c4327fb5-f61e-40f9-b365-303a4b198ba2",
   "metadata": {},
   "outputs": [
    {
     "data": {
      "text/html": [
       "<div>\n",
       "<style scoped>\n",
       "    .dataframe tbody tr th:only-of-type {\n",
       "        vertical-align: middle;\n",
       "    }\n",
       "\n",
       "    .dataframe tbody tr th {\n",
       "        vertical-align: top;\n",
       "    }\n",
       "\n",
       "    .dataframe thead th {\n",
       "        text-align: right;\n",
       "    }\n",
       "</style>\n",
       "<table border=\"1\" class=\"dataframe\">\n",
       "  <thead>\n",
       "    <tr style=\"text-align: right;\">\n",
       "      <th></th>\n",
       "      <th>ID</th>\n",
       "      <th>MEDIDA</th>\n",
       "      <th>DESCRIÇÃO DA MEDIDA</th>\n",
       "      <th>RESPOSTA DAS MEDIDAS</th>\n",
       "      <th>NIVEL_CONTROLE</th>\n",
       "      <th>Nome da Origem.1</th>\n",
       "      <th>Nome da Origem.2</th>\n",
       "      <th>Ciclo_Entrega</th>\n",
       "    </tr>\n",
       "  </thead>\n",
       "  <tbody>\n",
       "    <tr>\n",
       "      <th>0</th>\n",
       "      <td>0.1</td>\n",
       "      <td>O órgão nomeou uma autoridade máxima de Tecnol...</td>\n",
       "      <td>A autoridade máxima de Tecnologia da Informaçã...</td>\n",
       "      <td>Sim</td>\n",
       "      <td>5</td>\n",
       "      <td>ABIN</td>\n",
       "      <td>C1-ABIN-Ferramenta_frameworkpsi_pt-3-basica-se...</td>\n",
       "      <td>C1</td>\n",
       "    </tr>\n",
       "    <tr>\n",
       "      <th>1</th>\n",
       "      <td>0.2</td>\n",
       "      <td>O órgão nomeou um Gestor de Segurança da Infor...</td>\n",
       "      <td>O Gestor de Segurança da Informação é responsá...</td>\n",
       "      <td>Sim</td>\n",
       "      <td>5</td>\n",
       "      <td>ABIN</td>\n",
       "      <td>C1-ABIN-Ferramenta_frameworkpsi_pt-3-basica-se...</td>\n",
       "      <td>C1</td>\n",
       "    </tr>\n",
       "    <tr>\n",
       "      <th>2</th>\n",
       "      <td>0.3</td>\n",
       "      <td>O órgão nomeou um responsável pela unidade de ...</td>\n",
       "      <td>O responsável pela unidade de controle interno...</td>\n",
       "      <td>Sim</td>\n",
       "      <td>5</td>\n",
       "      <td>ABIN</td>\n",
       "      <td>C1-ABIN-Ferramenta_frameworkpsi_pt-3-basica-se...</td>\n",
       "      <td>C1</td>\n",
       "    </tr>\n",
       "    <tr>\n",
       "      <th>3</th>\n",
       "      <td>0.4</td>\n",
       "      <td>O órgão instituiu um Comitê de Segurança da In...</td>\n",
       "      <td>Instituir um Comitê de Segurança da Informação...</td>\n",
       "      <td>Sim</td>\n",
       "      <td>5</td>\n",
       "      <td>ABIN</td>\n",
       "      <td>C1-ABIN-Ferramenta_frameworkpsi_pt-3-basica-se...</td>\n",
       "      <td>C1</td>\n",
       "    </tr>\n",
       "    <tr>\n",
       "      <th>4</th>\n",
       "      <td>0.5</td>\n",
       "      <td>O órgão instituiu uma Equipe de Tratamento e R...</td>\n",
       "      <td>Instituir e implementar Equipe de Tratamento e...</td>\n",
       "      <td>Sim</td>\n",
       "      <td>5</td>\n",
       "      <td>ABIN</td>\n",
       "      <td>C1-ABIN-Ferramenta_frameworkpsi_pt-3-basica-se...</td>\n",
       "      <td>C1</td>\n",
       "    </tr>\n",
       "  </tbody>\n",
       "</table>\n",
       "</div>"
      ],
      "text/plain": [
       "    ID                                             MEDIDA  \\\n",
       "0  0.1  O órgão nomeou uma autoridade máxima de Tecnol...   \n",
       "1  0.2  O órgão nomeou um Gestor de Segurança da Infor...   \n",
       "2  0.3  O órgão nomeou um responsável pela unidade de ...   \n",
       "3  0.4  O órgão instituiu um Comitê de Segurança da In...   \n",
       "4  0.5  O órgão instituiu uma Equipe de Tratamento e R...   \n",
       "\n",
       "                                 DESCRIÇÃO DA MEDIDA RESPOSTA DAS MEDIDAS  \\\n",
       "0  A autoridade máxima de Tecnologia da Informaçã...                  Sim   \n",
       "1  O Gestor de Segurança da Informação é responsá...                  Sim   \n",
       "2  O responsável pela unidade de controle interno...                  Sim   \n",
       "3  Instituir um Comitê de Segurança da Informação...                  Sim   \n",
       "4  Instituir e implementar Equipe de Tratamento e...                  Sim   \n",
       "\n",
       "  NIVEL_CONTROLE Nome da Origem.1  \\\n",
       "0              5             ABIN   \n",
       "1              5             ABIN   \n",
       "2              5             ABIN   \n",
       "3              5             ABIN   \n",
       "4              5             ABIN   \n",
       "\n",
       "                                    Nome da Origem.2 Ciclo_Entrega  \n",
       "0  C1-ABIN-Ferramenta_frameworkpsi_pt-3-basica-se...            C1  \n",
       "1  C1-ABIN-Ferramenta_frameworkpsi_pt-3-basica-se...            C1  \n",
       "2  C1-ABIN-Ferramenta_frameworkpsi_pt-3-basica-se...            C1  \n",
       "3  C1-ABIN-Ferramenta_frameworkpsi_pt-3-basica-se...            C1  \n",
       "4  C1-ABIN-Ferramenta_frameworkpsi_pt-3-basica-se...            C1  "
      ]
     },
     "execution_count": 14,
     "metadata": {},
     "output_type": "execute_result"
    }
   ],
   "source": [
    "df_form2_2.head()"
   ]
  },
  {
   "cell_type": "code",
   "execution_count": 15,
   "id": "0e3ccebc-2c71-48e6-b228-8a3201e39000",
   "metadata": {},
   "outputs": [
    {
     "name": "stdout",
     "output_type": "stream",
     "text": [
      "<class 'pandas.core.frame.DataFrame'>\n",
      "RangeIndex: 5828 entries, 0 to 5827\n",
      "Data columns (total 8 columns):\n",
      " #   Column                Non-Null Count  Dtype \n",
      "---  ------                --------------  ----- \n",
      " 0   ID                    5828 non-null   object\n",
      " 1   MEDIDA                5828 non-null   object\n",
      " 2   DESCRIÇÃO DA MEDIDA   5828 non-null   object\n",
      " 3   RESPOSTA DAS MEDIDAS  5828 non-null   object\n",
      " 4   NIVEL_CONTROLE        5828 non-null   object\n",
      " 5   Nome da Origem.1      5828 non-null   object\n",
      " 6   Nome da Origem.2      5828 non-null   object\n",
      " 7   Ciclo_Entrega         5828 non-null   object\n",
      "dtypes: object(8)\n",
      "memory usage: 364.4+ KB\n"
     ]
    }
   ],
   "source": [
    "df_form2_2.info()"
   ]
  },
  {
   "cell_type": "code",
   "execution_count": null,
   "id": "2b155c7d-e473-4c03-92f1-9d648f66e9e7",
   "metadata": {},
   "outputs": [],
   "source": []
  },
  {
   "cell_type": "code",
   "execution_count": null,
   "id": "175dad96-9751-417c-a7dc-e4c345f2a7c5",
   "metadata": {},
   "outputs": [],
   "source": []
  },
  {
   "cell_type": "code",
   "execution_count": 16,
   "id": "6749454b-4785-48d0-a5e7-b0607e2de196",
   "metadata": {},
   "outputs": [],
   "source": [
    "# Garante a ordem dos ciclos\n",
    "#df_form2_2['Ciclo de Entrega'] = pd.Categorical(\n",
    "#    df_form2_2['Ciclo de Entrega'], \n",
    "#    categories=['C1', 'C2', 'C3', 'C4'], \n",
    "#    ordered=True\n",
    "#)"
   ]
  },
  {
   "cell_type": "code",
   "execution_count": 17,
   "id": "07b46633-3b09-4c14-aaac-3ef81986733c",
   "metadata": {},
   "outputs": [],
   "source": [
    "#ciclos = ['C1', 'C2', 'C3', 'C4']"
   ]
  },
  {
   "cell_type": "code",
   "execution_count": 18,
   "id": "c7b1f2db-2ac4-4c66-bc24-44064b9497d5",
   "metadata": {},
   "outputs": [],
   "source": [
    "# Etapa 1: ordena os ciclos corretamente\n",
    "#ciclos_ordenados = sorted(\n",
    "#    df_form2_2['Ciclo de Entrega'].dropna().unique(), \n",
    "#    key=lambda x: int(x[1:]) if str(x)[1:].isdigit() else 0\n",
    "#)\n",
    "\n",
    "#df_resultado = pd.DataFrame()\n",
    "\n",
    "# Etapa 2: itera sobre cada ciclo de entrega\n",
    "#for i, ciclo in enumerate(ciclos_ordenados):\n",
    "    # Ciclos válidos até o atual\n",
    "#    ciclos_ate_ciclo = ciclos_ordenados[:i+1]\n",
    "\n",
    "    # Filtra linhas até o ciclo atual e que são marcadas como mais recentes\n",
    "#    df_filtrado = df_form2_2[\n",
    "#        (df_form2_2['Ciclo de Entrega'].isin(ciclos_ate_ciclo)) &\n",
    "#        (df_form2_2['Mais_Recente'] == 'Sim')\n",
    "#    ].copy()\n",
    "\n",
    "    # Adiciona o contexto do ciclo\n",
    "#    df_filtrado['Ciclo_Contexto'] = ciclo\n",
    "\n",
    "    # Concatena ao resultado\n",
    "#    df_resultado = pd.concat([df_resultado, df_filtrado], ignore_index=True)\n",
    "\n",
    "# Etapa 3: Exporta para Excel sem tipos problemáticos\n",
    "# Remove colunas que possam gerar erro no Excel (ex: listas, objetos complexos)\n",
    "#for col in df_resultado.columns:\n",
    "#    if df_resultado[col].apply(lambda x: isinstance(x, (list, dict))).any():\n",
    "#        df_resultado[col] = df_resultado[col].astype(str)\n",
    "\n",
    "# Salvar para Excel (opcional)\n",
    "# df_resultado.to_excel(\"resultado_ciclos.xlsx\", index=False)\n",
    "\n",
    "# Exibe algumas linhas como verificação\n",
    "#df_resultado.head()"
   ]
  },
  {
   "cell_type": "code",
   "execution_count": 19,
   "id": "f472583d-1fd5-4dc6-94ce-ff2788c7e847",
   "metadata": {},
   "outputs": [],
   "source": [
    "df_consolidado = df_form2_2"
   ]
  },
  {
   "cell_type": "code",
   "execution_count": 20,
   "id": "d7c33b47-3bbe-4634-a1e1-89e8a2e3e19d",
   "metadata": {},
   "outputs": [],
   "source": [
    "df_consolidado['Ciclo_Entrega'] = df_consolidado['Ciclo_Entrega'].astype(str).str.strip().str.upper()\n",
    "\n",
    "# Filtrar somente ciclos válidos que seguem o padrão \"C\" seguido de número\n",
    "ciclos_ordenados = sorted(\n",
    "    [c for c in df_consolidado['Ciclo_Entrega'].unique() if c.startswith('C') and c[1:].isdigit()],\n",
    "    key=lambda x: int(x[1:])\n",
    ")\n",
    "\n",
    "df_resultado = pd.DataFrame()\n",
    "chave = ['Nome da Origem.1', 'ID']\n",
    "\n",
    "for i, ciclo in enumerate(ciclos_ordenados):\n",
    "    ciclos_ate_agora = ciclos_ordenados[:i+1]\n",
    "\n",
    "    df_filtrado = df_consolidado[df_consolidado['Ciclo_Entrega'].isin(ciclos_ate_agora)].copy()\n",
    "\n",
    "    # Mapeia a ordem dos ciclos dinamicamente\n",
    "    ordem_map = {c: idx for idx, c in enumerate(ciclos_ate_agora)}\n",
    "    df_filtrado['ordem_ciclo'] = df_filtrado['Ciclo_Entrega'].map(ordem_map)\n",
    "\n",
    "    # Ordena para pegar o mais recente por grupo\n",
    "    df_filtrado = (\n",
    "        df_filtrado\n",
    "        .sort_values(chave + ['ordem_ciclo'], ascending=[True]*len(chave) + [False])\n",
    "        .drop_duplicates(subset=chave, keep='first')\n",
    "    )\n",
    "\n",
    "    df_filtrado['Ciclo_Contexto'] = ciclo\n",
    "    df_resultado = pd.concat([df_resultado, df_filtrado.drop(columns='ordem_ciclo')], ignore_index=True)\n",
    "\n"
   ]
  },
  {
   "cell_type": "code",
   "execution_count": 21,
   "id": "80f668c3-a233-457d-9086-1d6770f610ab",
   "metadata": {},
   "outputs": [
    {
     "name": "stdout",
     "output_type": "stream",
     "text": [
      "<class 'pandas.core.frame.DataFrame'>\n",
      "RangeIndex: 7102 entries, 0 to 7101\n",
      "Data columns (total 9 columns):\n",
      " #   Column                Non-Null Count  Dtype \n",
      "---  ------                --------------  ----- \n",
      " 0   ID                    7102 non-null   object\n",
      " 1   MEDIDA                7102 non-null   object\n",
      " 2   DESCRIÇÃO DA MEDIDA   7102 non-null   object\n",
      " 3   RESPOSTA DAS MEDIDAS  7102 non-null   object\n",
      " 4   NIVEL_CONTROLE        7102 non-null   object\n",
      " 5   Nome da Origem.1      7102 non-null   object\n",
      " 6   Nome da Origem.2      7102 non-null   object\n",
      " 7   Ciclo_Entrega         7102 non-null   object\n",
      " 8   Ciclo_Contexto        7102 non-null   object\n",
      "dtypes: object(9)\n",
      "memory usage: 499.5+ KB\n"
     ]
    }
   ],
   "source": [
    "df_resultado.info()"
   ]
  },
  {
   "cell_type": "code",
   "execution_count": 22,
   "id": "3ddf15ca-c24f-42c3-806c-49e8e74f26a9",
   "metadata": {},
   "outputs": [
    {
     "data": {
      "text/html": [
       "<div>\n",
       "<style scoped>\n",
       "    .dataframe tbody tr th:only-of-type {\n",
       "        vertical-align: middle;\n",
       "    }\n",
       "\n",
       "    .dataframe tbody tr th {\n",
       "        vertical-align: top;\n",
       "    }\n",
       "\n",
       "    .dataframe thead th {\n",
       "        text-align: right;\n",
       "    }\n",
       "</style>\n",
       "<table border=\"1\" class=\"dataframe\">\n",
       "  <thead>\n",
       "    <tr style=\"text-align: right;\">\n",
       "      <th></th>\n",
       "      <th>ID</th>\n",
       "      <th>MEDIDA</th>\n",
       "      <th>DESCRIÇÃO DA MEDIDA</th>\n",
       "      <th>RESPOSTA DAS MEDIDAS</th>\n",
       "      <th>NIVEL_CONTROLE</th>\n",
       "      <th>Nome da Origem.1</th>\n",
       "      <th>Nome da Origem.2</th>\n",
       "      <th>Ciclo_Entrega</th>\n",
       "      <th>Ciclo_Contexto</th>\n",
       "    </tr>\n",
       "  </thead>\n",
       "  <tbody>\n",
       "    <tr>\n",
       "      <th>0</th>\n",
       "      <td>0.1</td>\n",
       "      <td>O órgão nomeou uma autoridade máxima de Tecnol...</td>\n",
       "      <td>A autoridade máxima de Tecnologia da Informaçã...</td>\n",
       "      <td>Sim</td>\n",
       "      <td>5</td>\n",
       "      <td>ABIN</td>\n",
       "      <td>C1-ABIN-Ferramenta_frameworkpsi_pt-3-basica-se...</td>\n",
       "      <td>C1</td>\n",
       "      <td>C1</td>\n",
       "    </tr>\n",
       "    <tr>\n",
       "      <th>1</th>\n",
       "      <td>0.2</td>\n",
       "      <td>O órgão nomeou um Gestor de Segurança da Infor...</td>\n",
       "      <td>O Gestor de Segurança da Informação é responsá...</td>\n",
       "      <td>Sim</td>\n",
       "      <td>5</td>\n",
       "      <td>ABIN</td>\n",
       "      <td>C1-ABIN-Ferramenta_frameworkpsi_pt-3-basica-se...</td>\n",
       "      <td>C1</td>\n",
       "      <td>C1</td>\n",
       "    </tr>\n",
       "    <tr>\n",
       "      <th>2</th>\n",
       "      <td>0.3</td>\n",
       "      <td>O órgão nomeou um responsável pela unidade de ...</td>\n",
       "      <td>O responsável pela unidade de controle interno...</td>\n",
       "      <td>Sim</td>\n",
       "      <td>5</td>\n",
       "      <td>ABIN</td>\n",
       "      <td>C1-ABIN-Ferramenta_frameworkpsi_pt-3-basica-se...</td>\n",
       "      <td>C1</td>\n",
       "      <td>C1</td>\n",
       "    </tr>\n",
       "    <tr>\n",
       "      <th>3</th>\n",
       "      <td>0.4</td>\n",
       "      <td>O órgão instituiu um Comitê de Segurança da In...</td>\n",
       "      <td>Instituir um Comitê de Segurança da Informação...</td>\n",
       "      <td>Sim</td>\n",
       "      <td>5</td>\n",
       "      <td>ABIN</td>\n",
       "      <td>C1-ABIN-Ferramenta_frameworkpsi_pt-3-basica-se...</td>\n",
       "      <td>C1</td>\n",
       "      <td>C1</td>\n",
       "    </tr>\n",
       "    <tr>\n",
       "      <th>4</th>\n",
       "      <td>0.5</td>\n",
       "      <td>O órgão instituiu uma Equipe de Tratamento e R...</td>\n",
       "      <td>Instituir e implementar Equipe de Tratamento e...</td>\n",
       "      <td>Sim</td>\n",
       "      <td>5</td>\n",
       "      <td>ABIN</td>\n",
       "      <td>C1-ABIN-Ferramenta_frameworkpsi_pt-3-basica-se...</td>\n",
       "      <td>C1</td>\n",
       "      <td>C1</td>\n",
       "    </tr>\n",
       "  </tbody>\n",
       "</table>\n",
       "</div>"
      ],
      "text/plain": [
       "    ID                                             MEDIDA  \\\n",
       "0  0.1  O órgão nomeou uma autoridade máxima de Tecnol...   \n",
       "1  0.2  O órgão nomeou um Gestor de Segurança da Infor...   \n",
       "2  0.3  O órgão nomeou um responsável pela unidade de ...   \n",
       "3  0.4  O órgão instituiu um Comitê de Segurança da In...   \n",
       "4  0.5  O órgão instituiu uma Equipe de Tratamento e R...   \n",
       "\n",
       "                                 DESCRIÇÃO DA MEDIDA RESPOSTA DAS MEDIDAS  \\\n",
       "0  A autoridade máxima de Tecnologia da Informaçã...                  Sim   \n",
       "1  O Gestor de Segurança da Informação é responsá...                  Sim   \n",
       "2  O responsável pela unidade de controle interno...                  Sim   \n",
       "3  Instituir um Comitê de Segurança da Informação...                  Sim   \n",
       "4  Instituir e implementar Equipe de Tratamento e...                  Sim   \n",
       "\n",
       "  NIVEL_CONTROLE Nome da Origem.1  \\\n",
       "0              5             ABIN   \n",
       "1              5             ABIN   \n",
       "2              5             ABIN   \n",
       "3              5             ABIN   \n",
       "4              5             ABIN   \n",
       "\n",
       "                                    Nome da Origem.2 Ciclo_Entrega  \\\n",
       "0  C1-ABIN-Ferramenta_frameworkpsi_pt-3-basica-se...            C1   \n",
       "1  C1-ABIN-Ferramenta_frameworkpsi_pt-3-basica-se...            C1   \n",
       "2  C1-ABIN-Ferramenta_frameworkpsi_pt-3-basica-se...            C1   \n",
       "3  C1-ABIN-Ferramenta_frameworkpsi_pt-3-basica-se...            C1   \n",
       "4  C1-ABIN-Ferramenta_frameworkpsi_pt-3-basica-se...            C1   \n",
       "\n",
       "  Ciclo_Contexto  \n",
       "0             C1  \n",
       "1             C1  \n",
       "2             C1  \n",
       "3             C1  \n",
       "4             C1  "
      ]
     },
     "execution_count": 22,
     "metadata": {},
     "output_type": "execute_result"
    }
   ],
   "source": [
    "df_resultado.head()"
   ]
  },
  {
   "cell_type": "code",
   "execution_count": null,
   "id": "c15c4e20-a6ce-4cce-8fab-84354c25bf30",
   "metadata": {},
   "outputs": [],
   "source": []
  },
  {
   "cell_type": "code",
   "execution_count": 23,
   "id": "a1e5168d-a11d-438a-8388-c45e0b76f61b",
   "metadata": {},
   "outputs": [],
   "source": [
    "# Substitui \"C1\" por \"Ciclo 1\", \"C2\" por \"Ciclo 2\", etc.\n",
    "df_form2_2['Ciclo_Entrega'] = df_form2_2['Ciclo_Entrega'].str.extract(r'(\\d+)')[0].astype(int).apply(lambda x: f'Ciclo {x}')"
   ]
  },
  {
   "cell_type": "code",
   "execution_count": 24,
   "id": "41ee2574-4ece-45b2-8127-34894b76ed9d",
   "metadata": {},
   "outputs": [],
   "source": [
    "# Salva em Excel\n",
    "df_form2_2.to_excel(r\"C:\\Users\\MGI\\OneDrive - mtegovbr\\COMAT\\FONTE_PAINEL\\FORM2_2-Estrutura_C.xlsx\", sheet_name = \"FORM2_2-Estrutura_C\", index=False)"
   ]
  },
  {
   "cell_type": "code",
   "execution_count": null,
   "id": "7ef22203-a0c0-4f53-99a9-3c70bb0de3a6",
   "metadata": {},
   "outputs": [],
   "source": []
  },
  {
   "cell_type": "code",
   "execution_count": 25,
   "id": "9c5d10b4-23d1-4842-b2fa-cbfb5eda3782",
   "metadata": {},
   "outputs": [],
   "source": [
    "# Substitui \"C1\" por \"Ciclo 1\", \"C2\" por \"Ciclo 2\", etc.\n",
    "df_resultado['Ciclo_Entrega'] = df_resultado['Ciclo_Entrega'].str.extract(r'(\\d+)')[0].astype(int).apply(lambda x: f'Ciclo {x}')\n",
    "df_resultado['Ciclo_Contexto'] = df_resultado['Ciclo_Contexto'].str.extract(r'(\\d+)')[0].astype(int).apply(lambda x: f'Ciclo {x}')"
   ]
  },
  {
   "cell_type": "code",
   "execution_count": null,
   "id": "2f952acf-79aa-4175-95a8-8c571b7f1f3a",
   "metadata": {},
   "outputs": [],
   "source": []
  },
  {
   "cell_type": "code",
   "execution_count": 26,
   "id": "a313d21f-e04a-410c-820a-da5926ae1b25",
   "metadata": {},
   "outputs": [],
   "source": [
    "## 1. Converte colunas numéricas com vírgula decimal\n",
    "#for col in df_resultado.select_dtypes(include=['float', 'int']).columns:\n",
    "#    df_resultado[col] = df_resultado[col].map(lambda x: f\"{x:,.2f}\".replace('.', ',') if pd.notnull(x) else x)"
   ]
  },
  {
   "cell_type": "code",
   "execution_count": 27,
   "id": "6c1e66f1-40dd-4628-bb98-09b6210b88cb",
   "metadata": {},
   "outputs": [],
   "source": [
    "# Salva em Excel\n",
    "df_resultado.to_excel(r\"C:\\Users\\MGI\\OneDrive - mtegovbr\\COMAT\\FONTE_PAINEL\\FORM2_2-Estrutura_Recente.xlsx\", sheet_name = \"FORM2_2-Estrutura_Recente\", index=False)"
   ]
  },
  {
   "cell_type": "code",
   "execution_count": 28,
   "id": "ce7a269e-9aa0-4d72-8de6-6916e6bb3c49",
   "metadata": {},
   "outputs": [],
   "source": [
    "# Salvando o DataFrame em CSV com o separador correto e garantindo que o ID seja tratado como texto\n",
    "#df_resultado.to_csv(r\"C:\\Users\\MGI\\OneDrive - mtegovbr\\COMAT\\FONTE_PAINEL\\FORM2_2-Estrutura_Recente.csv\",\n",
    "#    sep=';',  # Usando ponto e vírgula como separador (dependendo da configuração regional)\n",
    "#    index=False,  # Não incluir o índice\n",
    "#    encoding='utf-8-sig',  # Codificação para garantir compatibilidade com o Excel\n",
    "#    float_format=\"%.2f\",  # Formato de números com 2 casas decimais\n",
    "#    quotechar='\"',  # Envolver os campos em aspas para garantir que os valores não sejam alterados\n",
    "#    quoting=1  # Forçar o uso de aspas\n",
    "#)"
   ]
  },
  {
   "cell_type": "code",
   "execution_count": 29,
   "id": "6c3616f8-b71d-43bf-a2f4-5dc5d6aa13cf",
   "metadata": {},
   "outputs": [
    {
     "name": "stdout",
     "output_type": "stream",
     "text": [
      "2025-05-21 09:32:06.946433\n",
      "2025-05-21 09:51:00.330181\n",
      "0:18:53.383748\n"
     ]
    }
   ],
   "source": [
    "dh_termino = datetime.today()\n",
    "duracao = dh_termino - dh_inicio\n",
    "print(dh_inicio)\n",
    "print(dh_termino)\n",
    "print(duracao)"
   ]
  },
  {
   "cell_type": "code",
   "execution_count": 30,
   "id": "bebde70b-9403-4272-b214-0de453b73f0b",
   "metadata": {},
   "outputs": [
    {
     "name": "stdout",
     "output_type": "stream",
     "text": [
      "ID: 0 vazios\n",
      "MEDIDA: 0 vazios\n",
      "DESCRIÇÃO DA MEDIDA: 0 vazios\n",
      "RESPOSTA DAS MEDIDAS: 0 vazios\n",
      "NIVEL_CONTROLE: 0 vazios\n",
      "Nome da Origem.1: 0 vazios\n",
      "Nome da Origem.2: 0 vazios\n",
      "Ciclo_Entrega: 0 vazios\n"
     ]
    }
   ],
   "source": [
    "colunas1 = [\n",
    "            'ID', 'MEDIDA', 'DESCRIÇÃO DA MEDIDA', 'RESPOSTA DAS MEDIDAS', 'NIVEL_CONTROLE', 'Nome da Origem.1',\n",
    "            'Nome da Origem.2','Ciclo_Entrega'\n",
    "            ]\n",
    "df = df_resultado\n",
    "for col in colunas1:\n",
    "    if col in df.columns:\n",
    "        vazios = df[col].isnull().sum() + (df[col].astype(str).str.strip() == '').sum()\n",
    "        print(f\"{col}: {vazios} vazios\")\n",
    "    else:\n",
    "        print(f\"Coluna '{col}' não encontrada\")"
   ]
  }
 ],
 "metadata": {
  "kernelspec": {
   "display_name": "Python [conda env:base] *",
   "language": "python",
   "name": "conda-base-py"
  },
  "language_info": {
   "codemirror_mode": {
    "name": "ipython",
    "version": 3
   },
   "file_extension": ".py",
   "mimetype": "text/x-python",
   "name": "python",
   "nbconvert_exporter": "python",
   "pygments_lexer": "ipython3",
   "version": "3.12.7"
  }
 },
 "nbformat": 4,
 "nbformat_minor": 5
}
