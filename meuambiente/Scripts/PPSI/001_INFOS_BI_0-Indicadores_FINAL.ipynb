{
 "cells": [
  {
   "cell_type": "markdown",
   "id": "a8567e86-df74-4841-a6b2-363b22c8de5f",
   "metadata": {},
   "source": [
    "# !pip install -U openpyxl"
   ]
  },
  {
   "cell_type": "code",
   "execution_count": 1,
   "id": "56a0907e-f5be-4303-96a1-bc9b30d9f8e1",
   "metadata": {},
   "outputs": [],
   "source": [
    "import os\n",
    "import re\n",
    "import pandas as pd\n",
    "import numpy as np\n",
    "from datetime import date, datetime\n",
    "from openpyxl import load_workbook\n",
    "import warnings\n",
    "warnings.filterwarnings('ignore')\n",
    "from glob import glob"
   ]
  },
  {
   "cell_type": "code",
   "execution_count": 2,
   "id": "50498c40-c4a4-4104-9139-45d38d9b3c78",
   "metadata": {},
   "outputs": [],
   "source": [
    "dh_inicio = datetime.today()"
   ]
  },
  {
   "cell_type": "markdown",
   "id": "2010cf91-5f6f-47c5-9c04-9ad38f2c22b7",
   "metadata": {},
   "source": [
    "### CARGA DOS ARQUIVOS DOS CICLOS"
   ]
  },
  {
   "cell_type": "code",
   "execution_count": 3,
   "id": "33fb8487-7aa1-40b6-a742-cdd0beac1fa8",
   "metadata": {},
   "outputs": [
    {
     "name": "stdout",
     "output_type": "stream",
     "text": [
      "Lista de arquivos salva com sucesso!\n"
     ]
    }
   ],
   "source": [
    "# Caminho da pasta dos arquivos\n",
    "caminho_pasta = r\"C:\\Projetos\\PPSI\\BASE\\CICLOS-1-2-3-4\"\n",
    "\n",
    "# Lista os arquivos da pasta\n",
    "arquivos = os.listdir(caminho_pasta)\n",
    "\n",
    "# Filtra apenas arquivos (ignora subpastas)\n",
    "arquivos = [f for f in arquivos if os.path.isfile(os.path.join(caminho_pasta, f))]\n",
    "\n",
    "# Cria um DataFrame com os nomes\n",
    "df = pd.DataFrame(arquivos, columns=[\"nome_arquivo\"])\n",
    "\n",
    "# Salva em Excel\n",
    "#df.to_excel(r\"C:\\Users\\MGI\\Documents\\COMAT\\REFERENCIAS\\CICLOS-1-2-3\\CICLO_1_2_3_arquivos.xlsx\", index=False)\n",
    "\n",
    "print(\"Lista de arquivos salva com sucesso!\")\n"
   ]
  },
  {
   "cell_type": "code",
   "execution_count": 4,
   "id": "92bed9bf-9461-47e0-8957-0c9ff4e231ba",
   "metadata": {},
   "outputs": [
    {
     "name": "stdout",
     "output_type": "stream",
     "text": [
      "<class 'pandas.core.frame.DataFrame'>\n",
      "RangeIndex: 627 entries, 0 to 626\n",
      "Data columns (total 1 columns):\n",
      " #   Column        Non-Null Count  Dtype \n",
      "---  ------        --------------  ----- \n",
      " 0   nome_arquivo  627 non-null    object\n",
      "dtypes: object(1)\n",
      "memory usage: 5.0+ KB\n"
     ]
    }
   ],
   "source": [
    "df.info()"
   ]
  },
  {
   "cell_type": "markdown",
   "id": "54eb09e8-c48c-4eca-b006-a24126eafe19",
   "metadata": {},
   "source": [
    "### INFOS_BI_0-Indicadores"
   ]
  },
  {
   "cell_type": "code",
   "execution_count": 5,
   "id": "c4fdd263-af5d-48e7-8eb4-de355593c781",
   "metadata": {},
   "outputs": [
    {
     "name": "stdout",
     "output_type": "stream",
     "text": [
      "❌ Erro ao ler C1-UNILA-ferramenta_frameworkpsi_pt-2 (1).xlsm: Worksheet named 'INFOS_BI_0' not found\n",
      "\n",
      "📊 Resumo da execução:\n",
      "🗂️ Total de arquivos considerados: 627\n",
      "✅ Arquivos lidos com sucesso: 626\n",
      "❌ Arquivos com erro: 1\n",
      "📦 Total de arquivos únicos no consolidado (Nome da Origem.2): 626\n",
      "✅ ✅ Consolidação concluída com sucesso!\n"
     ]
    }
   ],
   "source": [
    "import os\n",
    "import pandas as pd\n",
    "import re\n",
    "\n",
    "aba_desejada = \"INFOS_BI_0\"\n",
    "\n",
    "# Lista para armazenar os DataFrames\n",
    "lista_df = []\n",
    "\n",
    "for arquivo in arquivos:\n",
    "    caminho_arquivo = os.path.join(caminho_pasta, arquivo)\n",
    "    \n",
    "    try:\n",
    "        df = pd.read_excel(caminho_arquivo, sheet_name=aba_desejada)\n",
    "\n",
    "        df = df.iloc[:3]   # apenas linhas de 0 a 3\n",
    "\n",
    "       \n",
    "      # Renomeia as colunas com base nas posições\n",
    "        novos_nomes = {\n",
    "            df.columns[0]: 'Tipo_Indicador',            \n",
    "            df.columns[1]: 'Valor_Indicador',\n",
    "            df.columns[2]: 'Nivel_Maturidade',  \n",
    "        }\n",
    "        df.rename(columns=novos_nomes, inplace=True)\n",
    "       \n",
    "        #df['arquivo_origem'] = os.path.basename(arquivo)\n",
    "        df['Nome da Origem.2'] = arquivo\n",
    "        df['Nome da Origem.1'] = df['Nome da Origem.2'].str.extract(r'-(.*?)-')\n",
    "        df['Ciclo_Entrega'] = df['Nome da Origem.2'].str[:2]\n",
    " \n",
    "        # Garantir que os valores são float (caso tenham vindo como string)\n",
    "        df['Valor_Indicador_num'] = pd.to_numeric(df['Valor_Indicador'], errors='coerce')\n",
    "\n",
    "        # Arredondar para duas casas decimais\n",
    "        df['Valor_Indicador_num'] = df['Valor_Indicador_num'].round(2)        \n",
    "              \n",
    "        df[\"Nivel_Maturidade\"] = pd.cut(\n",
    "        df[\"Valor_Indicador_num\"],\n",
    "        bins=[-0.01, 0.29, 0.49, 0.69, 0.89, 1.0],\n",
    "        labels=[\"1. Inicial\", \"2. Básico\", \"3. Intermediário\", \"4. Em Aprimoramento\", \"5. Aprimorado\"]\n",
    "        )\n",
    "\n",
    "        # Seleciona as colunas desejadas\n",
    "       \n",
    "        colunas = [\n",
    "            'Tipo_Indicador', 'Valor_Indicador', 'Nivel_Maturidade', 'Nome da Origem.1', \n",
    "            'Nome da Origem.2', 'Ciclo_Entrega'\n",
    "        ]      \n",
    "        df = df[colunas]\n",
    "       \n",
    "        lista_df.append(df)\n",
    "        #print(f\"✅ Leitura concluída com sucesso: {arquivo}\")\n",
    "    except Exception as e:\n",
    "        print(f\"❌ Erro ao ler {arquivo}: {e}\")\n",
    "\n",
    "# Consolida todos os DataFrames\n",
    "df_infos_bi_0 = pd.concat(lista_df, ignore_index=True)\n",
    "\n",
    "# Resumo da execução\n",
    "\n",
    "total_arquivos_consolidados = df_infos_bi_0['Nome da Origem.2'].nunique()\n",
    "total_arquivos = len(arquivos)\n",
    "sucesso = len(lista_df)\n",
    "erros = total_arquivos - sucesso\n",
    "\n",
    "print(\"\\n📊 Resumo da execução:\")\n",
    "print(f\"🗂️ Total de arquivos considerados: {total_arquivos}\")\n",
    "print(f\"✅ Arquivos lidos com sucesso: {sucesso}\")\n",
    "print(f\"❌ Arquivos com erro: {erros}\")\n",
    " \n",
    "print(f\"📦 Total de arquivos únicos no consolidado (Nome da Origem.2): {total_arquivos_consolidados}\")\n",
    "\n",
    "print(\"✅ ✅ Consolidação concluída com sucesso!\")"
   ]
  },
  {
   "cell_type": "code",
   "execution_count": 6,
   "id": "76a62dd7-40a3-49a1-801a-6055b943a77b",
   "metadata": {},
   "outputs": [
    {
     "name": "stdout",
     "output_type": "stream",
     "text": [
      "Tipo_Indicador: 0 vazios\n",
      "Valor_Indicador: 0 vazios\n",
      "Nivel_Maturidade: 29 vazios\n",
      "Nome da Origem.1: 0 vazios\n",
      "Nome da Origem.2: 0 vazios\n",
      "Ciclo_Entrega: 0 vazios\n"
     ]
    }
   ],
   "source": [
    "colunas1 = [\n",
    "            'Tipo_Indicador', 'Valor_Indicador', 'Nivel_Maturidade', 'Nome da Origem.1', \n",
    "            'Nome da Origem.2', 'Ciclo_Entrega'\n",
    "        ] \n",
    "        \n",
    "df = df_infos_bi_0\n",
    "for col in colunas1:\n",
    "    if col in df.columns:\n",
    "        vazios = df[col].isnull().sum() + (df[col].astype(str).str.strip() == '').sum()\n",
    "        print(f\"{col}: {vazios} vazios\")\n",
    "    else:\n",
    "        print(f\"Coluna '{col}' não encontrada\")"
   ]
  },
  {
   "cell_type": "code",
   "execution_count": 7,
   "id": "16a1cc7e-78ee-4f45-b679-bc45e6b71915",
   "metadata": {},
   "outputs": [
    {
     "name": "stdout",
     "output_type": "stream",
     "text": [
      "<class 'pandas.core.frame.DataFrame'>\n",
      "RangeIndex: 1252 entries, 0 to 1251\n",
      "Data columns (total 6 columns):\n",
      " #   Column            Non-Null Count  Dtype   \n",
      "---  ------            --------------  -----   \n",
      " 0   Tipo_Indicador    1252 non-null   object  \n",
      " 1   Valor_Indicador   1252 non-null   object  \n",
      " 2   Nivel_Maturidade  1223 non-null   category\n",
      " 3   Nome da Origem.1  1252 non-null   object  \n",
      " 4   Nome da Origem.2  1252 non-null   object  \n",
      " 5   Ciclo_Entrega     1252 non-null   object  \n",
      "dtypes: category(1), object(5)\n",
      "memory usage: 50.5+ KB\n"
     ]
    }
   ],
   "source": [
    "df_infos_bi_0.info()"
   ]
  },
  {
   "cell_type": "code",
   "execution_count": 8,
   "id": "8c866082-2e24-4ce2-ba44-cd69117c8da8",
   "metadata": {},
   "outputs": [],
   "source": [
    "#df_consolidado['ID CONTROLE'] = df_consolidado['ID CONTROLE'].astype('object')"
   ]
  },
  {
   "cell_type": "code",
   "execution_count": 9,
   "id": "f65d3c9c-232d-443f-965b-aa613d8dde30",
   "metadata": {},
   "outputs": [],
   "source": [
    "#df_consolidado['Valor_Indicador'] = pd.to_numeric(df_consolidado['Valor_Indicador'], errors='coerce').round(2)"
   ]
  },
  {
   "cell_type": "code",
   "execution_count": 10,
   "id": "e40043ac-1732-4f87-b41f-baab20ba7e18",
   "metadata": {},
   "outputs": [],
   "source": [
    "# Função para extrair o número do ciclo (C1 → 1, C4 → 4)\n",
    "#def extrair_numero_ciclo(ciclo):\n",
    "#    match = re.search(r'C(\\d+)', str(ciclo))\n",
    "#    return int(match.group(1)) if match else None\n",
    "\n",
    "# Aplica a extração no DataFrame consolidado\n",
    "#df_consolidado['numero_ciclo'] = df_consolidado['maior_ciclo'].apply(extrair_numero_ciclo)\n",
    "\n",
    "# Agrupa por órgão (ajuste o nome da coluna conforme seu caso real)\n",
    "#df_maior_ciclo_por_orgao = df_consolidado.loc[#\n",
    "#    df_consolidado.groupby('Nome da Origem.1')['numero_ciclo'].idxmax()\n",
    "#][['Nome da Origem.1', 'maior_ciclo']].rename(columns={'maior_ciclo': 'maior_ciclo_por_orgao'})\n",
    "\n",
    "# Junta de volta ao DataFrame consolidado, se quiser\n",
    "#df_consolidado = df_consolidado.merge(df_maior_ciclo_por_orgao, on='Nome da Origem.1', how='left')\n"
   ]
  },
  {
   "cell_type": "code",
   "execution_count": 11,
   "id": "ad2081a3-bf14-4e0a-ad25-714d4c4a8599",
   "metadata": {},
   "outputs": [],
   "source": [
    "# Seleciona as colunas desejadas\n",
    "#colunas = [\n",
    "#    'Nome da Origem.1', 'Nome da Origem.2', 'Ciclo_Entrega', \n",
    "#    'ID CONTROLE', 'NOME CONTROLE', 'Valor_Indicador_Controle', 'Nivel_Maturidade_Controle'\n",
    "#]\n",
    "#df_consolidado = df_consolidado[colunas]"
   ]
  },
  {
   "cell_type": "code",
   "execution_count": 12,
   "id": "59c7565a-bd2d-4697-b028-17f8b1080935",
   "metadata": {},
   "outputs": [],
   "source": [
    "#df_consolidado['Valor_Indicador_Controle_Priv'] = df_consolidado['Valor_Indicador_Controle_Priv'].astype(float)"
   ]
  },
  {
   "cell_type": "code",
   "execution_count": 13,
   "id": "6426ba03-0c87-40fc-b78a-76df7416f2af",
   "metadata": {},
   "outputs": [],
   "source": [
    "# Seleciona as colunas desejadas\n",
    "#colunas = [\n",
    "#    'Nome da Origem.1', 'Nome da Origem.2', 'Ciclo de Entrega', 'maior_ciclo_por_orgao', \n",
    "#    'ID CONTROLE', 'NOME CONTROLE', 'Valor_Indicador_Controle_Priv', 'Nivel_Maturidade_Controle_Priv'\n",
    "#]\n",
    "#df_consolidado = df_consolidado[colunas].rename(columns={\n",
    "#    'maior_ciclo_por_orgao': 'Ciclo de Entrega2'\n",
    "#})"
   ]
  },
  {
   "cell_type": "code",
   "execution_count": 14,
   "id": "e909d526-13e7-4f78-b02b-f51bb585d09b",
   "metadata": {},
   "outputs": [],
   "source": [
    "#mapa_maturidade = {\n",
    "#    'Inicial': '1. Inicial',\n",
    "#    'Básico': '2. Básico',\n",
    "#    'Intermediário': '3. Intermediário',\n",
    "#    'Em Aprimoramento': '4. Em Aprimoramento',\n",
    "#    'Aprimorardo': '5. Aprimorardo'   \n",
    "#}\n",
    "\n",
    "#df_consolidado['Nivel_Maturidade_Controle'] = df_consolidado['Nivel_Maturidade_Controle'].map(mapa_maturidade).fillna('')\n"
   ]
  },
  {
   "cell_type": "code",
   "execution_count": 15,
   "id": "26e3988f-a05f-4164-804f-4b27a9e54292",
   "metadata": {},
   "outputs": [],
   "source": [
    "#df_consolidado['Valor_Indicador_Controle'] = pd.to_numeric(df_consolidado['Valor_Indicador_Controle'], errors='coerce').round(2)"
   ]
  },
  {
   "cell_type": "code",
   "execution_count": 16,
   "id": "791cec89-8627-4b0d-85af-626af577214c",
   "metadata": {},
   "outputs": [],
   "source": [
    "#df_consolidado['Mais_Recente'] = np.where(df_consolidado['Ciclo de Entrega'] == df_consolidado['Ciclo de Entrega2'], 'Sim', 'Não')"
   ]
  },
  {
   "cell_type": "code",
   "execution_count": 17,
   "id": "f6281bbe-9bec-4b62-9d46-5f7dd8297cd7",
   "metadata": {},
   "outputs": [],
   "source": [
    "#df_consolidado['Mais_Recente_2'] = df_consolidado['Ciclo de Entrega'].astype(str) + df_consolidado['Ciclo de Entrega2'].astype(str)"
   ]
  },
  {
   "cell_type": "code",
   "execution_count": 18,
   "id": "95c2d83e-40ad-43ff-86fc-a446dcb5d54b",
   "metadata": {},
   "outputs": [],
   "source": [
    "#df_consolidado.info()"
   ]
  },
  {
   "cell_type": "code",
   "execution_count": 19,
   "id": "0c36d610-177c-4a18-82ed-f8dc6c8b89b8",
   "metadata": {},
   "outputs": [],
   "source": [
    "# Salva em Excel\n",
    "#df_consolidado.to_excel(r\"C:\\Projetos\\PPSI\\Doc_Apoio_BI\\INFOS_BI_2-Controles-Priv_C.xlsx\", sheet_name = \"INFOS_BI_2-Controles-Priv_C\", index=False)"
   ]
  },
  {
   "cell_type": "code",
   "execution_count": 20,
   "id": "e8610ff0-4fe8-406e-b68c-53855f6b6952",
   "metadata": {},
   "outputs": [],
   "source": [
    "#df_consolidado['Valor_Indicador_Controle'] = df_consolidado['Valor_Indicador_Controle'].apply(lambda x: f'{x:.2f}'.replace('.', ',') if pd.notnull(x) else '')"
   ]
  },
  {
   "cell_type": "code",
   "execution_count": 21,
   "id": "e4bf7abd-a793-467c-a278-a6ca0c08f508",
   "metadata": {},
   "outputs": [],
   "source": [
    "#df_consolidado['Valor_Indicador_Controle'] = pd.to_numeric(df_consolidado['Valor_Indicador_Controle'], errors='coerce').round(2)"
   ]
  },
  {
   "cell_type": "code",
   "execution_count": null,
   "id": "a40ad446-3608-461f-ba3b-47aeac593cf9",
   "metadata": {},
   "outputs": [],
   "source": []
  },
  {
   "cell_type": "code",
   "execution_count": 22,
   "id": "df5a6d8a-c7c5-43f2-a012-e008dc66b040",
   "metadata": {},
   "outputs": [],
   "source": [
    "df_consolidado = df_infos_bi_0"
   ]
  },
  {
   "cell_type": "code",
   "execution_count": null,
   "id": "e74452a8-7292-4c30-bf80-97e40e920e0b",
   "metadata": {},
   "outputs": [],
   "source": []
  },
  {
   "cell_type": "code",
   "execution_count": 23,
   "id": "cb7a1b95-bc2b-4567-9085-6335d8b9a44c",
   "metadata": {},
   "outputs": [],
   "source": [
    "df_consolidado['Ciclo_Entrega'] = df_consolidado['Ciclo_Entrega'].astype(str).str.strip().str.upper()\n"
   ]
  },
  {
   "cell_type": "code",
   "execution_count": 24,
   "id": "1340a07c-56c0-45b2-8903-3b7275230c74",
   "metadata": {},
   "outputs": [],
   "source": [
    "# Filtrar somente ciclos válidos que seguem o padrão \"C\" seguido de número\n",
    "ciclos_ordenados = sorted(\n",
    "    [c for c in df_consolidado['Ciclo_Entrega'].unique() if c.startswith('C') and c[1:].isdigit()],\n",
    "    key=lambda x: int(x[1:])\n",
    ")\n"
   ]
  },
  {
   "cell_type": "code",
   "execution_count": 25,
   "id": "0c8f3f31-494c-4039-b6d4-d98ce07e8287",
   "metadata": {},
   "outputs": [],
   "source": [
    "df_resultado = pd.DataFrame()\n",
    "chave = ['Nome da Origem.1', 'Tipo_Indicador']\n",
    "\n",
    "for i, ciclo in enumerate(ciclos_ordenados):\n",
    "    ciclos_ate_agora = ciclos_ordenados[:i+1]\n",
    "\n",
    "    df_filtrado = df_consolidado[df_consolidado['Ciclo_Entrega'].isin(ciclos_ate_agora)].copy()\n",
    "\n",
    "    # Mapeia a ordem dos ciclos dinamicamente\n",
    "    ordem_map = {c: idx for idx, c in enumerate(ciclos_ate_agora)}\n",
    "    df_filtrado['ordem_ciclo'] = df_filtrado['Ciclo_Entrega'].map(ordem_map)\n",
    "\n",
    "    # Ordena para pegar o mais recente por grupo\n",
    "    df_filtrado = (\n",
    "        df_filtrado\n",
    "        .sort_values(chave + ['ordem_ciclo'], ascending=[True]*len(chave) + [False])\n",
    "        .drop_duplicates(subset=chave, keep='first')\n",
    "    )\n",
    "\n",
    "    df_filtrado['Ciclo_Contexto'] = ciclo\n",
    "    df_resultado = pd.concat([df_resultado, df_filtrado.drop(columns='ordem_ciclo')], ignore_index=True)\n"
   ]
  },
  {
   "cell_type": "code",
   "execution_count": 26,
   "id": "a0f35408-5ed9-40ab-90de-d65df0002cae",
   "metadata": {},
   "outputs": [],
   "source": [
    "#colunas_para_remover = ['Mais_Recente', 'Mais_Recente_2', 'Ciclo de Entrega2']\n",
    "#df_resultado = df_resultado.drop(columns=colunas_para_remover, errors='ignore')\n"
   ]
  },
  {
   "cell_type": "code",
   "execution_count": 27,
   "id": "5102c69d-746f-4035-91be-c3cb0af992be",
   "metadata": {},
   "outputs": [
    {
     "name": "stdout",
     "output_type": "stream",
     "text": [
      "<class 'pandas.core.frame.DataFrame'>\n",
      "RangeIndex: 1400 entries, 0 to 1399\n",
      "Data columns (total 7 columns):\n",
      " #   Column            Non-Null Count  Dtype   \n",
      "---  ------            --------------  -----   \n",
      " 0   Tipo_Indicador    1400 non-null   object  \n",
      " 1   Valor_Indicador   1400 non-null   object  \n",
      " 2   Nivel_Maturidade  1369 non-null   category\n",
      " 3   Nome da Origem.1  1400 non-null   object  \n",
      " 4   Nome da Origem.2  1400 non-null   object  \n",
      " 5   Ciclo_Entrega     1400 non-null   object  \n",
      " 6   Ciclo_Contexto    1400 non-null   object  \n",
      "dtypes: category(1), object(6)\n",
      "memory usage: 67.3+ KB\n"
     ]
    }
   ],
   "source": [
    "df_resultado.info()"
   ]
  },
  {
   "cell_type": "code",
   "execution_count": 28,
   "id": "88650d50-591a-4f13-82c3-e9f34e801045",
   "metadata": {},
   "outputs": [],
   "source": [
    "# Salva em Excel\n",
    "#df_resultado.to_excel(r\"C:\\Projetos\\PPSI\\Doc_Apoio_BI\\INFOS_BI_2-Controles-Priv_Resultado_C.xlsx\", sheet_name = \"INFOS_BI_2-Controles-Priv_Resultado_C\", index=False)"
   ]
  },
  {
   "cell_type": "code",
   "execution_count": 29,
   "id": "0c21e2a3-a589-40f1-a54e-4eead6cea54b",
   "metadata": {},
   "outputs": [],
   "source": [
    "\n",
    "#df_resultado['Valor_Indicador_Controle_Priv'] = df_resultado['Valor_Indicador_Controle_Priv'].apply(lambda x: f'{x:.2f}'.replace('.', ',') if pd.notnull(x) else '')\n"
   ]
  },
  {
   "cell_type": "code",
   "execution_count": 30,
   "id": "9168ab39-b100-48fb-acd3-041cc3c6fadb",
   "metadata": {},
   "outputs": [],
   "source": [
    "#df_resultado['Valor_Indicador_Controle_Priv'] = pd.to_numeric(df_resultado['Valor_Indicador_Controle_Priv'], errors='coerce').round(2)"
   ]
  },
  {
   "cell_type": "code",
   "execution_count": 31,
   "id": "3c37d341-dd40-4111-8adb-c823f3dc6c30",
   "metadata": {},
   "outputs": [],
   "source": [
    "# Salva em Excel\n",
    "#df_resultado.to_csv(r\"C:\\Projetos\\PPSI\\Doc_Apoio_BI\\INFOS_BI_2-Controles-Priv_Resultado_C.csv\", index=False)"
   ]
  },
  {
   "cell_type": "code",
   "execution_count": 32,
   "id": "40c79788-69dc-4b02-9b9b-abea0484df99",
   "metadata": {},
   "outputs": [
    {
     "name": "stdout",
     "output_type": "stream",
     "text": [
      "<class 'pandas.core.frame.DataFrame'>\n",
      "RangeIndex: 1400 entries, 0 to 1399\n",
      "Data columns (total 7 columns):\n",
      " #   Column            Non-Null Count  Dtype   \n",
      "---  ------            --------------  -----   \n",
      " 0   Tipo_Indicador    1400 non-null   object  \n",
      " 1   Valor_Indicador   1400 non-null   object  \n",
      " 2   Nivel_Maturidade  1369 non-null   category\n",
      " 3   Nome da Origem.1  1400 non-null   object  \n",
      " 4   Nome da Origem.2  1400 non-null   object  \n",
      " 5   Ciclo_Entrega     1400 non-null   object  \n",
      " 6   Ciclo_Contexto    1400 non-null   object  \n",
      "dtypes: category(1), object(6)\n",
      "memory usage: 67.3+ KB\n"
     ]
    }
   ],
   "source": [
    "df_resultado.info()"
   ]
  },
  {
   "cell_type": "code",
   "execution_count": 33,
   "id": "0552fd49-1c1a-47a7-8d8f-e03ffc7ed8f9",
   "metadata": {},
   "outputs": [],
   "source": [
    "# Manter a coluna como float\n",
    "df_resultado['Valor_Indicador'] = pd.to_numeric(df_resultado['Valor_Indicador'], errors='coerce')\n",
    "\n",
    "# Exibir com vírgula (sem alterar tipo para 'object')\n",
    "df_resultado['Valor_Indicador'] = df_resultado['Valor_Indicador'].apply(lambda x: f'{x:.2f}'.replace('.', ',') if pd.notnull(x) else '')\n",
    "\n",
    "# Mostrar o DataFrame\n",
    "#print(df_resultado[['Valor_Indicador_Controle_Priv', 'Valor_Indicador_Controle_Priv_Formatado']])\n"
   ]
  },
  {
   "cell_type": "code",
   "execution_count": null,
   "id": "fbedb35f-4d5a-4df5-9709-0a5d4634c5ba",
   "metadata": {},
   "outputs": [],
   "source": []
  },
  {
   "cell_type": "code",
   "execution_count": null,
   "id": "88bba2ea-1be3-41d7-8e53-48b080efba13",
   "metadata": {},
   "outputs": [],
   "source": []
  },
  {
   "cell_type": "code",
   "execution_count": 34,
   "id": "9fdb2651-5926-479e-afaf-8323a5b1b3b5",
   "metadata": {},
   "outputs": [],
   "source": [
    "# 1. Converte colunas numéricas com vírgula decimal\n",
    "#for col in df_resultado.select_dtypes(include=['float', 'int']).columns:\n",
    "#    df_resultado[col] = df_resultado[col].map(lambda x: f\"{x:,.2f}\".replace('.', ',') if pd.notnull(x) else x)"
   ]
  },
  {
   "cell_type": "code",
   "execution_count": 35,
   "id": "f0fd3ecc-646c-482f-89a1-8eae509142e8",
   "metadata": {},
   "outputs": [],
   "source": [
    "#df_resultado['Valor_Indicador_Controle_Priv'] = pd.to_numeric(df_resultado['Valor_Indicador_Controle_Priv'], errors='coerce').round(2)"
   ]
  },
  {
   "cell_type": "code",
   "execution_count": null,
   "id": "5221c509-396e-477c-b606-6c80fadd0410",
   "metadata": {},
   "outputs": [],
   "source": []
  },
  {
   "cell_type": "code",
   "execution_count": null,
   "id": "9c576f5d-d721-490c-ad08-e3359d4e20aa",
   "metadata": {},
   "outputs": [],
   "source": []
  },
  {
   "cell_type": "code",
   "execution_count": null,
   "id": "4caab48d-19ee-4ae4-88d8-484a9077d894",
   "metadata": {},
   "outputs": [],
   "source": []
  },
  {
   "cell_type": "code",
   "execution_count": 36,
   "id": "efa4d0e2-008d-498f-9ac0-0bb8cdadf640",
   "metadata": {},
   "outputs": [],
   "source": [
    "# Substitui \"C1\" por \"Ciclo 1\", \"C2\" por \"Ciclo 2\", etc.\n",
    "df_infos_bi_0['Ciclo_Entrega'] = df_infos_bi_0['Ciclo_Entrega'].str.extract(r'(\\d+)')[0].astype(int).apply(lambda x: f'Ciclo {x}')"
   ]
  },
  {
   "cell_type": "code",
   "execution_count": 37,
   "id": "f49b9f8e-60fd-4756-b772-97d8ae6e5374",
   "metadata": {},
   "outputs": [],
   "source": [
    "# Salva em Excel\n",
    "df_infos_bi_0.to_excel(r\"C:\\Users\\denis\\OneDrive\\Documentos\\python\\meuambiente\\Scripts\\PPSI\\FONTE_PAINEL\\INFOS_BI_0-Indicadores_C.xlsx\", sheet_name = \"INFOS_BI_0-Indicadores_C\", index=False)"
   ]
  },
  {
   "cell_type": "code",
   "execution_count": null,
   "id": "9c5e2f96-d417-41a8-bbf2-a835e80aef53",
   "metadata": {},
   "outputs": [],
   "source": []
  },
  {
   "cell_type": "code",
   "execution_count": null,
   "id": "9dfd5f72-98ba-41bd-84ff-2fe9ba5bc340",
   "metadata": {},
   "outputs": [],
   "source": []
  },
  {
   "cell_type": "code",
   "execution_count": null,
   "id": "d38f9324-32e0-4dfc-b977-26b76c85f4a4",
   "metadata": {},
   "outputs": [],
   "source": []
  },
  {
   "cell_type": "code",
   "execution_count": null,
   "id": "a4091089-ec0c-45cb-a060-88d98ecf7e71",
   "metadata": {},
   "outputs": [],
   "source": []
  },
  {
   "cell_type": "code",
   "execution_count": 38,
   "id": "941c3669-2b4b-40d4-bd71-df60ab1930e9",
   "metadata": {},
   "outputs": [],
   "source": [
    "# Substitui \"C1\" por \"Ciclo 1\", \"C2\" por \"Ciclo 2\", etc.\n",
    "df_resultado['Ciclo_Entrega'] = df_resultado['Ciclo_Entrega'].str.extract(r'(\\d+)')[0].astype(int).apply(lambda x: f'Ciclo {x}')\n",
    "df_resultado['Ciclo_Contexto'] = df_resultado['Ciclo_Contexto'].str.extract(r'(\\d+)')[0].astype(int).apply(lambda x: f'Ciclo {x}')"
   ]
  },
  {
   "cell_type": "code",
   "execution_count": 39,
   "id": "19e3b678-1e48-4640-b9ea-59dbfaafaf67",
   "metadata": {},
   "outputs": [],
   "source": [
    "# Salva em Excel\n",
    "df_resultado.to_excel(r\"C:\\Users\\denis\\OneDrive\\Documentos\\python\\meuambiente\\Scripts\\PPSI\\FONTE_PAINEL\\INFOS_BI_0-Indicadores_Recente.xlsx\", sheet_name = \"INFOS_BI_0-Indicadores_Recente\", index=False)"
   ]
  },
  {
   "cell_type": "code",
   "execution_count": 40,
   "id": "c8b9c887-71d4-4d3d-a1d5-94469b865704",
   "metadata": {},
   "outputs": [],
   "source": [
    "# Salvando o DataFrame em CSV com o separador correto e garantindo que o ID seja tratado como texto\n",
    "#df_resultado.to_csv(r\"C:\\Users\\denis\\OneDrive\\Documentos\\python\\meuambiente\\Scripts\\PPSI\\FONTE_PAINEL\\INFOS_BI_0-Indicadores_Recente.csv\",\n",
    "#    sep=';',  # Usando ponto e vírgula como separador (dependendo da configuração regional)\n",
    "#    index=False,  # Não incluir o índice\n",
    "#    encoding='utf-8-sig',  # Codificação para garantir compatibilidade com o Excel\n",
    "#    float_format=\"%.2f\",  # Formato de números com 2 casas decimais\n",
    "#    quotechar='\"',  # Envolver os campos em aspas para garantir que os valores não sejam alterados\n",
    "#    quoting=1  # Forçar o uso de aspas\n",
    "#)"
   ]
  },
  {
   "cell_type": "code",
   "execution_count": 41,
   "id": "f050706c-c51b-4759-9fb0-ab8baf42c7a7",
   "metadata": {},
   "outputs": [
    {
     "data": {
      "text/html": [
       "<div>\n",
       "<style scoped>\n",
       "    .dataframe tbody tr th:only-of-type {\n",
       "        vertical-align: middle;\n",
       "    }\n",
       "\n",
       "    .dataframe tbody tr th {\n",
       "        vertical-align: top;\n",
       "    }\n",
       "\n",
       "    .dataframe thead th {\n",
       "        text-align: right;\n",
       "    }\n",
       "</style>\n",
       "<table border=\"1\" class=\"dataframe\">\n",
       "  <thead>\n",
       "    <tr style=\"text-align: right;\">\n",
       "      <th></th>\n",
       "      <th>Tipo_Indicador</th>\n",
       "      <th>Valor_Indicador</th>\n",
       "      <th>Nivel_Maturidade</th>\n",
       "      <th>Nome da Origem.1</th>\n",
       "      <th>Nome da Origem.2</th>\n",
       "      <th>Ciclo_Entrega</th>\n",
       "      <th>Ciclo_Contexto</th>\n",
       "    </tr>\n",
       "  </thead>\n",
       "  <tbody>\n",
       "    <tr>\n",
       "      <th>0</th>\n",
       "      <td>IPRIV</td>\n",
       "      <td>0,52</td>\n",
       "      <td>3. Intermediário</td>\n",
       "      <td>ABIN</td>\n",
       "      <td>C1-ABIN-Ferramenta_frameworkpsi_pt-3-basica-se...</td>\n",
       "      <td>Ciclo 1</td>\n",
       "      <td>Ciclo 1</td>\n",
       "    </tr>\n",
       "    <tr>\n",
       "      <th>1</th>\n",
       "      <td>ISEG</td>\n",
       "      <td>0,73</td>\n",
       "      <td>4. Em Aprimoramento</td>\n",
       "      <td>ABIN</td>\n",
       "      <td>C1-ABIN-Ferramenta_frameworkpsi_pt-3-basica-se...</td>\n",
       "      <td>Ciclo 1</td>\n",
       "      <td>Ciclo 1</td>\n",
       "    </tr>\n",
       "    <tr>\n",
       "      <th>2</th>\n",
       "      <td>IPRIV</td>\n",
       "      <td>0,41</td>\n",
       "      <td>2. Básico</td>\n",
       "      <td>AEB</td>\n",
       "      <td>C1-AEB-PPSI - Ciclo 1 - Framework.xlsx</td>\n",
       "      <td>Ciclo 1</td>\n",
       "      <td>Ciclo 1</td>\n",
       "    </tr>\n",
       "    <tr>\n",
       "      <th>3</th>\n",
       "      <td>ISEG</td>\n",
       "      <td>0,73</td>\n",
       "      <td>4. Em Aprimoramento</td>\n",
       "      <td>AEB</td>\n",
       "      <td>C1-AEB-PPSI - Ciclo 1 - Framework.xlsx</td>\n",
       "      <td>Ciclo 1</td>\n",
       "      <td>Ciclo 1</td>\n",
       "    </tr>\n",
       "    <tr>\n",
       "      <th>4</th>\n",
       "      <td>IPRIV</td>\n",
       "      <td>0,23</td>\n",
       "      <td>1. Inicial</td>\n",
       "      <td>AGU</td>\n",
       "      <td>C1-AGU-Cópia de PPSI-AGU-Framework_Ciclo_1-em ...</td>\n",
       "      <td>Ciclo 1</td>\n",
       "      <td>Ciclo 1</td>\n",
       "    </tr>\n",
       "  </tbody>\n",
       "</table>\n",
       "</div>"
      ],
      "text/plain": [
       "  Tipo_Indicador Valor_Indicador     Nivel_Maturidade Nome da Origem.1  \\\n",
       "0          IPRIV            0,52     3. Intermediário             ABIN   \n",
       "1           ISEG            0,73  4. Em Aprimoramento             ABIN   \n",
       "2          IPRIV            0,41            2. Básico              AEB   \n",
       "3           ISEG            0,73  4. Em Aprimoramento              AEB   \n",
       "4          IPRIV            0,23           1. Inicial              AGU   \n",
       "\n",
       "                                    Nome da Origem.2 Ciclo_Entrega  \\\n",
       "0  C1-ABIN-Ferramenta_frameworkpsi_pt-3-basica-se...       Ciclo 1   \n",
       "1  C1-ABIN-Ferramenta_frameworkpsi_pt-3-basica-se...       Ciclo 1   \n",
       "2             C1-AEB-PPSI - Ciclo 1 - Framework.xlsx       Ciclo 1   \n",
       "3             C1-AEB-PPSI - Ciclo 1 - Framework.xlsx       Ciclo 1   \n",
       "4  C1-AGU-Cópia de PPSI-AGU-Framework_Ciclo_1-em ...       Ciclo 1   \n",
       "\n",
       "  Ciclo_Contexto  \n",
       "0        Ciclo 1  \n",
       "1        Ciclo 1  \n",
       "2        Ciclo 1  \n",
       "3        Ciclo 1  \n",
       "4        Ciclo 1  "
      ]
     },
     "execution_count": 41,
     "metadata": {},
     "output_type": "execute_result"
    }
   ],
   "source": [
    "df_resultado.head()"
   ]
  },
  {
   "cell_type": "code",
   "execution_count": 42,
   "id": "fd1d7e3e-2665-4efd-bc74-b268a0d9cf7c",
   "metadata": {},
   "outputs": [
    {
     "name": "stdout",
     "output_type": "stream",
     "text": [
      "2025-05-27 09:26:37.034554\n",
      "2025-05-27 09:29:31.375239\n",
      "0:02:54.340685\n"
     ]
    }
   ],
   "source": [
    "dh_termino = datetime.today()\n",
    "duracao = dh_termino - dh_inicio\n",
    "print(dh_inicio)\n",
    "print(dh_termino)\n",
    "print(duracao)"
   ]
  },
  {
   "cell_type": "code",
   "execution_count": 43,
   "id": "cef7bfd5-a3e6-4417-b08f-90d315772e5b",
   "metadata": {},
   "outputs": [
    {
     "name": "stdout",
     "output_type": "stream",
     "text": [
      "Tipo_Indicador: 0 vazios\n",
      "Valor_Indicador: 31 vazios\n",
      "Nivel_Maturidade: 31 vazios\n",
      "Nome da Origem.1: 0 vazios\n",
      "Nome da Origem.2: 0 vazios\n",
      "Ciclo_Entrega: 0 vazios\n"
     ]
    }
   ],
   "source": [
    "colunas1 = [\n",
    "            'Tipo_Indicador', 'Valor_Indicador', 'Nivel_Maturidade', 'Nome da Origem.1', \n",
    "            'Nome da Origem.2', 'Ciclo_Entrega'\n",
    "        ] \n",
    "df = df_resultado\n",
    "for col in colunas1:\n",
    "    if col in df.columns:\n",
    "        vazios = df[col].isnull().sum() + (df[col].astype(str).str.strip() == '').sum()\n",
    "        print(f\"{col}: {vazios} vazios\")\n",
    "    else:\n",
    "        print(f\"Coluna '{col}' não encontrada\")"
   ]
  }
 ],
 "metadata": {
  "kernelspec": {
   "display_name": "Python 3 (ipykernel)",
   "language": "python",
   "name": "python3"
  },
  "language_info": {
   "codemirror_mode": {
    "name": "ipython",
    "version": 3
   },
   "file_extension": ".py",
   "mimetype": "text/x-python",
   "name": "python",
   "nbconvert_exporter": "python",
   "pygments_lexer": "ipython3",
   "version": "3.12.7"
  }
 },
 "nbformat": 4,
 "nbformat_minor": 5
}
